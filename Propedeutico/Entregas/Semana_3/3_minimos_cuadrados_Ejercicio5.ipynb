{
 "cells": [
  {
   "cell_type": "markdown",
   "metadata": {},
   "source": [
    "# Mínimos cuadrados lineales\n",
    "**Nota:** Los siguientes ejercicios están basados en las notas de clase disponibles en: https://github.com/ITAM-DS/Propedeutico/blob/master/Python/clases/3_algebra_lineal/3_minimos_cuadrados.ipynb"
   ]
  },
  {
   "cell_type": "markdown",
   "metadata": {},
   "source": [
    "## Ejercicio 5:\n",
    "Consulta la página del INEGI para obtener los datos de la población total de México en los años de 1950 a 2010 (cada 10 años) y ajusta modelos polinomiales de grados: 1, 3, 6 y spline's cúbicos. Realiza una gráfica que involucre los datos y las curvas de cada modelo. Estima la población en los años 1940, 1995 y 2020 para cada modelo y calcula tu error de estimación si la población en México en 1940 era de 19,653,552 y en 1995 de 91,158,290. Compara tu estimación para 2020 con los datos de 2018."
   ]
  },
  {
   "cell_type": "code",
   "execution_count": 1,
   "metadata": {},
   "outputs": [],
   "source": [
    "import numpy as np\n",
    "import matplotlib.pyplot as plt\n",
    "from matplotlib import colors as mcolors\n",
    "import pprint\n",
    "np.set_printoptions(precision = 4)"
   ]
  },
  {
   "cell_type": "code",
   "execution_count": 4,
   "metadata": {},
   "outputs": [
    {
     "name": "stdout",
     "output_type": "stream",
     "text": [
      "array([[1.9500e+03, 2.5791e+07],\n",
      "       [1.9600e+03, 3.4923e+07],\n",
      "       [1.9700e+03, 4.8225e+07],\n",
      "       [1.9800e+03, 6.6847e+07],\n",
      "       [1.9900e+03, 8.1250e+07],\n",
      "       [2.0000e+03, 9.7483e+07],\n",
      "       [2.0100e+03, 1.1234e+08]])\n"
     ]
    }
   ],
   "source": [
    "mat_mex = np.loadtxt('poblacion_inegi.txt', skiprows=1)\n",
    "pprint.pprint(mat_mex)\n",
    "año = mat_mex[:, 0]\n",
    "pob = mat_mex[:, 1]\n",
    "\n",
    "pobs_1940 = 19653552 \n",
    "pobs_1995 = 91158290\n",
    "pobs_2018 = 124738000 # No son datos INEGI. Fuente: https://datosmacro.expansion.com/demografia/poblacion/mexico         "
   ]
  },
  {
   "cell_type": "markdown",
   "metadata": {},
   "source": [
    "Dado que son polinomios de grado n, podemos usar la función polyfit de numpy."
   ]
  },
  {
   "cell_type": "markdown",
   "metadata": {},
   "source": [
    "### Modelo polinomial de grado 1"
   ]
  },
  {
   "cell_type": "code",
   "execution_count": 5,
   "metadata": {},
   "outputs": [],
   "source": [
    "ngrado_m1 = 1\n",
    "coef_m1 = np.polyfit(año, pob, ngrado_m1)\n",
    "y_mod1 = (coef_m1[1]*(año**0) + \n",
    "          coef_m1[0]*(año**1))"
   ]
  },
  {
   "cell_type": "code",
   "execution_count": 6,
   "metadata": {},
   "outputs": [],
   "source": [
    "# Elementos de formato para gráficas\n",
    "ejey = np.arange(0.2e8, 1.4e8, step=0.2e8)\n",
    "ejey_list = ['20M', '40M', '60M', '80M', '100M', '120M']"
   ]
  },
  {
   "cell_type": "code",
   "execution_count": 7,
   "metadata": {},
   "outputs": [
    {
     "data": {
      "image/png": "[encoded data removed]",
      "text/plain": [
       "<Figure size 432x288 with 1 Axes>"
      ]
     },
     "metadata": {
      "needs_background": "light"
     },
     "output_type": "display_data"
    },
    {
     "name": "stdout",
     "output_type": "stream",
     "text": [
      "--------------------------------\n",
      "Modelo 1: Polinomio con 1 grados\n",
      "--------------------------------\n",
      "poblacion = \n",
      "1492076.91*año^1\n",
      "-2887618602.86*año^0\n",
      "--------------------------------\n",
      "------------------------------------------\n",
      "Estimación de la población total en México\n",
      "------------------------------------------\n",
      "1940: 7.01M\n",
      "1995: 89.07M\n",
      "2020: 126.38M\n",
      "------------------------------------------\n",
      "---------------------\n",
      "Errores de estimación\n",
      "---------------------\n",
      "1940: 12.64M\n",
      "1995: 2.08M\n",
      "2018vs2020(est) :-1.64M\n",
      "---------------------\n"
     ]
    }
   ],
   "source": [
    "# Gráfica\n",
    "plt.yticks(ticks=ejey, labels=ejey_list)\n",
    "plt.plot(año, pob,'gh')\n",
    "plt.plot(año, y_mod1,'b-', linewidth=1.0)\n",
    "plt.legend(('Datos', 'Modelo 1'), loc='best')\n",
    "plt.title('Población Total de México: 1950 - 2010', fontweight=\"bold\")\n",
    "plt.gca().yaxis.grid(True) # líneas hs en los ejes\n",
    "\n",
    "plt.show()\n",
    "\n",
    "# Tabla del modelo:\n",
    "index_coef_m1 = np.arange(ngrado_m1, -1, -1)\n",
    "tab_mod1_str = str(f\"Modelo 1: Polinomio con {ngrado_m1} grados\")\n",
    "print('-'*len(tab_mod1_str)); print(tab_mod1_str); print('-'*len(tab_mod1_str)); \n",
    "print('poblacion = ')\n",
    "for a, b in zip(index_coef_m1, coef_m1):\n",
    "    print(f\"{'{0:.2f}'.format(b)}*año^{a}\")\n",
    "print('-'*len(tab_mod1_str))\n",
    "          \n",
    "# Tabla de estimaciones\n",
    "m1_1940 = np.polyval(coef_m1, 1940)\n",
    "m1_1995 = np.polyval(coef_m1, 1995)\n",
    "m1_2020 = np.polyval(coef_m1, 2020)\n",
    "                   \n",
    "est_mod1_str = str('Estimación de la población total en México')\n",
    "print('-'*len(est_mod1_str)); print(est_mod1_str); print('-'*len(est_mod1_str)); \n",
    "print(f\"1940: {'{0:.2f}'.format(m1_1940/1e6)}M\")\n",
    "print(f\"1995: {'{0:.2f}'.format(m1_1995/1e6) }M\")\n",
    "print(f\"2020: {'{0:.2f}'.format(m1_2020/1e6) }M\")\n",
    "print('-'*len(est_mod1_str))  \n",
    "      \n",
    "# Tabla de Errores de estimación\n",
    "errs_str = str('Errores de estimación')\n",
    "print('-'*len(errs_str)); print(errs_str); print('-'*len(errs_str)); \n",
    "print(f\"1940: {'{0:.2f}'.format((pobs_1940-m1_1940)/1e6)}M\")\n",
    "print(f\"1995: {'{0:.2f}'.format((pobs_1995-m1_1995)/1e6) }M\")\n",
    "print(f\"2018vs2020(est) :{'{0:.2f}'.format((pobs_2018-m1_2020)/1e6) }M\")\n",
    "print('-'*len(errs_str)) "
   ]
  },
  {
   "cell_type": "markdown",
   "metadata": {},
   "source": [
    "### Modelo polinomial de grado 3"
   ]
  },
  {
   "cell_type": "code",
   "execution_count": 6,
   "metadata": {},
   "outputs": [],
   "source": [
    "ngrado_m2 = 3\n",
    "coef_m2 = np.polyfit(año, pob, ngrado_m2)\n",
    "y_mod2 = (coef_m2[3] +\n",
    "          coef_m2[2]*año + \n",
    "          coef_m2[1]*(año**2) + \n",
    "          coef_m2[0]*(año**3))"
   ]
  },
  {
   "cell_type": "code",
   "execution_count": 15,
   "metadata": {},
   "outputs": [
    {
     "data": {
      "image/png": "[encoded data removed]",
      "text/plain": [
       "<Figure size 432x288 with 1 Axes>"
      ]
     },
     "metadata": {
      "needs_background": "light"
     },
     "output_type": "display_data"
    },
    {
     "name": "stdout",
     "output_type": "stream",
     "text": [
      "--------------------------------\n",
      "Modelo 2: Polinomio con 3 grados\n",
      "--------------------------------\n",
      "poblacion = \n",
      "-251.09*año^3\n",
      "1495608.81*año^2\n",
      "-2967846549.00*año^1\n",
      "1962060109318.68*año^0\n",
      "--------------------------------\n",
      "------------------------------------------\n",
      "Estimación de la población total en México\n",
      "------------------------------------------\n",
      "1940: 21.02M\n",
      "1995: 90.14M\n",
      "2020: 122.31M\n",
      "------------------------------------------\n",
      "---------------------\n",
      "Errores de estimación\n",
      "---------------------\n",
      "1940: -1.37M\n",
      "1995: 1.02M\n",
      "2018vs2020(est) :2.43M\n",
      "---------------------\n"
     ]
    }
   ],
   "source": [
    "# Gráfica\n",
    "plt.yticks(ticks=ejey, labels=ejey_list)\n",
    "plt.plot(año, pob,'k^')\n",
    "plt.plot(año, y_mod2,'r-', linewidth=1.0)\n",
    "plt.legend(('Datos', 'Modelo 2'), loc='best')\n",
    "plt.title('Población Total de México: 1950 - 2010', fontweight=\"bold\")\n",
    "plt.gca().yaxis.grid(True)\n",
    "plt.show()\n",
    "\n",
    "# Tabla del modelo:\n",
    "index_coef_m2 = np.arange(ngrado_m2, -1, -1)\n",
    "tab_mod2_str = str(f\"Modelo 2: Polinomio con {ngrado_m2} grados\")\n",
    "print('-'*len(tab_mod2_str)); print(tab_mod2_str); print('-'*len(tab_mod2_str)); \n",
    "print('poblacion = ')\n",
    "for a, b in zip(index_coef_m2, coef_m2):\n",
    "    print(f\"{'{0:.2f}'.format(b)}*año^{a}\")\n",
    "print('-'*len(tab_mod1_str))\n",
    "          \n",
    "# Tabla de Estimaciones\n",
    "m2_1940 = np.polyval(coef_m2, 1940)\n",
    "m2_1995 = np.polyval(coef_m2, 1995)\n",
    "m2_2020 = np.polyval(coef_m2, 2020)\n",
    "                   \n",
    "est_mod2_str = str('Estimación de la población total en México')\n",
    "print('-'*len(est_mod2_str)); print(est_mod1_str); print('-'*len(est_mod2_str)); \n",
    "print(f\"1940: {'{0:.2f}'.format(m2_1940/1e6)}M\")\n",
    "print(f\"1995: {'{0:.2f}'.format(m2_1995/1e6) }M\")\n",
    "print(f\"2020: {'{0:.2f}'.format(m2_2020/1e6) }M\")\n",
    "print('-'*len(est_mod2_str))  \n",
    "      \n",
    "# Errores de estimación\n",
    "errs_str = str('Errores de estimación')\n",
    "print('-'*len(errs_str)); print(errs_str); print('-'*len(errs_str)); \n",
    "print(f\"1940: {'{0:.2f}'.format((pobs_1940-m2_1940)/1e6)}M\")\n",
    "print(f\"1995: {'{0:.2f}'.format((pobs_1995-m2_1995)/1e6) }M\")\n",
    "print(f\"2018vs2020(est) :{'{0:.2f}'.format((pobs_2018-m2_2020)/1e6) }M\")\n",
    "print('-'*len(errs_str))"
   ]
  },
  {
   "cell_type": "markdown",
   "metadata": {},
   "source": [
    "### Modelo polinomial de grado 6"
   ]
  },
  {
   "cell_type": "code",
   "execution_count": 8,
   "metadata": {},
   "outputs": [],
   "source": [
    "ngrado_m3 = 6\n",
    "coef_m3 = np.polyfit(año, pob, ngrado_m3)\n",
    "y_mod3 = (coef_m3[6]*(año**0) +\n",
    "          coef_m3[5]*(año**1) + \n",
    "          coef_m3[4]*(año**2) + \n",
    "          coef_m3[3]*(año**3) +\n",
    "          coef_m3[2]*(año**4) +\n",
    "          coef_m3[1]*(año**5) +\n",
    "          coef_m3[0]*(año**6))"
   ]
  },
  {
   "cell_type": "code",
   "execution_count": 14,
   "metadata": {},
   "outputs": [
    {
     "data": {
      "image/png": "[encoded data removed]",
      "text/plain": [
       "<Figure size 432x288 with 1 Axes>"
      ]
     },
     "metadata": {
      "needs_background": "light"
     },
     "output_type": "display_data"
    },
    {
     "name": "stdout",
     "output_type": "stream",
     "text": [
      "--------------------------------\n",
      "Modelo 3: Polinomio con 6 grados\n",
      "--------------------------------\n",
      "poblacion = \n",
      "-0.07*año^6\n",
      "840.17*año^5\n",
      "-4159029.45*año^4\n",
      "10980093958.35*año^3\n",
      "-16305427162988.09*año^2\n",
      "12913577071181062.00*año^1\n",
      "-4261271546477308928.00*año^0\n",
      "--------------------------------\n",
      "------------------------------------------\n",
      "Estimación de la población total en México\n",
      "------------------------------------------\n",
      "1940: -68.24M\n",
      "1995: 88.49M\n",
      "2020: 37.67M\n",
      "------------------------------------------\n",
      "---------------------\n",
      "Errores de estimación\n",
      "---------------------\n",
      "1940: 87.89803M\n",
      "1995: 2.66472M\n",
      "2018vs2020(est): 87.06965M\n",
      "---------------------\n"
     ]
    }
   ],
   "source": [
    "# Gráfica\n",
    "plt.yticks(ticks=ejey, labels=ejey_list)\n",
    "plt.plot(año, pob,'k^')\n",
    "plt.plot(año, y_mod3,'g-', linewidth=1.0)\n",
    "plt.legend(('Datos', 'Modelo 3'), loc='best')\n",
    "plt.title('Población Total de México: 1950 - 2010', fontweight=\"bold\")\n",
    "plt.gca().yaxis.grid(True)\n",
    "\n",
    "plt.show()\n",
    "\n",
    "# Tabla del modelo:\n",
    "index_coef_m3 = np.arange(ngrado_m3, -1, -1)\n",
    "tab_mod3_str = str(f\"Modelo 3: Polinomio con {ngrado_m3} grados\")\n",
    "print('-'*len(tab_mod2_str)); print(tab_mod3_str); print('-'*len(tab_mod3_str)); \n",
    "print('poblacion = ')\n",
    "for a, b in zip(index_coef_m3, coef_m3):\n",
    "    print(f\"{'{0:.2f}'.format(b)}*año^{a}\")\n",
    "print('-'*len(tab_mod1_str))\n",
    "          \n",
    "# Tabla de Estimaciones\n",
    "m3_1940 = np.polyval(coef_m3, 1940)\n",
    "m3_1995 = np.polyval(coef_m3, 1995)\n",
    "m3_2020 = np.polyval(coef_m3, 2020)\n",
    "                   \n",
    "est_mod3_str = str('Estimación de la población total en México')\n",
    "print('-'*len(est_mod3_str)); print(est_mod1_str); print('-'*len(est_mod3_str)); \n",
    "print(f\"1940: {'{0:.2f}'.format(m3_1940/1e6)}M\")\n",
    "print(f\"1995: {'{0:.2f}'.format(m3_1995/1e6)}M\")\n",
    "print(f\"2020: {'{0:.2f}'.format(m3_2020/1e6)}M\")\n",
    "print('-'*len(est_mod3_str))  \n",
    "      \n",
    "# Errores de estimación\n",
    "errs_str = str('Errores de estimación')\n",
    "print('-'*len(errs_str)); print(errs_str); print('-'*len(errs_str)); \n",
    "print(f\"1940: {'{0:.5f}'.format((pobs_1940-m3_1940)/1e6)}M\")\n",
    "print(f\"1995: {'{0:.5f}'.format((pobs_1995-m3_1995)/1e6)}M\")\n",
    "print(f\"2018vs2020(est): {'{0:.5f}'.format((pobs_2018-m3_2020)/1e6)}M\")\n",
    "print('-'*len(errs_str))"
   ]
  },
  {
   "cell_type": "markdown",
   "metadata": {},
   "source": [
    "### Spline cúbico"
   ]
  },
  {
   "cell_type": "code",
   "execution_count": 17,
   "metadata": {},
   "outputs": [],
   "source": [
    "from scipy.interpolate import interp1d\n",
    "y_mod4 = interp1d(año, pob, kind = 'cubic', fill_value='extrapolate')\n",
    "yeval = y_mod4(año)"
   ]
  },
  {
   "cell_type": "code",
   "execution_count": 19,
   "metadata": {},
   "outputs": [
    {
     "data": {
      "image/png": "[encoded data removed]",
      "text/plain": [
       "<Figure size 432x288 with 1 Axes>"
      ]
     },
     "metadata": {
      "needs_background": "light"
     },
     "output_type": "display_data"
    },
    {
     "name": "stdout",
     "output_type": "stream",
     "text": [
      "------------------------------------------\n",
      "Estimación de la población total en México\n",
      "------------------------------------------\n",
      "1940: 15.54M\n",
      "1995: 89.10M\n",
      "2020: 118.81M\n",
      "------------------------------------------\n",
      "---------------------\n",
      "Errores de estimación\n",
      "---------------------\n",
      "1940: 4.12M\n",
      "1995: 2.06M\n",
      "2018vs2020(est): 5.93M\n",
      "---------------------\n"
     ]
    }
   ],
   "source": [
    "# Gráfica\n",
    "plt.yticks(ticks=ejey, labels=ejey_list)\n",
    "plt.plot(año, pob,'k^')\n",
    "plt.plot(año, yeval,'c-', linewidth=1.0)\n",
    "plt.legend(('Datos', 'Spline'), loc='best')\n",
    "plt.title('Población Total de México: 1950 - 2010', fontweight=\"bold\")\n",
    "plt.gca().yaxis.grid(True)\n",
    "\n",
    "plt.show()\n",
    "\n",
    "# Tabla de Estimaciones\n",
    "m4_1940, m4_1995, m4_2020 = y_mod4([1940, 1995, 2020])\n",
    "                   \n",
    "est_mod4_str = str('Estimación de la población total en México')\n",
    "print('-'*len(est_mod4_str)); print(est_mod1_str); print('-'*len(est_mod4_str)); \n",
    "print(f\"1940: {'{0:.2f}'.format(m4_1940/1e6)}M\")\n",
    "print(f\"1995: {'{0:.2f}'.format(m4_1995/1e6)}M\")\n",
    "print(f\"2020: {'{0:.2f}'.format(m4_2020/1e6)}M\")\n",
    "print('-'*len(est_mod4_str))  \n",
    "      \n",
    "# Errores de estimación\n",
    "errs_str = str('Errores de estimación')\n",
    "print('-'*len(errs_str)); print(errs_str); print('-'*len(errs_str)); \n",
    "print(f\"1940: {'{0:.2f}'.format((pobs_1940-m4_1940)/1e6)}M\")\n",
    "print(f\"1995: {'{0:.2f}'.format((pobs_1995-m4_1995)/1e6) }M\")\n",
    "print(f\"2018vs2020(est): {'{0:.2f}'.format((pobs_2018-m4_2020)/1e6)}M\")\n",
    "print('-'*len(errs_str))"
   ]
  }
 ],
 "metadata": {
  "kernelspec": {
   "display_name": "Python 3",
   "language": "python",
   "name": "python3"
  },
  "language_info": {
   "codemirror_mode": {
    "name": "ipython",
    "version": 3
   },
   "file_extension": ".py",
   "mimetype": "text/x-python",
   "name": "python",
   "nbconvert_exporter": "python",
   "pygments_lexer": "ipython3",
   "version": "3.6.8"
  }
 },
 "nbformat": 4,
 "nbformat_minor": 2
}
