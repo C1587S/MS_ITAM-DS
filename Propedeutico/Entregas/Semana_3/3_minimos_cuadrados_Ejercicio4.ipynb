{
 "cells": [
  {
   "cell_type": "markdown",
   "metadata": {},
   "source": [
    "# Mínimos cuadrados\n",
    "**Nota:** Los siguientes ejercicios están basados en las notas de clase disponibles en: https://github.com/ITAM-DS/Propedeutico/blob/master/Python/clases/3_algebra_lineal/3_minimos_cuadrados.ipynb"
   ]
  },
  {
   "cell_type": "markdown",
   "metadata": {},
   "source": [
    "## Ejercicio 4:\n",
    "\n",
    "Ajusta por mínimos cuadrados dos modelos de la forma:<br><br>\n",
    "**Modelo 1:** $log(y)=log(b)+alog(x)$<br>\n",
    "**Modelo 2:** $log(y)=log(b)+alog(x)+clog(x)^{2}$ \n",
    "<br><br>\n",
    "Realizar una gráfica que involucre los datos y los tres modelos. Calcula el $ECM$ de ambos modelos y responde, ¿cuál es el modelo con menor $ECM$?\n"
   ]
  },
  {
   "cell_type": "code",
   "execution_count": 10,
   "metadata": {},
   "outputs": [],
   "source": [
    "import numpy as np\n",
    "import matplotlib.pyplot as plt\n",
    "from matplotlib import colors as mcolors\n",
    "import pprint\n",
    "np.set_printoptions(precision = 4)"
   ]
  },
  {
   "cell_type": "code",
   "execution_count": 11,
   "metadata": {},
   "outputs": [],
   "source": [
    "# Calculo del ECM\n",
    "def cal_ecm(y, yhat): \n",
    "    ecm = 0\n",
    "    for a, b in zip(y,yhat):\n",
    "        resid_sq = (a-b)**2\n",
    "        ecm += resid_sq\n",
    "    return ecm"
   ]
  },
  {
   "cell_type": "code",
   "execution_count": 44,
   "metadata": {},
   "outputs": [],
   "source": [
    "# importar la base de datos y disponible en: https://drive.google.com/file/d/1cnrwEqDmkJBKxkobDEMad7-RIoozEqCJ/view\n",
    "datos = np.loadtxt('datos_para_tarea_minimos_cuadrados.txt', skiprows=1)\n",
    "y_o = datos[:, 1]\n",
    "y = np.log(y_o)\n",
    "x = datos[:, 0]\n",
    "mpoints, = x.shape"
   ]
  },
  {
   "cell_type": "markdown",
   "metadata": {},
   "source": [
    "## Modelo 1\n",
    "Considere el modelo 1, expresado a continuación:\n",
    "$$log(y)=log(b)+alog(x)$$\n",
    "<br>\n",
    "Note que estimar el anterior modelo, es equivalente a estimar la siguiente ecuación:\n",
    "$$y = bx^{a}$$ \n",
    "<br>"
   ]
  },
  {
   "cell_type": "code",
   "execution_count": 56,
   "metadata": {},
   "outputs": [
    {
     "name": "stdout",
     "output_type": "stream",
     "text": [
      "[-2.0808 -1.141  -0.742   0.3247  0.5835  1.0755  1.2407  1.2922 -1.8588\n",
      " -1.0007 -0.631   0.2641  0.9009  1.1016  1.1406  1.153  -1.9873 -1.1544\n",
      " -0.752   0.4112  0.9047  1.1029  1.2247 -1.9873 -0.9607 -0.6337  0.4245\n",
      "  0.9589  1.2439 -1.8588 -0.5739  0.1238  0.4374  0.5667  0.847   1.1712\n",
      "  1.2491]\n",
      "--------------------\n",
      "[-2.0808 -1.141  -0.742   0.3247  0.5835  1.0755  1.2407  1.2922 -1.8588\n",
      " -1.0007 -0.631   0.2641  0.9009  1.1016  1.1406  1.153  -1.9873 -1.1544\n",
      " -0.752   0.4112  0.9047  1.1029  1.2247 -1.9873 -0.9607 -0.6337  0.4245\n",
      "  0.9589  1.2439 -1.8588 -0.5739  0.1238  0.4374  0.5667  0.847   1.1712\n",
      "  1.2491]\n",
      "--------------------\n",
      "0.26464763861898394 0.5756426027724945\n"
     ]
    }
   ],
   "source": [
    "# Modelo 1\n",
    "log_tnsf = lambda x: np.log(x)\n",
    "\n",
    "A_m1 = np.ones((mpoints, 2))\n",
    "A_m1[:, 1] = np.log(x)\n",
    "\n",
    "Q_m1,R_m1 = np.linalg.qr(A_m1) \n",
    "beta_m1 = np.linalg.solve(R_m1, Q_m1.T@y) \n",
    "yhat_m1 = A_m1@beta_m1\n",
    "\n",
    "print(yhat_m1)\n",
    "print('-'*20)\n",
    "print(beta_m1[0]+ beta_m1[1]*np.log(x))\n",
    "print('-'*20)\n",
    "print(beta_m1[0] , beta_m1[1])"
   ]
  },
  {
   "cell_type": "code",
   "execution_count": 82,
   "metadata": {},
   "outputs": [
    {
     "data": {
      "image/png": "[encoded data removed]",
      "text/plain": [
       "<Figure size 432x288 with 1 Axes>"
      ]
     },
     "metadata": {
      "needs_background": "light"
     },
     "output_type": "display_data"
    }
   ],
   "source": [
    "# Gráfica\n",
    "plt.plot(np.log(x), yhat_m1,'.', color='tab:red', linewidth=1.0) # yhat(log(x))\n",
    "plt.plot(np.log(x), np.log(y_o),'o', color='tab:blue') # logy(log(x))\n",
    "plt.legend(('Modelo 1: $log(y)=log(b)+alog(x)$', 'Datos'), loc='best')\n",
    "plt.xlabel('$log(x)$'); plt.ylabel('$log(y)$')\n",
    "plt.grid(True)\n",
    "\n",
    "plt.show()"
   ]
  },
  {
   "cell_type": "markdown",
   "metadata": {},
   "source": [
    "## Modelo 2\n",
    "Considere el modelo 1, expresado a continuación:\n",
    "$$log(y)=log(b)+alog(x)+c(log(x))^{2}$$\n",
    "<br>\n",
    "Note que estimar el anterior modelo, es equivalente a estimar la siguiente ecuación:\n",
    "$$y=bx^{a}e^{clog^{2}(x)}$$\n",
    "<br>"
   ]
  },
  {
   "cell_type": "code",
   "execution_count": 78,
   "metadata": {},
   "outputs": [],
   "source": [
    "# Modelo 2\n",
    "log_cuad = lambda x: (np.log(x))**2\n",
    "\n",
    "A_m2 = np.ones((mpoints, 3))\n",
    "A_m2[:, 1] = np.log(x)\n",
    "A_m2[:, 2] = (np.log(x))**2\n",
    "\n",
    "Q_m2,R_m2 = np.linalg.qr(A_m2) \n",
    "beta_m2 = np.linalg.solve(R_m2, Q_m2.T@y)\n",
    "yhat_m2 = A_m2@beta_m2"
   ]
  },
  {
   "cell_type": "code",
   "execution_count": 88,
   "metadata": {},
   "outputs": [
    {
     "data": {
      "image/png": "[encoded data removed]",
      "text/plain": [
       "<Figure size 432x288 with 1 Axes>"
      ]
     },
     "metadata": {
      "needs_background": "light"
     },
     "output_type": "display_data"
    },
    {
     "name": "stdout",
     "output_type": "stream",
     "text": [
      "[-1.6935 -1.262  -0.9708  0.1235  0.4582  1.1693  1.4301  1.5136 -1.6238\n",
      " -1.167  -0.8784  0.0489  0.9058  1.2098  1.2708  1.2904 -1.6666 -1.2706\n",
      " -0.9789  0.2324  0.9114  1.2119  1.4043 -1.6666 -1.1384 -0.8807  0.2493\n",
      "  0.9919  1.4352 -1.6238 -0.8289 -0.1178  0.2659  0.4357  0.8269  1.3191\n",
      "  1.4437]\n"
     ]
    }
   ],
   "source": [
    "# Gráfica\n",
    "plt.plot(np.log(x), yhat_m2,'.', color='tab:red', linewidth=1.0) # yhat(log(x))\n",
    "plt.plot(np.log(x), np.log(y_o),'o', color='tab:blue') # logy(log(x))\n",
    "plt.legend(('Modelo 2: $log(y)=log(b)+alog(x)+c(log(x))^{2}$', 'Datos'), loc='best')\n",
    "plt.xlabel('$log(x)$'); plt.ylabel('$log(y)$')\n",
    "plt.grid(True)\n",
    "\n",
    "plt.show()\n",
    "print(yhat_m2)"
   ]
  },
  {
   "cell_type": "markdown",
   "metadata": {},
   "source": [
    "## Error cuadrático medio"
   ]
  },
  {
   "cell_type": "code",
   "execution_count": 89,
   "metadata": {},
   "outputs": [
    {
     "name": "stdout",
     "output_type": "stream",
     "text": [
      "--------------------\n",
      "El menor ECM es 2.921945589096121\n",
      "Modelo 2: log(y)= log(b) + alog(x) + c(log(x))^2\n",
      "--------------------\n"
     ]
    }
   ],
   "source": [
    "# Menor ECM\n",
    "ecm_m1 = cal_ecm(y, yhat_m1)\n",
    "ecm_m2 = cal_ecm(y, yhat_m2)\n",
    "ecm_mods = [ecm_m1, ecm_m2]\n",
    "ecm_names = ['Modelo 1', 'Modelo 2']\n",
    "ecm_mod_form = ['log(y)= log(b) + alog(x)', 'log(y)= log(b) + alog(x) + c(log(x))^2']\n",
    "\n",
    "best_mod = np.argmin(ecm_mods)\n",
    "\n",
    "print('-'*20) \n",
    "print(f\"El menor ECM es {ecm_mods[best_mod]}\")\n",
    "print(f\"{ecm_names[best_mod]}: {ecm_mod_form[best_mod]}\")\n",
    "print('-'*20)\n"
   ]
  },
  {
   "cell_type": "code",
   "execution_count": null,
   "metadata": {},
   "outputs": [],
   "source": []
  }
 ],
 "metadata": {
  "kernelspec": {
   "display_name": "Python 3",
   "language": "python",
   "name": "python3"
  },
  "language_info": {
   "codemirror_mode": {
    "name": "ipython",
    "version": 3
   },
   "file_extension": ".py",
   "mimetype": "text/x-python",
   "name": "python",
   "nbconvert_exporter": "python",
   "pygments_lexer": "ipython3",
   "version": "3.6.8"
  }
 },
 "nbformat": 4,
 "nbformat_minor": 2
}
