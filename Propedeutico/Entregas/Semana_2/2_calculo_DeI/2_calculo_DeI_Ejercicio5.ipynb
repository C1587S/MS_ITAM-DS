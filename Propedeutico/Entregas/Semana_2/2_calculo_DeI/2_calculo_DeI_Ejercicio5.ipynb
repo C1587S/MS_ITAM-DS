{
 "cells": [
  {
   "cell_type": "markdown",
   "metadata": {},
   "source": [
    "# Cuadratura Gaussiana\n",
    "# Gauss-Hermite\n",
    "## Ejercicio 5\n",
    "\n",
    "Aproximar las integrales: $$(2\\pi\\sigma^2)^{-\\frac{1}{2}}\\displaystyle \\int_{-\\infty}^\\infty te^{\\frac{-(t-\\mu)^2}{2\\sigma^2}}dt$$\n",
    "$$(2\\pi\\sigma^2)^{-\\frac{1}{2}}\\displaystyle \\int_{-\\infty}^\\infty t^2e^{\\frac{-(t-\\mu)^2}{2\\sigma^2}}dt$$\n",
    "\n",
    "donde: $\\sigma=0.25, \\mu=0.15$ cuyos valores respectivamente son: $0.15, 0.085$ con cuadratura de Gauss-Hermite. Para lo anterior, realizar cambio de variable $x=\\frac{t-\\mu}{\\sqrt{2\\sigma^2}}, dt=\\sqrt{2\\sigma^2}dx$.\n"
   ]
  },
  {
   "cell_type": "markdown",
   "metadata": {},
   "source": [
    "Nota: Los siguientes ejercicios están basados en las notas de clase disponibles en (https://github.com/ITAM-DS/Propedeutico/tree/master/Python/clases/2_calculo_DeI) y en el capítulo 6 del libro Numerical Methods in Engineering with Python 3 (Kiusalaas, 2013). Los errores son responsabilidad del autor (SCS)."
   ]
  },
  {
   "cell_type": "code",
   "execution_count": 60,
   "metadata": {},
   "outputs": [],
   "source": [
    "import numpy as np\n",
    "from numpy import absolute, sqrt, exp, sin, cos, pi, log, inf"
   ]
  },
  {
   "cell_type": "code",
   "execution_count": 61,
   "metadata": {},
   "outputs": [],
   "source": [
    "# Función para computar el método de Gauss-Legendre\n",
    "# Se opta por hacer un código vectorizado en lugar de usar ciclos\n",
    "def cuad_gauher(f, n):\n",
    "    xi_i = np.empty([n+1, 1]) # vector de nodos\n",
    "    A_i = np.empty([n+1, 1]) # vector de pesos\n",
    "    # Dados los distintos valores de los pesos y nodos, se usará un condicional\n",
    "    if n == 1: \n",
    "        A_i[:,0] = [0.886227, 0.886227]\n",
    "        xi_i[:,0] = [-0.707107, 0.707107]        \n",
    "    elif n == 2:\n",
    "        A_i[:,0] = [0.295409, 1.181636, 0.295409]\n",
    "        xi_i[:,0] = [-1.224745, 0, 1.224745]           \n",
    "    elif n == 3: \n",
    "        A_i[:,0] = [0.804914, 0.0813128, 0.0813128, 0.804914]\n",
    "        xi_i[:,0] = [-0.524648, -1.650680, 1.650680, 0.524648]        \n",
    "    elif n ==4:\n",
    "        A_i[:,0] = [0.945308, 0.393619, 0.945308, 0.393619, 0.945308]\n",
    "        xi_i[:,0] = [-2.020183, -0.958572, 0, 0.958572, 2.020183]\n",
    "    elif n ==5:\n",
    "        A_i[:,0] = [0.00453001, 0.157067, 0.724629, 0.157067, 0.00453001]\n",
    "        xi_i[:,0] = [-2.350605, -1.335849, -0.436077, 0.436077, 1.335849, 2.350605]\n",
    "    else:\n",
    "        print('Para n=0 o n>5  falta incluir los nodos y pesos necesarios para aplicarel método de cuadratura de Gauss-Hermite.')\n",
    "\n",
    "    # Operar para la sumatoria de I_i\n",
    "    Af_xi = A_i*f(xi_i)\n",
    "    area_ap = np.sum(Af_xi)   \n",
    "    \n",
    "    return area_ap"
   ]
  },
  {
   "cell_type": "code",
   "execution_count": 62,
   "metadata": {},
   "outputs": [],
   "source": [
    "# Crear un vector de errores de la aproximación\n",
    "def err_re(area, area_ast):\n",
    "    err_abs = absolute(area-area_ast) # Por si queremos graficar solo el error\n",
    "    err_rel = err_abs/absolute(area_ast)\n",
    "    return err_abs, err_rel"
   ]
  },
  {
   "cell_type": "code",
   "execution_count": 71,
   "metadata": {},
   "outputs": [
    {
     "name": "stdout",
     "output_type": "stream",
     "text": [
      "----------\n",
      "El área aproximada es: 6.203589548484118\n",
      "----------\n"
     ]
    }
   ],
   "source": [
    "# Test de la función con ejemplo de Kiusallas (p.228)\n",
    "# el resultado debe ser 6.20359\n",
    "n = 1\n",
    "f_test = lambda x: (x**2)+3\n",
    "area_gh = cuad_gauher(f_test, n)\n",
    "print('-'*10)\n",
    "print('El área aproximada es:', area_gh)\n",
    "print('-'*10)"
   ]
  },
  {
   "cell_type": "markdown",
   "metadata": {},
   "source": [
    "## Parte 1\n",
    "Para poder hacer uso del método de cuadratura de Gauss-Hermite, se requiere expresar la integral a aproximar de la forma:\n",
    "\n",
    "$${\\intop_{-\\infty}^{\\infty}f(x)e^{-x^{2}}dx}\\approx\\sum_{i=0}^{n}A_{i}f(xi)$$\n",
    "\n",
    "Lo anterior es posible para la ecuación $$(2\\pi\\sigma^2)^{-\\frac{1}{2}}\\displaystyle \\int_{-\\infty}^\\infty te^{\\frac{-(t-\\mu)^2}{2\\sigma^2}}dt$$ una vez se realiza el cambio de variable cambio de variable $x=\\frac{t-\\mu}{\\sqrt{2\\sigma^2}}, dt=\\sqrt{2\\sigma^2}dx$. \n",
    "En la ecuación original se sustituye $t=x\\sqrt{2}\\sigma+\\mu$, su equivalente para $t-\\mu$, y\n",
    "$dt=\\sqrt{2}\\sigma dx$, obteniendo la siguiente ecuación:<br>\n",
    "$$\n",
    "\\frac{1}{\\sqrt{\\pi}}\\intop_{-\\infty}^{\\infty}\\left(x\\sqrt{2}\\sigma+\\mu\\right)e^{x^{2}}dx\n",
    "$$\n",
    "<br>La anterior ecuación puede ser utilizada para para obtener la aproximación del área utilizando la cuadratura citada. Utilizando $n=1$, se tiene que la sumatoria de subáreas es:\n",
    "<br>\n",
    "<br>\n",
    "$$\n",
    "A_{0}f(x_{0})+A_{1}f(x_{1})\n",
    "$$\n",
    "Dado que $f(x)=\\left(x\\sqrt{2}\\sigma+\\mu\\right)$, la anterior ecuación se reescribe como:<br><br>\n",
    "$$\n",
    "\\frac{1}{\\pi}\\left[A_{0}(x_{0}\\sqrt{2}\\sigma+\\mu)+A_{1}(x_{1}\\sqrt{2}\\sigma+\\mu)\\right]\n",
    "$$\n",
    "<br>Reemplazando por los valores de los nodos y pesos para este método (reportados en Kiusalaas, 2013, p. 223), se tiene:\n",
    "<br>\n",
    "<br>\n",
    "$$\n",
    "\\frac{1}{\\pi}\\left[0.886227\\left(0.707107\\sqrt{2}\\sigma+\\mu\\right)+0.886227\\left(0.707107\\sqrt{2}\\sigma+\\mu\\right)\\right]\n",
    "$$\n",
    "<br>\n",
    "Al reemplazar los valor de $\\sigma=0.25, \\mu=0.15$, se obtiene el valor de la aproximación. A continuación se computa esto con la función creada.\n"
   ]
  },
  {
   "cell_type": "code",
   "execution_count": 79,
   "metadata": {},
   "outputs": [
    {
     "name": "stdout",
     "output_type": "stream",
     "text": [
      "----------\n",
      "El valor exacto del área es 0.15\n",
      "El área aproximada es: 0.15000001261763324\n",
      "El error relativo de la aproximación es 8.411755495855526e-08.\n",
      "----------\n"
     ]
    }
   ],
   "source": [
    "sig = 0.25; mu = 0.15; n = 1\n",
    "f_eje1 = lambda  x: (1/sqrt(pi))*(sqrt(2)*sig*x + mu)\n",
    "area_ast = 0.15 # área exacta\n",
    "\n",
    "area_gh = cuad_gauher(f_eje1, n) # constante que multiplica integral\n",
    "err_abs_gh, err_rel_gh = err_re(area_gh, area_ast)\n",
    "\n",
    "print('-'*10)\n",
    "print(f\"El valor exacto del área es {area_ast}\")\n",
    "print('El área aproximada es:', area_gh)\n",
    "print(f\"El error relativo de la aproximación es {err_rel_gh}.\")\n",
    "print('-'*10)"
   ]
  },
  {
   "cell_type": "markdown",
   "metadata": {},
   "source": [
    "## Parte 2\n",
    "De modo similar a como se realizó en el ejercicio anterior, al realizar el cambio de variable $x=\\frac{t-\\mu}{\\sqrt{2\\sigma^2}}, dt=\\sqrt{2\\sigma^2}dx$ en la ecuación a integrar:\n",
    "$$(2\\pi\\sigma^2)^{-\\frac{1}{2}}\\displaystyle \\int_{-\\infty}^\\infty t^2e^{\\frac{-(t-\\mu)^2}{2\\sigma^2}}dt$$\n",
    "se obtiene:\n",
    "$$\\frac{1}{\\sqrt{\\pi}}\\intop_{-\\infty}^{\\infty}\\left(x\\sqrt{2}\\sigma+\\mu\\right)^{2}e^{x^{2}}dx$$\n",
    "Note que ahora $f(x)=\\left(x\\sqrt{2}\\sigma+\\mu\\right)^{2}$, por lo que para aproximar la integral se utiliza $n=2$. La correspondiente sumatorias de subáreas es:\n",
    "<br>\n",
    "<br>\n",
    "$$\n",
    "\\frac{1}{\\pi}\\left[A_{0}f(x_{0})+A_{1}f(x_{1})+A_{2}f(x_{2})\\right]\n",
    "$$\n",
    "<br>\n",
    "Reemplazando $f(x)=\\left(x\\sqrt{2}\\sigma+\\mu\\right)^{2}$ en la ecuación anterior:\n",
    "<br><br>\n",
    "$$\n",
    "\\frac{1}{\\pi}\\left[A_{0}\\left(x_{0}\\sqrt{2}\\sigma+\\mu\\right)^{2}+A_{1}\\left(x_{1}\\sqrt{2}\\sigma+\\mu\\right)^{2}+A_{2}\\left(x_{2}\\sqrt{2}\\sigma+\\mu\\right)^{2}\\right]\n",
    "$$\n",
    "Reemplazando por los valores de los nodos y pesos para este método (reportados en Kiusalaas, 2013, p. 223), se tiene:\n",
    "$$\n",
    "\\frac{1}{\\pi}\\left[0.295409\\left(1.224745\\sqrt{2}\\sigma+\\mu\\right)^{2}+1.181636\\left((0)\\sqrt{2}\\sigma+\\mu\\right)^{2}+0.295409\\left(1.224745\\sqrt{2}\\sigma+\\mu\\right)^{2}\\right]\n",
    "$$\n",
    "<br><br>\n",
    "Al reemplazar los valor de $\\sigma=0.25, \\mu=0.15$, se obtiene el valor de la aproximación. A continuación se computa esto con la función creada."
   ]
  },
  {
   "cell_type": "code",
   "execution_count": 78,
   "metadata": {},
   "outputs": [
    {
     "name": "stdout",
     "output_type": "stream",
     "text": [
      "----------\n",
      "El valor exacto del área es 0.085\n",
      "El área aproximada es: 0.08500004583112043\n",
      "El error relativo de la aproximación es 5.391896520771034e-07.\n",
      "----------\n"
     ]
    }
   ],
   "source": [
    "sig = 0.25; mu = 0.15; n = 1\n",
    "f_eje1 = lambda  x: (1/sqrt(pi))*(sqrt(2)*sig*x + mu)**2\n",
    "area_ast = 0.085 # área exacta\n",
    "\n",
    "area_gh = cuad_gauher(f_eje1, n) \n",
    "err_abs_gh, err_rel_gh = err_re(area_gh, area_ast)\n",
    "\n",
    "print('-'*10)\n",
    "print(f\"El valor exacto del área es {area_ast}\")\n",
    "print('El área aproximada es:', area_gh)\n",
    "print(f\"El error relativo de la aproximación es {err_rel_gh}.\")\n",
    "print('-'*10)\n"
   ]
  },
  {
   "cell_type": "code",
   "execution_count": null,
   "metadata": {},
   "outputs": [],
   "source": []
  }
 ],
 "metadata": {
  "kernelspec": {
   "display_name": "Python 3",
   "language": "python",
   "name": "python3"
  },
  "language_info": {
   "codemirror_mode": {
    "name": "ipython",
    "version": 3
   },
   "file_extension": ".py",
   "mimetype": "text/x-python",
   "name": "python",
   "nbconvert_exporter": "python",
   "pygments_lexer": "ipython3",
   "version": "3.6.8"
  }
 },
 "nbformat": 4,
 "nbformat_minor": 2
}
