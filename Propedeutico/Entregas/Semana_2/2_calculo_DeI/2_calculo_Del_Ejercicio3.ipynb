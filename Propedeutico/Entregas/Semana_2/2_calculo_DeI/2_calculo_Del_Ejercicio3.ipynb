{
 "cells": [
  {
   "cell_type": "markdown",
   "metadata": {},
   "source": [
    "# Newton-Cotes\n",
    "# (Regla del rectángulo / Regla del trapecio y Simpson)\n",
    "## Ejercicio 3\n",
    "\n",
    "Aproximar el valor de la integral $\\int_0^{\\pi}sin(x)dx = 2$ con reglas compuestas del rectángulo y trapecio con un número de subintervalos $n \\in \\{1,10,20,30,40 \\}$ y hacer gráfica de la forma error relativo vs $n$ ($n$ en el eje horizontal)."
   ]
  },
  {
   "cell_type": "markdown",
   "metadata": {},
   "source": [
    "**Nota**: Los siguientes ejercicios están basados en las notas de clase disponibles en (https://github.com/ITAM-DS/Propedeutico/tree/master/Python/clases/2_calculo_DeI) y en el capítulo 6 del libro Numerical Methods in Engineering with Python 3 (Kiusalaas, 2013)."
   ]
  },
  {
   "cell_type": "code",
   "execution_count": 1,
   "metadata": {},
   "outputs": [],
   "source": [
    "import numpy as np\n",
    "from numpy import absolute\n",
    "import math\n",
    "from math import sin, pi, log\n",
    "np.set_printoptions(precision=8) # precisión de floats en numpy"
   ]
  },
  {
   "cell_type": "code",
   "execution_count": 13,
   "metadata": {},
   "outputs": [
    {
     "name": "stdout",
     "output_type": "stream",
     "text": [
      "El área sombreada que se quiere aproximar es igual a 2.\n"
     ]
    },
    {
     "data": {
      "image/png": "[encoded data removed]",
      "text/plain": [
       "<Figure size 432x288 with 1 Axes>"
      ]
     },
     "metadata": {
      "needs_background": "light"
     },
     "output_type": "display_data"
    }
   ],
   "source": [
    "import matplotlib.pyplot as plt\n",
    "\n",
    "print('El área sombreada que se quiere aproximar es igual a 2.')\n",
    "# Función original y área que se quiere aproximar\n",
    "pi_val = math.pi\n",
    "x_aux = np.arange(-pi_val, 2*pi_val, 0.1)\n",
    "f_ori = lambda  x: np.sin(x)\n",
    "\n",
    "# Subgráfico 2 para mostrar el error relativo\n",
    "plt.subplot(2,1,1)\n",
    "\n",
    "plt.plot(x_aux, f_ori(x_aux), 'k:')\n",
    "plt.axhline(color = 'black')\n",
    "plt.fill_between(x_aux, f_ori(x_aux), where = [(x>=0) and (x<=pi) for x in x_aux], color = 'grey', alpha = 0.2)\n",
    "plt.xlabel('x'); plt.ylabel('sin(x)')\n",
    "axes = plt.gca(); axes.set_ylim([-1.5,1.5])\n",
    "\n",
    "plt.grid(True)\n",
    "\n",
    "plt.show()"
   ]
  },
  {
   "cell_type": "markdown",
   "metadata": {},
   "source": [
    "# Regla del rectángulo compuesta\n",
    "En la regla del rectángulo compuesto se define el área total aproximada, $I$, debajo de la función $f(x)$ en el intervalo $\\left[a,b\\right]$, como la sumatoria de las áreas ($I_{i}$), de $n$ subpáneles rectangulares de espaciado $h=\\frac{b-a}{n}$:\n",
    "$$\n",
    "I=\\sum_{i=0}^{n-1}I_{i}\n",
    "$$\n",
    "donde el área del subpanel $i$, correspondiente a $I_{i}$, se define como:\n",
    "$$\n",
    "I_{i}=hf\\left(x_{i}\\right)\n",
    "$$\n",
    "Donde $x_{i}$, es el nodo $i$, con $i=0,1,\\ldots,n$. Note que $x_{0}=a$, y $x_{n}=b$.\n",
    "<br><br>"
   ]
  },
  {
   "cell_type": "code",
   "execution_count": 14,
   "metadata": {},
   "outputs": [],
   "source": [
    "# Crear una función para la regla del rectangulo (compuesta):\n",
    "def rec_vec(f, a, b, n): # fun: f(x), a, b: del intervalo [a,b]\n",
    "    h = float((b-a)/n) # definimos espaciado igual entre nodos - que sea float\n",
    "    area = 0\n",
    "    for i in range(0, n):\n",
    "            area_i = (f(h*i)*(h)) # area de cada panel\n",
    "            # print(f\"El área del panel {i} en este paso es {area_i}\")\n",
    "            area = area + area_i\n",
    "    return area"
   ]
  },
  {
   "cell_type": "code",
   "execution_count": 15,
   "metadata": {},
   "outputs": [],
   "source": [
    "# Crear un vector de errores de la aproximación\n",
    "def err_re_trap_comp(area, area_ast):\n",
    "    err_abs = absolute(area-area_ast) # Por si queremos graficar solo el error\n",
    "    err_rel = err_abs/absolute(area_ast)\n",
    "    return err_abs, err_rel"
   ]
  },
  {
   "cell_type": "code",
   "execution_count": 16,
   "metadata": {},
   "outputs": [
    {
     "name": "stdout",
     "output_type": "stream",
     "text": [
      "El área aproximada por el método de la regla del trapecio compuesto con 10 paneles es 1.9835235375094544\n",
      "El valor exacto del área es 2 y el error absoluto de la aproximación es 0.016476462490545574\n",
      "El error relativo de la aproximación es 0.008238231245272787\n"
     ]
    }
   ],
   "source": [
    "# test\n",
    "fun = sin # f(x)\n",
    "a, b = [0, pi] # puntos del intervalo [a,b]\n",
    "n = 10 # paneles\n",
    "area_ast = 2\n",
    "\n",
    "aprox_area = rec_vec(fun, a, b, n)\n",
    "err_abs_t, err_rel_t = err_re_trap_comp(aprox_area, area_ast)\n",
    "\n",
    "print(f\"El área aproximada por el método de la regla del trapecio compuesto con {n} paneles es {aprox_area}\")\n",
    "print(f\"El valor exacto del área es {area_ast} y el error absoluto de la aproximación es {err_abs_t}\")\n",
    "print(f\"El error relativo de la aproximación es {err_rel_t}\")"
   ]
  },
  {
   "cell_type": "markdown",
   "metadata": {},
   "source": [
    "**Obs:** Para $n=1$, da un area de 0, lo cual tiene sentido dado que el \"rectangulo\" creado es una línea, y por tanto no tiene área."
   ]
  },
  {
   "cell_type": "code",
   "execution_count": 24,
   "metadata": {},
   "outputs": [
    {
     "name": "stdout",
     "output_type": "stream",
     "text": [
      "----- Resultados del ejercicio -----\n",
      "------------------------------\n",
      "El valor exacto del área es 2\n",
      "n: [1, 10, 20, 30, 40]\n",
      "Aroximación por la Regla del rectángulo compuesta [  0.           1.99897181 169.18570728 218.61320906 256.14      ]\n",
      "Errores absolutos [2.0000000e+00 1.0281895e-03 1.0000000e+00 2.5000000e+00 1.0000000e+01]\n",
      "Errores relativos [1.00000000e+00 5.14094751e-04 2.00000000e+00 5.00000000e+00\n",
      " 2.00000000e+01]\n",
      "------------------------------\n"
     ]
    }
   ],
   "source": [
    "# Desarrollo del ejercicio para la regla compuesta del rectángulo\n",
    "fun = sin # f(x)\n",
    "a, b = [0, pi] # puntos del intervalo [a,b]\n",
    "n = [1, 10, 20, 30, 40] #,20,30,40\n",
    "area_ast = 2\n",
    "\n",
    "aprox_rec = np.empty([len(n),1]) \n",
    "err_rec = np.empty([len(n), 2])\n",
    "pos = 0\n",
    "for z in n:\n",
    "    aprox_list_z = rec_vec(fun, a, b, z)\n",
    "    aprox_rec[pos] = aprox_list_z\n",
    "    err_ab, err_re = err_re_trap_comp(aprox_rec[pos],area_ast)\n",
    "    err_rec[pos, :] = err_ab, err_re\n",
    "    pos =+ 1 \n",
    "    \n",
    "print('-'*5, 'Resultados del ejercicio', '-'*5); print('-'*30)\n",
    "print(f\"El valor exacto del área es {area_ast}\"); \n",
    "print('n:', n);\n",
    "print('Aroximación por la Regla del rectángulo compuesta', aprox_rec[:,0])\n",
    "print('Errores absolutos', err_rec[:,0]); \n",
    "print('Errores relativos', err_rec[:,1])\n",
    "print('-'*30)"
   ]
  },
  {
   "cell_type": "code",
   "execution_count": 19,
   "metadata": {},
   "outputs": [
    {
     "data": {
      "image/png": "[encoded data removed]",
      "text/plain": [
       "<Figure size 432x288 with 1 Axes>"
      ]
     },
     "metadata": {
      "needs_background": "light"
     },
     "output_type": "display_data"
    }
   ],
   "source": [
    "# Grafica: error relativo vs número de páneles\n",
    "import matplotlib.pyplot as plt\n",
    "\n",
    "plt.plot(err_rec[:,1], 'r--')\n",
    "plt.xlabel('número de páneles'); plt.ylabel('Error relativo')\n",
    "plt.title('Regla del rectángulo compuesta', fontweight=\"bold\")\n",
    "plt.xticks(np.arange(0, 5, step=1))\n",
    "plt.grid(True)\n",
    "\n",
    "plt.show()"
   ]
  },
  {
   "cell_type": "markdown",
   "metadata": {},
   "source": [
    "# Regla del Trapecio compuesto"
   ]
  },
  {
   "cell_type": "markdown",
   "metadata": {},
   "source": [
    "En la regla del Trapecio compuesto se define el área total aproximada, $I$, debajo de la función $f(x)$ en el intervalo $\\left[a,b\\right]$, como la sumatoria de las áreas ($I_{i}$), de $n$ subpáneles trapezoidales de espaciado $h=\\frac{b-a}{n}$:\n",
    "$$\n",
    "I=\\sum_{i=0}^{n-1}I_{i}\n",
    "$$\n",
    "donde el área del subpanel $i$, correspondiente a $I_{i}$, se define como:\n",
    "$$\n",
    "I_{i}=\\frac{h}{2}\\left[f\\left(x_{i}\\right)+f\\left(x_{i+1}\\right)\\right]\n",
    "$$\n",
    "Donde $x_{i}$, es el nodo $i$, con $i=0,1,\\ldots,n$. Note que $x_{0}=a$, y $x_{n}=b$.\n",
    "<br><br>\n",
    "A continuación se crea la función \"trap_comp\", que computa la regla compuesta del trapecio, incorporando los parámetros f, a, b y n, correspondientes a la función $f(x)$ a aproximar, los elementos del intervalo $\\left[a,b\\right]$, y el número de páneles deseados, respectivamente. \n",
    "Note que para el caso de un subpanel ($n = 1$), no es necesario iterar.\n"
   ]
  },
  {
   "cell_type": "code",
   "execution_count": 8,
   "metadata": {},
   "outputs": [],
   "source": [
    "# Crear una función para la regla compuesta del trapecio\n",
    "def trap_comp_vec(f, a, b, n): # fun: f(x), a, b: del intervalo [a,b], n: número de páneles\n",
    "    h = float((b-a))/n # definimos espaciado igual entre nodos - que sea float\n",
    "    area = 0\n",
    "    for i in range(0, n):\n",
    "            area_i = (h/2)*(f(h*i) + f(h*(i+1))) # area de cada panel\n",
    "            # print(f\"El área del panel {i} en este paso es {area_i}\")\n",
    "            area = area + area_i\n",
    "    return area\n"
   ]
  },
  {
   "cell_type": "code",
   "execution_count": 9,
   "metadata": {},
   "outputs": [
    {
     "name": "stdout",
     "output_type": "stream",
     "text": [
      "El área aproximada por el método de la regla del trapecio compuesto con 16 paneles es 1.993570343772339\n",
      "El valor exacto del área es 2 y el error absoluto de la aproximación es 0.006429656227660896\n",
      "El error relativo de la aproximación es 0.003214828113830448\n"
     ]
    }
   ],
   "source": [
    "# test\n",
    "fun = sin # f(x)\n",
    "a, b = [0, pi] # puntos del intervalo [a,b]\n",
    "n = 16 # paneles\n",
    "area_ast = 2\n",
    "\n",
    "aprox_area = trap_comp_vec(fun, a, b, n)\n",
    "err_abs_t, err_rel_t = err_re_trap_comp(aprox_area, area_ast)\n",
    "\n",
    "print(f\"El área aproximada por el método de la regla del trapecio compuesto con {n} paneles es {aprox_area}\")\n",
    "print(f\"El valor exacto del área es {area_ast} y el error absoluto de la aproximación es {err_abs_t}\")\n",
    "print(f\"El error relativo de la aproximación es {err_rel_t}\")"
   ]
  },
  {
   "cell_type": "code",
   "execution_count": 10,
   "metadata": {},
   "outputs": [
    {
     "name": "stdout",
     "output_type": "stream",
     "text": [
      "----- Resultados del ejercicio -----\n",
      "------------------------------\n",
      "El valor exacto del área es 2\n",
      "n: [1, 10, 20, 30, 40]\n",
      "Aroximación por la Regla del rectángulo compuesta [1.92367069e-16 1.99897181e+00 3.17000000e+01 3.17000000e+01\n",
      " 3.17000000e+01]\n",
      "Errores absolutos [2.00000000e+00 1.02818950e-03 1.51417459e+02 2.00836912e+02\n",
      " 2.50256364e+02]\n",
      "Errores relativos [1.00000000e+00 5.14094751e-04 1.76127185e+02 2.25546638e+02\n",
      " 2.56140000e+02]\n",
      "------------------------------\n"
     ]
    }
   ],
   "source": [
    "# Desarrollo del ejercicio\n",
    "fun = sin # f(x)\n",
    "a, b = [0, pi] # puntos del intervalo [a,b]\n",
    "n = [1,10,20,30,40]\n",
    "area_ast = 2\n",
    "\n",
    "aprox_tra = np.empty([len(n),1]) \n",
    "err_tra = np.empty([len(n), 2])\n",
    "\n",
    "pos = 0\n",
    "for z in n:\n",
    "    aprox_list_z = trap_comp_vec(fun, a, b, z)\n",
    "    aprox_tra[pos] = aprox_list_z\n",
    "    err_ab, err_re = err_re_trap_comp(aprox_tra[pos],area_ast)\n",
    "    err_tra[pos, :] = err_ab, err_re\n",
    "    pos =+ 1\n",
    "\n",
    "print('-'*5, 'Resultados del ejercicio', '-'*5); print('-'*30)\n",
    "print(f\"El valor exacto del área es {area_ast}\"); \n",
    "print('n:', n);\n",
    "print('Aroximación por la Regla del rectángulo compuesta', aprox_tra[:,0])\n",
    "print('Errores absolutos', err_tra[:,0]); \n",
    "print('Errores relativos', err_tra[:,1])\n",
    "print('-'*30)"
   ]
  },
  {
   "cell_type": "code",
   "execution_count": 11,
   "metadata": {},
   "outputs": [
    {
     "data": {
      "image/png": "[encoded data removed]",
      "text/plain": [
       "<Figure size 432x288 with 1 Axes>"
      ]
     },
     "metadata": {
      "needs_background": "light"
     },
     "output_type": "display_data"
    }
   ],
   "source": [
    "# Grafica: error relativo vs número de páneles\n",
    "import matplotlib.pyplot as plt\n",
    "\n",
    "plt.plot(err_tra[:,1], 'b--')\n",
    "plt.xlabel('número de páneles'); plt.ylabel('Error relativo')\n",
    "plt.title('Regla del rectángulo compuesta', fontweight=\"bold\")\n",
    "plt.xticks(np.arange(0, 5, step=1))\n",
    "plt.grid(True)\n",
    "\n",
    "plt.show()"
   ]
  },
  {
   "cell_type": "markdown",
   "metadata": {},
   "source": [
    "# Gráfica de comparación de errores relativos entre los computados por las reglas compuestas del rectángulo y del trapecio."
   ]
  },
  {
   "cell_type": "code",
   "execution_count": 12,
   "metadata": {},
   "outputs": [
    {
     "data": {
      "image/png": "[encoded data removed]",
      "text/plain": [
       "<Figure size 432x288 with 1 Axes>"
      ]
     },
     "metadata": {
      "needs_background": "light"
     },
     "output_type": "display_data"
    }
   ],
   "source": [
    "import matplotlib.pyplot as plt\n",
    "import numpy as np\n",
    "from math import pi\n",
    "\n",
    "x_ax = np.array(n)\n",
    "\n",
    "plt.plot(x_ax, err_rec[:,1], '-.b', x_ax, err_tra[:,1], ':r')\n",
    "plt.legend(('R. compuesta del rectángulo', 'R. compuesta del trapecio'), loc = 0)\n",
    "plt.xlabel('# de páneles (n)'); plt.ylabel('Error relativo')\n",
    "plt.title('Comparación de errores relativos', fontweight=\"bold\")\n",
    "plt.grid(True)\n",
    "\n",
    "plt.show()"
   ]
  },
  {
   "cell_type": "code",
   "execution_count": null,
   "metadata": {},
   "outputs": [],
   "source": []
  }
 ],
 "metadata": {
  "kernelspec": {
   "display_name": "Python 3",
   "language": "python",
   "name": "python3"
  },
  "language_info": {
   "codemirror_mode": {
    "name": "ipython",
    "version": 3
   },
   "file_extension": ".py",
   "mimetype": "text/x-python",
   "name": "python",
   "nbconvert_exporter": "python",
   "pygments_lexer": "ipython3",
   "version": "3.6.8"
  }
 },
 "nbformat": 4,
 "nbformat_minor": 2
}
