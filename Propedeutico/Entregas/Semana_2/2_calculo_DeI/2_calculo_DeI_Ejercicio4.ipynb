{
 "cells": [
  {
   "cell_type": "markdown",
   "metadata": {},
   "source": [
    "# Cuadratura Gaussiana\n",
    "# Gauss-Legendre\n",
    "## Ejercicio 4\n",
    "\n",
    "Aproximar la integral de:\n",
    "$$\\int_0^1e^{-\\frac{t^2}{2}}dt$$\n",
    "con cuadratura Gauss-Legendre con $n \\in \\{0,1,2,3,4\\}$. Realizar gráfica de la forma error relativo vs $n$ ($n$ en el eje horizontal). Valor a aproximar: $.855624391892149$\n",
    "\n",
    "\n",
    "\n",
    "\n",
    "\n"
   ]
  },
  {
   "cell_type": "markdown",
   "metadata": {},
   "source": [
    "Nota: Los siguientes ejercicios y notas para su desarrollo están basados en las notas de clase disponibles en (https://github.com/ITAM-DS/Propedeutico/tree/master/Python/clases/2_calculo_DeI) y en el capítulo 6 del libro Numerical Methods in Engineering with Python 3 (Kiusalaas, 2013). Los errores son responsabilidad del autor (SCS)."
   ]
  },
  {
   "cell_type": "code",
   "execution_count": 174,
   "metadata": {},
   "outputs": [],
   "source": [
    "import numpy as np\n",
    "from numpy import absolute, sqrt, exp, sin, cos, pi, log"
   ]
  },
  {
   "cell_type": "code",
   "execution_count": 175,
   "metadata": {},
   "outputs": [
    {
     "name": "stdout",
     "output_type": "stream",
     "text": [
      "El área sombreada que se quiere aproximar es igual a 0.855624391892149.\n"
     ]
    },
    {
     "data": {
      "image/png": "[encoded data removed]",
      "text/plain": [
       "<Figure size 432x288 with 1 Axes>"
      ]
     },
     "metadata": {
      "needs_background": "light"
     },
     "output_type": "display_data"
    }
   ],
   "source": [
    "import matplotlib.pyplot as plt\n",
    "\n",
    "print('El área sombreada que se quiere aproximar es igual a 0.855624391892149.')\n",
    "# Función original y área que se quiere aproximar\n",
    "x_aux = np.arange(-0.1, 1.1, 0.1)\n",
    "f_ori = lambda  x: exp(-x/2)\n",
    "\n",
    "# Subgráfico 2 para mostrar el error relativo\n",
    "plt.subplot(2,1,1)\n",
    "\n",
    "plt.plot(x_aux, f_ori(x_aux), 'k:')\n",
    "plt.axhline(color = 'black')\n",
    "plt.fill_between(x_aux, f_ori(x_aux), where = [(x>=0) and (x<=1) for x in x_aux], color = 'grey', alpha = 0.2)\n",
    "plt.xlabel('x'); plt.ylabel('sin(x)')\n",
    "axes = plt.gca(); axes.set_ylim([-1,2])\n",
    "\n",
    "plt.grid(True)\n",
    "\n",
    "plt.show()"
   ]
  },
  {
   "cell_type": "markdown",
   "metadata": {},
   "source": [
    "El método de cuadratura gaussiana de Gauss-Legendre utiliza nodos espaciados simétricamente tomando como centro $\\xi=0$, y en la misma dirección, los pares de nodos ubicados simétricamente tienen pesos, $A_{i}$, iguales. <br> \n",
    "Este método implica una transformación inicial de cada $x{i}$ en términos de $xi_i$, de tal forma que la integral original definida en el rango $(a,b)$ quede definida en el rango $(1,1)$. La transformación aplicada es la siguiente:\n",
    "$$\n",
    "x_{i}=\\frac{b+a}{2}+\\frac{b-a}{2}\\xi_{i}\n",
    "$$\n",
    "una vez realizada la anterior transformación, la aproximación de la integral original $\\intop_{a}^{b}f(x)dx$ a computar es la siguiente:\n",
    "$$\n",
    "\\begin{array}{ccc}\n",
    "\\intop_{-1}^{1}f(\\xi)d\\xi & \\approx & \\sum_{i=0}^{n}A_{i}f(\\xi_{i})\\\\\n",
    " & \\approx & \\frac{b-a}{2}\\sum_{i=0}^{n}A_{i}f\\left(\\frac{b+a}{2}+\\frac{b-a}{2}\\xi_{i}\\right)\n",
    "\\end{array}\n",
    "$$\n",
    "Los valores de los pesos y los nodos utilizados en el desarrollo del ejercicio se toman de la tabla vista en clase.\n"
   ]
  },
  {
   "cell_type": "code",
   "execution_count": 176,
   "metadata": {},
   "outputs": [],
   "source": [
    "# Función para computar el método de Gauss-Legendre\n",
    "# Se opta por hacer un código vectorizado en lugar de usar ciclos\n",
    "def cuad_gauleg(f,a, b, n):\n",
    "    x_i = np.empty([n+1, 1]) # vector abs\n",
    "    chi_i = np.empty([n+1, 1]) # vector de nodos\n",
    "    A_i = np.empty([n+1, 1]) # vector de pesos\n",
    "    # Dados los distintos valores de los pesos y nodos, se usará un condicional\n",
    "    if n == 0:\n",
    "        A_i[:,0] = [2]\n",
    "        chi_i[:,0] = [0] \n",
    "    elif n == 1: \n",
    "        A_i[:,0] = [1, 1]\n",
    "        chi_i[:,0] = [-sqrt(1/3), sqrt(1/3)]        \n",
    "    elif n == 2:\n",
    "        A_i[:,0] = [5/9, 8/9, 5/9]\n",
    "        chi_i[:,0] = [-sqrt(3/5), 0, sqrt(3/5)]           \n",
    "    elif n == 3: \n",
    "        A_i[:,0] = [0.347855, 0.652145, 0.652145, 0.347855]\n",
    "        chi_i[:,0] = [-0.861136,-0.339981,0.339981,0.861136]        \n",
    "    elif n ==4:\n",
    "        A_i[:,0] = [0.236927, 0.478629, 0.568889, 0.478629, 0.236927]\n",
    "        chi_i[:,0] = [-0.90618, -0.538469, 0, 0.538469, 0.90618]           \n",
    "    else:\n",
    "        print('Para n>4 falta incluir los nodos y pesos necesarios para aplicarel método de cuadratura de Gauss-Legendre.')\n",
    "\n",
    "    # Operar para la sumatoria de I_i\n",
    "    x_i = 0.5*(b+a)+0.5*(b-a)*chi_i\n",
    "    Af_xi = A_i*f(x_i)\n",
    "    area_ap = np.sum(0.5*(b-a)*Af_xi)   \n",
    "    \n",
    "    return area_ap"
   ]
  },
  {
   "cell_type": "code",
   "execution_count": 177,
   "metadata": {},
   "outputs": [],
   "source": [
    "# Crear un vector de errores de la aproximación\n",
    "def err_re(area, area_ast):\n",
    "    err_abs = absolute(area-area_ast) # Por si queremos graficar solo el error\n",
    "    err_rel = err_abs/absolute(area_ast)\n",
    "    return err_abs, err_rel"
   ]
  },
  {
   "cell_type": "code",
   "execution_count": 199,
   "metadata": {},
   "outputs": [
    {
     "name": "stdout",
     "output_type": "stream",
     "text": [
      "----------\n",
      "El valor exacto del área es 0.0674729\n",
      "El área aproximada es: 0.06747294753091954\n",
      "El error absoluto de la aproximación es 4.753091953357824e-08.\n",
      "El error relativo de la aproximación es 7.044445923263746e-07.\n"
     ]
    }
   ],
   "source": [
    "# Test de la función con ejemplo de Kiusallas (p.228)\n",
    "# el resultado debe ser 0.067473\n",
    "n = 3; a = 0.5; b = 1\n",
    "area_ast = 0.0674729\n",
    "fun = lambda x: cos(pi*x)*log(x)\n",
    "\n",
    "area_gl = cuad_gauleg(fun, a, b, n)\n",
    "err_abs_gl, err_rel_gl = err_re(area_gl, area_ast)\n",
    "\n",
    "print('-'*10)\n",
    "print(f\"El valor exacto del área es {area_ast}\")\n",
    "print('El área aproximada es:', area_gl)\n",
    "print(f\"El error absoluto de la aproximación es {err_abs_gl}.\")\n",
    "print(f\"El error relativo de la aproximación es {err_rel_gl}.\")"
   ]
  },
  {
   "cell_type": "code",
   "execution_count": 196,
   "metadata": {},
   "outputs": [
    {
     "name": "stdout",
     "output_type": "stream",
     "text": [
      "----- Resultados del ejercicio -----\n",
      "------------------------------\n",
      "El valor exacto del área es 0.855624391892149\n",
      "n: [0, 1, 2, 3, 4]\n",
      "Aroximación por cuadratura de Gauss-Legendre [0.8824969  0.85531456 0.85562639 0.85562439 0.85562483]\n",
      "Errores absolutos [2.68725107e-02 3.09830208e-04 2.00215048e-06 1.90200367e-09\n",
      " 4.33693712e-07]\n",
      "Errores relativos [3.14069011e-02 3.62110070e-04 2.33998762e-06 2.22294231e-09\n",
      " 5.06873946e-07]\n",
      "------------------------------\n"
     ]
    }
   ],
   "source": [
    "# Desarrollo del ejercicio\n",
    "a = 0 # lim inf\n",
    "b = 1 # lim sup\n",
    "area_ast = 0.855624391892149\n",
    "fun_eje = lambda x: exp(-0.5*x**2)\n",
    "n = [0, 1, 2, 3, 4]\n",
    "# Se ejecuta un ciclo para evaluar sobre n\n",
    "aprox_gale = np.empty(len(n))\n",
    "error_gale = np.empty([len(n), 2])\n",
    "pos = 0\n",
    "for i in n:\n",
    "    aprox_gale[pos] = cuad_gauleg(fun_eje, a, b, i)\n",
    "    error_gale[pos, :] = err_re(aprox_gale[pos], area_ast)\n",
    "    pos += 1\n",
    "    \n",
    "print('-'*5, 'Resultados del ejercicio', '-'*5); print('-'*30)\n",
    "print(f\"El valor exacto del área es {area_ast}\"); \n",
    "print('n:', n);\n",
    "print('Aroximación por cuadratura de Gauss-Legendre', aprox_gale)\n",
    "print('Errores absolutos', error_gale[:,0]); \n",
    "print('Errores relativos', error_gale[:,1])\n",
    "print('-'*30)"
   ]
  },
  {
   "cell_type": "code",
   "execution_count": 200,
   "metadata": {},
   "outputs": [
    {
     "data": {
      "image/png": "[encoded data removed]",
      "text/plain": [
       "<Figure size 432x288 with 1 Axes>"
      ]
     },
     "metadata": {
      "needs_background": "light"
     },
     "output_type": "display_data"
    }
   ],
   "source": [
    "# Grafica: error relativo vs 𝑛 (𝑛 en el eje horizontal)\n",
    "import matplotlib.pyplot as plt\n",
    "\n",
    "plt.plot(error_gale[:,1], 'r--')\n",
    "plt.xlabel('n'); plt.ylabel('Error relativo')\n",
    "plt.title('Cuadratura de Gauss-Legendre', fontweight=\"bold\")\n",
    "plt.xticks(np.arange(0, 5, step=1))\n",
    "plt.grid(True)\n",
    "\n",
    "plt.show()"
   ]
  }
 ],
 "metadata": {
  "kernelspec": {
   "display_name": "Python 3",
   "language": "python",
   "name": "python3"
  },
  "language_info": {
   "codemirror_mode": {
    "name": "ipython",
    "version": 3
   },
   "file_extension": ".py",
   "mimetype": "text/x-python",
   "name": "python",
   "nbconvert_exporter": "python",
   "pygments_lexer": "ipython3",
   "version": "3.6.8"
  }
 },
 "nbformat": 4,
 "nbformat_minor": 2
}
