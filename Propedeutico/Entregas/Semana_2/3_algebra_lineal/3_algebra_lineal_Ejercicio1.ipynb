{
 "cells": [
  {
   "cell_type": "markdown",
   "metadata": {},
   "source": [
    "# Ejercicio 1:\n",
    "Resolver el ejercicio 3) anterior con la factorización QR del paquete numpy de la matriz A y verificar resultado."
   ]
  },
  {
   "cell_type": "markdown",
   "metadata": {},
   "source": [
    "**Nota:** Los siguientes ejercicios están basados en las notas de clase disponibles en (https://github.com/ITAM-DS/Propedeutico/tree/master/Python/clases/2_calculo_DeI) y en el capítulo 6 del libro Numerical Methods in Engineering with Python 3 (Kiusalaas, 2013). Los errores son responsabilidad del autor (SCS)."
   ]
  },
  {
   "cell_type": "markdown",
   "metadata": {},
   "source": [
    "## Ejercicio 3:\n",
    "Obtener los factores $P$, $L$, $U$, de la matriz $A$:\n",
    "$$\n",
    "A=\\left[\\begin{array}{ccc}\n",
    "1 & 4 & 1\\\\\n",
    "1 & 6 & -1\\\\\n",
    "2 & -1 & 2\n",
    "\\end{array}\\right]\n",
    "$$\n",
    "\n",
    "y utilizarlos para resolver $Ax = B$ con:\n",
    "$$\n",
    "B=\\left[\\begin{array}{cc}\n",
    "7 & -1\\\\\n",
    "13 & 6\\\\\n",
    "5 & 7\n",
    "\\end{array}\\right]\n",
    "$$\n"
   ]
  },
  {
   "cell_type": "markdown",
   "metadata": {},
   "source": [
    "# Resolver el sistema con factorización QR\n",
    "La matriz $A_{m\\times n}$ se puede descomponer en dos factores los factores $Q_{m\\times n}$ y $R_{m\\times n}$. Donde $Q$ es una matriz ortogonal, y $R$ es una matriz triangular superior.\n",
    "Dado que $AX=B$, entonces $AX=B\\Longleftrightarrow QRX=B\\Longleftrightarrow RX=Q^{-1}B$. \n",
    "Por otro lado, dado que la matriz $Q$ es ortogonal, podemos re-escribir el anterior sistema como $RX=Q^{T}B$.\n",
    "Así, dado que $R$ es triangular superior, resolvemos el sistema resultante por medio del método de sustitución regresiva. \n",
    "\n",
    "\n",
    "# Algoritmo a ejecutar\n",
    "Para obtener la solución del sistema $Ax=B$ utilizando los factores $Q$, y $R$, se ejecuta el siguiente algoritmo:\n",
    "1. De la matriz $A$ se obtienen los factores $Q$ y $R$. \n",
    "2. Se resuleve el sistema triangular $RX=Q^{T}B$ para obtener $X$."
   ]
  },
  {
   "cell_type": "code",
   "execution_count": 1,
   "metadata": {},
   "outputs": [],
   "source": [
    "import scipy\n",
    "from scipy import linalg\n",
    "import numpy as np\n",
    "import pprint"
   ]
  },
  {
   "cell_type": "code",
   "execution_count": 2,
   "metadata": {},
   "outputs": [],
   "source": [
    "A = np.array([[1.0, 4.0, 1.0],[1.0, 6.0, -1.0], [2.0, -1.0, 2.0]])\n",
    "B = np.array([[7.0, -1.0], [13.0, 6.0], [5.0, 7.0]])"
   ]
  },
  {
   "cell_type": "code",
   "execution_count": 3,
   "metadata": {},
   "outputs": [
    {
     "name": "stdout",
     "output_type": "stream",
     "text": [
      "A:\n",
      "array([[ 1.,  4.,  1.],\n",
      "       [ 1.,  6., -1.],\n",
      "       [ 2., -1.,  2.]])\n",
      "B: \n",
      "array([[ 7., -1.],\n",
      "       [13.,  6.],\n",
      "       [ 5.,  7.]])\n"
     ]
    }
   ],
   "source": [
    "print('A:')\n",
    "pprint.pprint(A)\n",
    "print('B: ')\n",
    "pprint.pprint(B)"
   ]
  },
  {
   "cell_type": "code",
   "execution_count": 4,
   "metadata": {},
   "outputs": [],
   "source": [
    "# Paso 1 del algoritmo\n",
    "Q, R = np.linalg.qr(A)"
   ]
  },
  {
   "cell_type": "code",
   "execution_count": 5,
   "metadata": {},
   "outputs": [
    {
     "name": "stdout",
     "output_type": "stream",
     "text": [
      "Q:\n",
      "array([[-0.40824829, -0.40985242, -0.81569255],\n",
      "       [-0.40824829, -0.71724173,  0.56471022],\n",
      "       [-0.81649658,  0.56354707,  0.12549116]])\n",
      "R:\n",
      "array([[-2.44948974, -3.26598632, -1.63299316],\n",
      "       [ 0.        , -6.5064071 ,  1.43448345],\n",
      "       [ 0.        ,  0.        , -1.12942045]])\n"
     ]
    }
   ],
   "source": [
    "print('Q:')\n",
    "pprint.pprint(Q)\n",
    "print('R:')\n",
    "pprint.pprint(R)"
   ]
  },
  {
   "cell_type": "code",
   "execution_count": 6,
   "metadata": {},
   "outputs": [
    {
     "name": "stdout",
     "output_type": "stream",
     "text": [
      "D:\n",
      "array([[-12.24744871,  -7.75671752],\n",
      "       [ -9.37537401,   0.05123155],\n",
      "       [  2.2588409 ,   5.08239202]])\n"
     ]
    }
   ],
   "source": [
    "# D = Qt*b\n",
    "D = Q.T@B\n",
    "print('D:')\n",
    "pprint.pprint(D)"
   ]
  },
  {
   "cell_type": "code",
   "execution_count": 7,
   "metadata": {},
   "outputs": [
    {
     "name": "stdout",
     "output_type": "stream",
     "text": [
      "X:\n",
      "array([[ 5. ,  7.5],\n",
      "       [ 1. , -1. ],\n",
      "       [-2. , -4.5]])\n"
     ]
    }
   ],
   "source": [
    "# Rosolver el sistema:\n",
    "X = linalg.solve_triangular(R,D)\n",
    "print('X:')\n",
    "pprint.pprint(X)"
   ]
  },
  {
   "cell_type": "code",
   "execution_count": 13,
   "metadata": {},
   "outputs": [
    {
     "name": "stdout",
     "output_type": "stream",
     "text": [
      "Verificando resultado AX = B\n",
      "B:\n",
      "array([[ 7., -1.],\n",
      "       [13.,  6.],\n",
      "       [ 5.,  7.]])\n",
      "AX:\n",
      "array([[ 7., -1.],\n",
      "       [13.,  6.],\n",
      "       [ 5.,  7.]])\n"
     ]
    }
   ],
   "source": [
    "print('Verificando resultado AX = B')\n",
    "print('B:')\n",
    "pprint.pprint(B)\n",
    "print('AX:')\n",
    "pprint.pprint(A@X)"
   ]
  }
 ],
 "metadata": {
  "kernelspec": {
   "display_name": "Python 3",
   "language": "python",
   "name": "python3"
  },
  "language_info": {
   "codemirror_mode": {
    "name": "ipython",
    "version": 3
   },
   "file_extension": ".py",
   "mimetype": "text/x-python",
   "name": "python",
   "nbconvert_exporter": "python",
   "pygments_lexer": "ipython3",
   "version": "3.6.8"
  }
 },
 "nbformat": 4,
 "nbformat_minor": 2
}
