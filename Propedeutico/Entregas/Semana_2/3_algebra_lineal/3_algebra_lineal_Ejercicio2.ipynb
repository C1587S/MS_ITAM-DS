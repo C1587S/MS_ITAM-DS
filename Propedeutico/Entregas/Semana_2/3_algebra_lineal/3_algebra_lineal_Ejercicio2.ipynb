{
 "cells": [
  {
   "cell_type": "markdown",
   "metadata": {},
   "source": [
    "# Ejercicio 2:\n",
    "Resolver los sistemas de ecuaciones lineales $Ax = b$ con la factorización $P$, $LU$ y verificar resultado.\n"
   ]
  },
  {
   "cell_type": "markdown",
   "metadata": {},
   "source": [
    "Nota: Los siguientes ejercicios y notas para su desarrollo están basados en las notas de clase disponibles en (https://github.com/ITAM-DS/Propedeutico/tree/master/Python/clases/2_calculo_DeI) y en el capítulo 6 del libro Numerical Methods in Engineering with Python 3 (Kiusalaas, 2013). Los errores son responsabilidad del autor (SCS)."
   ]
  },
  {
   "cell_type": "code",
   "execution_count": 12,
   "metadata": {},
   "outputs": [],
   "source": [
    "import scipy\n",
    "from scipy import linalg\n",
    "import numpy as np\n",
    "import pprint"
   ]
  },
  {
   "cell_type": "markdown",
   "metadata": {},
   "source": [
    "## Parte 1:\n",
    "$$\n",
    "A=\\left[\\begin{array}{ccc}\n",
    "0 & 1 & -1\\\\\n",
    "-2 & 4 & -1\\\\\n",
    "-2 & 5 & -4\n",
    "\\end{array}\\right],\\:b=\\left[\\begin{array}{c}\n",
    "3\\\\\n",
    "1\\\\\n",
    "-2\n",
    "\\end{array}\\right]\n",
    "$$"
   ]
  },
  {
   "cell_type": "code",
   "execution_count": 14,
   "metadata": {},
   "outputs": [
    {
     "name": "stdout",
     "output_type": "stream",
     "text": [
      "A:\n",
      "array([[ 0,  1, -1],\n",
      "       [-2,  4, -1],\n",
      "       [-2,  5, -4]])\n",
      "b: \n",
      "array([[ 3],\n",
      "       [ 1],\n",
      "       [-2]])\n"
     ]
    }
   ],
   "source": [
    "A = np.array([[0, 1, -1],[-2, 4, -1], [-2,5, -4]])\n",
    "b = np.array([[3], [1], [-2]])\n",
    "print('A:')\n",
    "pprint.pprint(A)\n",
    "print('b: ')\n",
    "pprint.pprint(b)"
   ]
  },
  {
   "cell_type": "code",
   "execution_count": 4,
   "metadata": {},
   "outputs": [
    {
     "name": "stdout",
     "output_type": "stream",
     "text": [
      "P:\n",
      "array([[0., 1., 0.],\n",
      "       [1., 0., 0.],\n",
      "       [0., 0., 1.]])\n",
      "L:\n",
      "array([[ 1.,  0.,  0.],\n",
      "       [-0.,  1.,  0.],\n",
      "       [ 1.,  1.,  1.]])\n",
      "U:\n",
      "array([[-2.,  4., -1.],\n",
      "       [ 0.,  1., -1.],\n",
      "       [ 0.,  0., -2.]])\n",
      "Verificando que es igual PA al producto LU\n",
      "L*U:\n",
      "array([[-2.,  4., -1.],\n",
      "       [ 0.,  1., -1.],\n",
      "       [-2.,  5., -4.]])\n",
      "P*A\n",
      "array([[-2.,  4., -1.],\n",
      "       [ 0.,  1., -1.],\n",
      "       [-2.,  5., -4.]])\n"
     ]
    }
   ],
   "source": [
    "# Obtener los factores P, L, U\n",
    "P, L, U = scipy.linalg.lu(A)\n",
    "print('P:')\n",
    "pprint.pprint(P)\n",
    "print('L:')\n",
    "pprint.pprint(L)\n",
    "print('U:')\n",
    "pprint.pprint(U)\n",
    "print('Verificando que es igual PA al producto LU')\n",
    "print('L*U:')\n",
    "pprint.pprint(L@U)\n",
    "print('P*A')\n",
    "pprint.pprint(P@A)"
   ]
  },
  {
   "cell_type": "code",
   "execution_count": 5,
   "metadata": {},
   "outputs": [
    {
     "name": "stdout",
     "output_type": "stream",
     "text": [
      "Usando los factores P,L,U para resolver AX = b\n",
      "x:\n",
      "array([[10.],\n",
      "       [ 6.],\n",
      "       [ 3.]])\n"
     ]
    }
   ],
   "source": [
    "print('Usando los factores P,L,U para resolver AX = b')\n",
    "D = scipy.linalg.solve_triangular(L,P@b,lower=True)\n",
    "x = scipy.linalg.solve_triangular(U,D) \n",
    "print('x:')\n",
    "pprint.pprint(x)"
   ]
  },
  {
   "cell_type": "code",
   "execution_count": 8,
   "metadata": {},
   "outputs": [
    {
     "name": "stdout",
     "output_type": "stream",
     "text": [
      "Verificando resultado Ax = b\n",
      "B:\n",
      "array([[ 3],\n",
      "       [ 1],\n",
      "       [-2]])\n",
      "Ax:\n",
      "array([[ 3.],\n",
      "       [ 1.],\n",
      "       [-2.]])\n"
     ]
    }
   ],
   "source": [
    "print('Verificando resultado Ax = b')\n",
    "print('B:')\n",
    "pprint.pprint(b)\n",
    "print('Ax:')\n",
    "pprint.pprint(A@x)"
   ]
  },
  {
   "cell_type": "markdown",
   "metadata": {},
   "source": [
    "## Parte 2:\n",
    "$$\n",
    "A=\\left[\\begin{array}{ccc}\n",
    "0 & 1 & -1\\\\\n",
    "-2 & 4 & -1\\\\\n",
    "-2 & 5 & -4\n",
    "\\end{array}\\right],\\:b=\\left[\\begin{array}{c}\n",
    "-5\\\\\n",
    "7\\\\\n",
    "0\n",
    "\\end{array}\\right]\n",
    "$$"
   ]
  },
  {
   "cell_type": "code",
   "execution_count": 15,
   "metadata": {},
   "outputs": [
    {
     "name": "stdout",
     "output_type": "stream",
     "text": [
      "A:\n",
      "array([[ 0,  1, -1],\n",
      "       [-2,  4, -1],\n",
      "       [-2,  5, -4]])\n",
      "b: \n",
      "array([[-5],\n",
      "       [ 7],\n",
      "       [ 0]])\n"
     ]
    }
   ],
   "source": [
    "A = np.array([[0, 1, -1],[-2, 4, -1], [-2,5, -4]])\n",
    "b = np.array([[-5], [7], [0]])\n",
    "print('A:')\n",
    "pprint.pprint(A)\n",
    "print('b: ')\n",
    "pprint.pprint(b)"
   ]
  },
  {
   "cell_type": "code",
   "execution_count": 16,
   "metadata": {},
   "outputs": [
    {
     "name": "stdout",
     "output_type": "stream",
     "text": [
      "P:\n",
      "array([[0., 1., 0.],\n",
      "       [1., 0., 0.],\n",
      "       [0., 0., 1.]])\n",
      "L:\n",
      "array([[ 1.,  0.,  0.],\n",
      "       [-0.,  1.,  0.],\n",
      "       [ 1.,  1.,  1.]])\n",
      "U:\n",
      "array([[-2.,  4., -1.],\n",
      "       [ 0.,  1., -1.],\n",
      "       [ 0.,  0., -2.]])\n",
      "Verificando que es igual PA al producto LU\n",
      "L*U:\n",
      "array([[-2.,  4., -1.],\n",
      "       [ 0.,  1., -1.],\n",
      "       [-2.,  5., -4.]])\n",
      "P*A\n",
      "array([[-2.,  4., -1.],\n",
      "       [ 0.,  1., -1.],\n",
      "       [-2.,  5., -4.]])\n"
     ]
    }
   ],
   "source": [
    "# Obtener los factores P, L, U\n",
    "P, L, U = scipy.linalg.lu(A)\n",
    "print('P:')\n",
    "pprint.pprint(P)\n",
    "print('L:')\n",
    "pprint.pprint(L)\n",
    "print('U:')\n",
    "pprint.pprint(U)\n",
    "print('Verificando que es igual PA al producto LU')\n",
    "print('L*U:')\n",
    "pprint.pprint(L@U)\n",
    "print('P*A')\n",
    "pprint.pprint(P@A)"
   ]
  },
  {
   "cell_type": "code",
   "execution_count": 17,
   "metadata": {},
   "outputs": [
    {
     "name": "stdout",
     "output_type": "stream",
     "text": [
      "Usando los factores P,L,U para resolver AX = b\n",
      "x:\n",
      "array([[-12.],\n",
      "       [ -4.],\n",
      "       [  1.]])\n"
     ]
    }
   ],
   "source": [
    "print('Usando los factores P,L,U para resolver AX = b')\n",
    "D = scipy.linalg.solve_triangular(L,P@b,lower=True)\n",
    "x = scipy.linalg.solve_triangular(U,D) \n",
    "print('x:')\n",
    "pprint.pprint(x)"
   ]
  },
  {
   "cell_type": "code",
   "execution_count": 18,
   "metadata": {},
   "outputs": [
    {
     "name": "stdout",
     "output_type": "stream",
     "text": [
      "Verificando resultado Ax = b\n",
      "B:\n",
      "array([[-5],\n",
      "       [ 7],\n",
      "       [ 0]])\n",
      "Ax:\n",
      "array([[-5.],\n",
      "       [ 7.],\n",
      "       [ 0.]])\n"
     ]
    }
   ],
   "source": [
    "print('Verificando resultado Ax = b')\n",
    "print('B:')\n",
    "pprint.pprint(b)\n",
    "print('Ax:')\n",
    "pprint.pprint(A@x)"
   ]
  },
  {
   "cell_type": "markdown",
   "metadata": {},
   "source": [
    "## Parte 3:\n",
    "$$\n",
    "A=\\left[\\begin{array}{ccc}\n",
    "1 & 2 & 2\\\\\n",
    "2 & 5 & 7\\\\\n",
    "3 & 6 & 6\n",
    "\\end{array}\\right],\\:b=\\left[\\begin{array}{c}\n",
    "0\\\\\n",
    "0\\\\\n",
    "0\n",
    "\\end{array}\\right]\n",
    "$$\n"
   ]
  },
  {
   "cell_type": "code",
   "execution_count": 19,
   "metadata": {},
   "outputs": [
    {
     "name": "stdout",
     "output_type": "stream",
     "text": [
      "A:\n",
      "array([[1, 2, 2],\n",
      "       [2, 5, 7],\n",
      "       [3, 6, 6]])\n",
      "b: \n",
      "array([[0],\n",
      "       [0],\n",
      "       [0]])\n"
     ]
    }
   ],
   "source": [
    "A = np.array([[1, 2, 2],[2, 5, 7], [3, 6, 6]])\n",
    "b = np.array([[0], [0], [0]])\n",
    "print('A:')\n",
    "pprint.pprint(A)\n",
    "print('b: ')\n",
    "pprint.pprint(b)"
   ]
  },
  {
   "cell_type": "code",
   "execution_count": 20,
   "metadata": {},
   "outputs": [
    {
     "name": "stdout",
     "output_type": "stream",
     "text": [
      "P:\n",
      "array([[0., 0., 1.],\n",
      "       [0., 1., 0.],\n",
      "       [1., 0., 0.]])\n",
      "L:\n",
      "array([[1.        , 0.        , 0.        ],\n",
      "       [0.66666667, 1.        , 0.        ],\n",
      "       [0.33333333, 0.        , 1.        ]])\n",
      "U:\n",
      "array([[3., 6., 6.],\n",
      "       [0., 1., 3.],\n",
      "       [0., 0., 0.]])\n",
      "Verificando que es igual PA al producto LU\n",
      "L*U:\n",
      "array([[3., 6., 6.],\n",
      "       [2., 5., 7.],\n",
      "       [1., 2., 2.]])\n",
      "P*A\n",
      "array([[3., 6., 6.],\n",
      "       [2., 5., 7.],\n",
      "       [1., 2., 2.]])\n"
     ]
    }
   ],
   "source": [
    "# Obtener los factores P, L, U\n",
    "P, L, U = scipy.linalg.lu(A)\n",
    "print('P:')\n",
    "pprint.pprint(P)\n",
    "print('L:')\n",
    "pprint.pprint(L)\n",
    "print('U:')\n",
    "pprint.pprint(U)\n",
    "print('Verificando que es igual PA al producto LU')\n",
    "print('L*U:')\n",
    "pprint.pprint(L@U)\n",
    "print('P*A')\n",
    "pprint.pprint(P@A)"
   ]
  },
  {
   "cell_type": "markdown",
   "metadata": {},
   "source": [
    "La matriz U es singular, por lo que no se peude resolver el sistema con el algoritmo PA = LU."
   ]
  }
 ],
 "metadata": {
  "kernelspec": {
   "display_name": "Python 3",
   "language": "python",
   "name": "python3"
  },
  "language_info": {
   "codemirror_mode": {
    "name": "ipython",
    "version": 3
   },
   "file_extension": ".py",
   "mimetype": "text/x-python",
   "name": "python",
   "nbconvert_exporter": "python",
   "pygments_lexer": "ipython3",
   "version": "3.6.8"
  }
 },
 "nbformat": 4,
 "nbformat_minor": 2
}
