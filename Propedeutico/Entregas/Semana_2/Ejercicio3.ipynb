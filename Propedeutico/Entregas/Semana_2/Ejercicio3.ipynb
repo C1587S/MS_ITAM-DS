{
 "cells": [
  {
   "cell_type": "markdown",
   "metadata": {},
   "source": [
    "# Newton-Cotes\n",
    "# (Regla del rectángulo / Regla del trapecio y Simpson)\n",
    "## Ejercicio 3\n",
    "\n",
    "Aproximar el valor de la integral $\\int_0^{\\pi}sin(x)dx = 2$ con reglas compuestas del rectángulo y trapecio con un número de subintervalos $n \\in \\{1,10,20,30,40 \\}$ y hacer gráfica de la forma error relativo vs $n$ ($n$ en el eje horizontal)."
   ]
  },
  {
   "cell_type": "code",
   "execution_count": null,
   "metadata": {},
   "outputs": [],
   "source": [
    "import numpy as np\n",
    "from numpy import absolute\n",
    "import math\n",
    "from math import sin, pi"
   ]
  },
  {
   "cell_type": "markdown",
   "metadata": {},
   "source": [
    "En la regla del Trapecio se define el área total aproximada, $I$, debajo de la función $f(x)$ en el intervalo $\\left[a,b\\right]$, como la sumatoria de las áreas de $n$ subpáneles de espaciado $h=\\frac{b-a}{n}$:\n",
    "$$\n",
    "I=\\sum_{i=0}^{n-1}I_{i}\n",
    "$$\n",
    "donde el área del subpanel $i$, correspondiente a $I_{i}$, se define como:\n",
    "$$\n",
    "I_{i}=\\frac{h}{2}\\left[f\\left(x_{i}\\right)+f\\left(x_{i+1}\\right)\\right]\n",
    "$$\n",
    "Donde $x_{i}$ para $i=1,2,\\ldots,n$, es el nodo $i$. Note que $x_{0}=a$, y $x_{n}=b$.\n",
    "<br><br>\n",
    "A continuación se crea la función \"trap_comp\", que computa la regla compuesta del trapecio, incorporando los parámetros f, a, b y n, correspondientes a la función $f(x)$ a aproximar, los elementos del intervalo $\\left[a,b\\right]$, y el número de páneles deseados, respectivamente. \n",
    "Note que para el caso de un subpanel ($n = 1$), no es necesario iterar.\n"
   ]
  },
  {
   "cell_type": "code",
   "execution_count": null,
   "metadata": {},
   "outputs": [],
   "source": [
    "# Crear una función para la regla compuesta del trapecio\n",
    "def trap_comp(f, a, b, n): # fun: f(x), a, b: del intervalo [a,b], n: número de páneles\n",
    "    h = (b-a)/n # definimos espaciado igual entre nodos\n",
    "    area = 0\n",
    "    # si es un solo panel no se necesita iterar:\n",
    "    if n == 1:\n",
    "        area = (h*0.5)*(f(a)+f(b))\n",
    "        error_ap = (b-a)*(h**2)*\n",
    "    else:\n",
    "        for i in range(0, n):\n",
    "            area_i = (h/2)*(f(h*i) + f(h*(i+1))) # area de cada panel\n",
    "            # print(f\"El área del panel {i} en este paso es {area_i}\")\n",
    "            area = area + area_i\n",
    "    return area\n"
   ]
  },
  {
   "cell_type": "code",
   "execution_count": null,
   "metadata": {},
   "outputs": [],
   "source": [
    "# Crear un vector de errores de la aproximación\n",
    "def err_re_trap_comp(area, area_ast):\n",
    "    err = absolute(area-area_ast) # Por si queremos graficar solo el error\n",
    "    err_rel_tc = err/absolute(area_ast) \n",
    "    return err, err_re\n"
   ]
  },
  {
   "cell_type": "code",
   "execution_count": null,
   "metadata": {},
   "outputs": [],
   "source": [
    "# Desarrollo del ejercicio\n",
    "fun = sen # f(x)\n",
    "a, b = [0, pi] # puntos del intervalo [a,b]\n",
    "n = 8 # paneles\n",
    "\n",
    "\n",
    "\n"
   ]
  },
  {
   "cell_type": "markdown",
   "metadata": {},
   "source": [
    "# Adicionales ...\n",
    "Explorar el computo de los límites inferior y superior de la aproximación\n",
    "El computo del error de la aproximación ($E$) para la regla del trapecio compuesto se define de la forma:\n",
    "$$\n",
    "E=-\\frac{\\left(b-a\\right)*h^{2}}{12}\n",
    "$$\n",
    "A continuación se genera la función \"trap_comp_err\" que computa dicha ecuación."
   ]
  },
  {
   "cell_type": "code",
   "execution_count": null,
   "metadata": {},
   "outputs": [],
   "source": []
  },
  {
   "cell_type": "code",
   "execution_count": null,
   "metadata": {},
   "outputs": [],
   "source": []
  },
  {
   "cell_type": "code",
   "execution_count": null,
   "metadata": {},
   "outputs": [],
   "source": []
  }
 ],
 "metadata": {
  "kernelspec": {
   "display_name": "Python 3",
   "language": "python",
   "name": "python3"
  },
  "language_info": {
   "codemirror_mode": {
    "name": "ipython",
    "version": 3
   },
   "file_extension": ".py",
   "mimetype": "text/x-python",
   "name": "python",
   "nbconvert_exporter": "python",
   "pygments_lexer": "ipython3",
   "version": "3.6.8"
  }
 },
 "nbformat": 4,
 "nbformat_minor": 2
}
