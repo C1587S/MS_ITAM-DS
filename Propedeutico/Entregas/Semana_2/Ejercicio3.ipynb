{
 "cells": [
  {
   "cell_type": "markdown",
   "metadata": {},
   "source": [
    "# Newton-Cotes\n",
    "# (Regla del rectángulo / Regla del trapecio y Simpson)\n",
    "## Ejercicio 3\n",
    "\n",
    "Aproximar el valor de la integral $\\int_0^{\\pi}sin(x)dx = 2$ con reglas compuestas del rectángulo y trapecio con un número de subintervalos $n \\in \\{1,10,20,30,40 \\}$ y hacer gráfica de la forma error relativo vs $n$ ($n$ en el eje horizontal)."
   ]
  },
  {
   "cell_type": "markdown",
   "metadata": {},
   "source": [
    "**Nota**: Los siguientes ejercicios están basados en las notas de clase disponibles en (https://github.com/ITAM-DS/Propedeutico/tree/master/Python/clases/2_calculo_DeI) y en el capítulo 6 del libro Numerical Methods in Engineering with Python 3 (Kiusalaas, 2013)."
   ]
  },
  {
   "cell_type": "code",
   "execution_count": 1,
   "metadata": {},
   "outputs": [],
   "source": [
    "import numpy as np\n",
    "from numpy import absolute\n",
    "import math\n",
    "from math import sin, pi, log"
   ]
  },
  {
   "cell_type": "markdown",
   "metadata": {},
   "source": [
    "# Regla del rectángulo compuesta\n",
    "En la regla del rectángulo compuesto se define el área total aproximada, $I$, debajo de la función $f(x)$ en el intervalo $\\left[a,b\\right]$, como la sumatoria de las áreas ($I_{i}$), de $n$ subpáneles rectangulares de espaciado $h=\\frac{b-a}{n}$:\n",
    "$$\n",
    "I=\\sum_{i=1}^{n}I_{i}\n",
    "$$\n",
    "donde el área del subpanel $i$, correspondiente a $I_{i}$, se define como:\n",
    "$$\n",
    "I_{i}=hf\\left(x_{i}\\right)\n",
    "$$\n",
    "Donde $x_{i}$, es el nodo $i$, con $i=1,\\ldots,n$. Note que $x_{0}=a$, y $x_{n}=b$.\n",
    "<br><br>"
   ]
  },
  {
   "cell_type": "code",
   "execution_count": 20,
   "metadata": {},
   "outputs": [],
   "source": [
    "# Crear una función para la regla del rectangulo (compuesta):\n",
    "def rec_vec(f, a, b, n): # fun: f(x), a, b: del intervalo [a,b]\n",
    "    h = float((b-a))/n # definimos espaciado igual entre nodos - que sea float\n",
    "    area = 0\n",
    "    for i in range(0, n):\n",
    "            area_i = (f(h*i)*(h)) # area de cada panel\n",
    "            # print(f\"El área del panel {i} en este paso es {area_i}\")\n",
    "            area = area + area_i\n",
    "    return area"
   ]
  },
  {
   "cell_type": "code",
   "execution_count": 22,
   "metadata": {},
   "outputs": [],
   "source": [
    "# Crear un vector de errores de la aproximación\n",
    "def err_re_trap_comp(area, area_ast):\n",
    "    err_abs = absolute(area-area_ast) # Por si queremos graficar solo el error\n",
    "    err_rel = err_abs/absolute(area_ast)\n",
    "    return err_abs, err_rel"
   ]
  },
  {
   "cell_type": "code",
   "execution_count": 23,
   "metadata": {},
   "outputs": [
    {
     "name": "stdout",
     "output_type": "stream",
     "text": [
      "El área aproximada por el método de la regla del trapecio compuesto con 1 paneles es 0.0\n",
      "El valor exacto del área es 2 y el error absoluto de la aproximación es 2.0\n",
      "El error relativo de la aproximación es 1.0\n",
      "Esto tiene sentido dado que el \"rectangulo\" creado es una línea, sin área.\n"
     ]
    }
   ],
   "source": [
    "# test\n",
    "fun = sin # f(x)\n",
    "a, b = [0, pi] # puntos del intervalo [a,b]\n",
    "n = 1 # paneles\n",
    "area_ast = 2\n",
    "\n",
    "aprox_area = rec_vec(fun, a, b, n)\n",
    "err_abs_t, err_rel_t = err_re_trap_comp(aprox_area, area_ast)\n",
    "\n",
    "print(f\"El área aproximada por el método de la regla del trapecio compuesto con {n} paneles es {aprox_area}\")\n",
    "print(f\"El valor exacto del área es {area_ast} y el error absoluto de la aproximación es {err_abs_t}\")\n",
    "print(f\"El error relativo de la aproximación es {err_rel_t}\")\n",
    "print('Esto tiene sentido dado que el \"rectangulo\" creado es una línea, sin área.')\n"
   ]
  },
  {
   "cell_type": "code",
   "execution_count": 24,
   "metadata": {},
   "outputs": [
    {
     "name": "stdout",
     "output_type": "stream",
     "text": [
      " \n",
      "El vector de aproximación de la integral es [0.00000000e+000 1.99897181e+000 9.88131292e-323 1.48219694e-322\n",
      " 1.97626258e-322]\n",
      " \n",
      "El vector de errores relativos es [1.00000000e+00 5.14094751e-04 4.85836364e+01 4.85836364e+01\n",
      " 4.85836364e+01]\n"
     ]
    }
   ],
   "source": [
    "# Desarrollo del ejercicio para la regla compuesta del rectángulo\n",
    "fun = sin # f(x)\n",
    "a, b = [0, pi] # puntos del intervalo [a,b]\n",
    "n_list = [1,10,20,30,40] #\n",
    "nvec = np.array(n_list)\n",
    "\n",
    "aprox_rec = np.empty(nvec.shape) #un vector vacío que tenga el tamaño de la lista n\n",
    "pos = 0\n",
    "for z in n_list:\n",
    "    aprox_list_z = rec_vec(fun, a, b, z)\n",
    "    # print(f\"La aproximación en este paso para {z} paneles es {aprox_list_z}\")\n",
    "    aprox_rec[pos] = aprox_list_z\n",
    "    pos =+ 1   \n",
    "    \n",
    "print(' ') ; print(f\"El vector de aproximación de la integral es {aprox_rec}\")\n",
    "\n",
    "# Se hace lo mismo, pero ahora para generar vectores de errores\n",
    "area_ast = 2 # area exacta a comaprar\n",
    "err_rec = np.empty([nvec.shape[0], 2])\n",
    "pos = 0\n",
    "for z in aprox_rec:\n",
    "    err_ab, err_re = err_re_trap_comp(aprox_rec[pos],area_ast)\n",
    "    # print(f\"El error en este paso para {z}  es {err_re}\")\n",
    "    err_rec[pos, :] = err_ab, err_re\n",
    "    pos =+ 1\n",
    "    \n",
    "print(' ') ; print(f\"El vector de errores relativos es {err_rec[:,1]}\")"
   ]
  },
  {
   "cell_type": "code",
   "execution_count": 25,
   "metadata": {},
   "outputs": [
    {
     "name": "stdout",
     "output_type": "stream",
     "text": [
      "<<<<<<<<<< Matriz de errores >>>>>>>>>>\n",
      "Número de paneles [1, 10, 20, 30, 40]\n",
      "Errores absolutos [2.0, 0.0010281895029340404, 214.0729020979021, 292.1148601398602, 370.15681818181815]\n",
      "Errores relativos [1.0, 0.0005140947514670202, 48.583636363636366, 48.583636363636366, 48.583636363636366]\n",
      "----------\n"
     ]
    }
   ],
   "source": [
    "# Hacer una matriz para ver los erroes?\n",
    "\n",
    "print('<<'*5, 'Matriz de errores', '>>'*5)\n",
    "mat_names_er = ['# de Paneles      ', 'EA', 'ER'] \n",
    "mat_err_abs = np.ndarray.tolist(err_rec[:,0])\n",
    "mat_err_rel = np.ndarray.tolist(err_rec[:,1])\n",
    "print('Número de paneles', n_list,);\n",
    "print('Errores absolutos', mat_err_abs); \n",
    "print('Errores relativos', mat_err_rel)\n",
    "print('-'*10)"
   ]
  },
  {
   "cell_type": "markdown",
   "metadata": {},
   "source": [
    "**Obs:** En este ejemplo parece que el área no mejora su aproximación a medida que el número de paneles rectangulares, posiblemente por el error que surge de la aritmética de punto flotante de los números."
   ]
  },
  {
   "cell_type": "markdown",
   "metadata": {},
   "source": [
    "# Regla del Trapecio compuesto"
   ]
  },
  {
   "cell_type": "markdown",
   "metadata": {},
   "source": [
    "En la regla del Trapecio compuesto se define el área total aproximada, $I$, debajo de la función $f(x)$ en el intervalo $\\left[a,b\\right]$, como la sumatoria de las áreas ($I_{i}$), de $n$ subpáneles trapezoidales de espaciado $h=\\frac{b-a}{n}$:\n",
    "$$\n",
    "I=\\sum_{i=0}^{n-1}I_{i}\n",
    "$$\n",
    "donde el área del subpanel $i$, correspondiente a $I_{i}$, se define como:\n",
    "$$\n",
    "I_{i}=\\frac{h}{2}\\left[f\\left(x_{i}\\right)+f\\left(x_{i+1}\\right)\\right]\n",
    "$$\n",
    "Donde $x_{i}$, es el nodo $i$, con $i=0,1,\\ldots,n$. Note que $x_{0}=a$, y $x_{n}=b$.\n",
    "<br><br>\n",
    "A continuación se crea la función \"trap_comp\", que computa la regla compuesta del trapecio, incorporando los parámetros f, a, b y n, correspondientes a la función $f(x)$ a aproximar, los elementos del intervalo $\\left[a,b\\right]$, y el número de páneles deseados, respectivamente. \n",
    "Note que para el caso de un subpanel ($n = 1$), no es necesario iterar.\n"
   ]
  },
  {
   "cell_type": "code",
   "execution_count": 26,
   "metadata": {},
   "outputs": [],
   "source": [
    "# Crear una función para la regla compuesta del trapecio\n",
    "def trap_comp_vec(f, a, b, n): # fun: f(x), a, b: del intervalo [a,b], n: número de páneles\n",
    "    h = float((b-a))/n # definimos espaciado igual entre nodos - que sea float\n",
    "    area = 0\n",
    "    for i in range(0, n):\n",
    "            area_i = (h/2)*(f(h*i) + f(h*(i+1))) # area de cada panel\n",
    "            # print(f\"El área del panel {i} en este paso es {area_i}\")\n",
    "            area = area + area_i\n",
    "    return area\n"
   ]
  },
  {
   "cell_type": "code",
   "execution_count": 27,
   "metadata": {},
   "outputs": [
    {
     "name": "stdout",
     "output_type": "stream",
     "text": [
      "El área aproximada por el método de la regla del trapecio compuesto con 16 paneles es 1.993570343772339\n",
      "El valor exacto del área es 2 y el error absoluto de la aproximación es 0.006429656227660896\n",
      "El error relativo de la aproximación es 0.003214828113830448\n"
     ]
    }
   ],
   "source": [
    "# test\n",
    "fun = sin # f(x)\n",
    "a, b = [0, pi] # puntos del intervalo [a,b]\n",
    "n = 16 # paneles\n",
    "area_ast = 2\n",
    "\n",
    "aprox_area = trap_comp_vec(fun, a, b, n)\n",
    "err_abs_t, err_rel_t = err_re_trap_comp(aprox_area, area_ast)\n",
    "\n",
    "print(f\"El área aproximada por el método de la regla del trapecio compuesto con {n} paneles es {aprox_area}\")\n",
    "print(f\"El valor exacto del área es {area_ast} y el error absoluto de la aproximación es {err_abs_t}\")\n",
    "print(f\"El error relativo de la aproximación es {err_rel_t}\")\n",
    "\n"
   ]
  },
  {
   "cell_type": "code",
   "execution_count": 29,
   "metadata": {},
   "outputs": [
    {
     "name": "stdout",
     "output_type": "stream",
     "text": [
      " \n",
      "El vector de aproximación de la integral es [1.92367069e-016 1.99897181e+000 9.88131292e-323 1.48219694e-322\n",
      " 1.97626258e-322]\n",
      " \n",
      "El vector de errores relativos es [1.00000000e+00 5.14094751e-04 1.00000000e+01 1.50000000e+01\n",
      " 2.00000000e+01]\n"
     ]
    }
   ],
   "source": [
    "# Desarrollo del ejercicio\n",
    "fun = sin # f(x)\n",
    "a, b = [0, pi] # puntos del intervalo [a,b]\n",
    "n_list = [1,10,20,30,40]#\n",
    "nvec = np.array(n_list)\n",
    "\n",
    "aprox_tra = np.empty(nvec.shape) #un vector vacío que tenga el tamaño de la lista n\n",
    "pos = 0\n",
    "for z in n_list:\n",
    "    aprox_list_z = trap_comp_vec(fun, a, b, z)\n",
    "    # print(f\"La aproximación en este paso para {z} paneles es {aprox_list_z}\")\n",
    "    aprox_tra[pos] = aprox_list_z\n",
    "    pos =+ 1   \n",
    "    \n",
    "print(' ') ; print(f\"El vector de aproximación de la integral es {aprox_tra}\")\n",
    "\n",
    "# Se hace lo mismo, pero ahora para generar vectores de errores\n",
    "area_ast = 2 # area exacta a comaprar\n",
    "err_tra = np.empty([nvec.shape[0], 2])\n",
    "pos = 0\n",
    "for z in aprox_tra:\n",
    "    err_ab, err_re = err_re_trap_comp(aprox_tra[pos],area_ast)\n",
    "    # print(f\"El error en este paso para {z}  es {err_re}\")\n",
    "    err_tra[pos, :] = err_ab, err_re\n",
    "    pos =+ 1\n",
    "    \n",
    "print(' ') ; print(f\"El vector de errores relativos es {err_tra[:,1]}\")"
   ]
  },
  {
   "cell_type": "code",
   "execution_count": 30,
   "metadata": {},
   "outputs": [
    {
     "name": "stdout",
     "output_type": "stream",
     "text": [
      "<<<<<<<<<< Matriz de errores >>>>>>>>>>\n",
      "Número de paneles [1, 10, 20, 30, 40]\n",
      "Errores absolutos [1.9999999999999998, 0.0010281895029342625, 20.0, 30.0, 40.0]\n",
      "Errores relativos [0.9999999999999999, 0.0005140947514671312, 10.0, 15.0, 20.0]\n",
      "----------\n"
     ]
    }
   ],
   "source": [
    "# Hacer una matriz para ver los erroes?\n",
    "\n",
    "print('<<'*5, 'Matriz de errores', '>>'*5)\n",
    "mat_names_er = ['# de Paneles      ', 'EA', 'ER'] \n",
    "mat_err_abs = np.ndarray.tolist(err_tra[:,0])\n",
    "mat_err_rel = np.ndarray.tolist(err_tra[:,1])\n",
    "print('Número de paneles', n_list,);\n",
    "print('Errores absolutos', mat_err_abs); \n",
    "print('Errores relativos', mat_err_rel)\n",
    "print('-'*10)"
   ]
  },
  {
   "cell_type": "markdown",
   "metadata": {},
   "source": [
    "# Gráfica de comparación de errores relativos entre los computados por las reglas compuestas del rectángulo y del trapecio."
   ]
  },
  {
   "cell_type": "code",
   "execution_count": 34,
   "metadata": {},
   "outputs": [
    {
     "data": {
      "image/png": "[encoded data removed]",
      "text/plain": [
       "<Figure size 432x288 with 1 Axes>"
      ]
     },
     "metadata": {
      "needs_background": "light"
     },
     "output_type": "display_data"
    }
   ],
   "source": [
    "# Gráfico\n",
    "import matplotlib.pyplot as plt\n",
    "\n",
    "x_ax = np.array(n_list)\n",
    "ab_er_rec = err_rec[:,0]; ab_er_tra = err_tra[:,0]\n",
    "re_er_rec = err_rec[:,1]; re_er_tra = err_tra[:,1]\n",
    "\n",
    "\n",
    "# Subgráfico 2 para mostrar el error relativo\n",
    "plt.plot(x_ax, re_er_rec, '-.b', x_ax, re_er_tra, ':r')\n",
    "plt.legend(('R. compuesta del rectángulo', 'R. compuesta del trapecio'), loc = 0)\n",
    "plt.xlabel('# de páneles (n)'); plt.ylabel('Error relativo')\n",
    "plt.title('Comparación de errores relativos', fontweight=\"bold\")\n",
    "\n",
    "plt.grid(False)\n",
    "plt.show()"
   ]
  },
  {
   "cell_type": "markdown",
   "metadata": {},
   "source": [
    "**Nota:** Parece ser que luego de $n=10$ se materializa el error proveniente de la aritmética de punto flotante."
   ]
  },
  {
   "cell_type": "code",
   "execution_count": null,
   "metadata": {},
   "outputs": [],
   "source": []
  }
 ],
 "metadata": {
  "kernelspec": {
   "display_name": "Python 3",
   "language": "python",
   "name": "python3"
  },
  "language_info": {
   "codemirror_mode": {
    "name": "ipython",
    "version": 3
   },
   "file_extension": ".py",
   "mimetype": "text/x-python",
   "name": "python",
   "nbconvert_exporter": "python",
   "pygments_lexer": "ipython3",
   "version": "3.6.8"
  }
 },
 "nbformat": 4,
 "nbformat_minor": 2
}
