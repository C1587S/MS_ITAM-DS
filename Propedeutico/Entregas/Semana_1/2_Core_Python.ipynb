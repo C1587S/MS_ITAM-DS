{
 "cells": [
  {
   "cell_type": "code",
   "execution_count": 3,
   "metadata": {},
   "outputs": [
    {
     "name": "stdout",
     "output_type": "stream",
     "text": [
      "**********\n",
      "eulers es de tipo: <class 'float'>\n",
      "----------\n",
      "Z es de tipo: <class 'int'>\n",
      "----------\n",
      "**********\n"
     ]
    }
   ],
   "source": [
    "# VARIABLES\n",
    "\n",
    "print('*'*10)\n",
    "\n",
    "eulers = 0.577  # Variable llamada Euler\n",
    "print('eulers es de tipo:', type(eulers)); print('-'*10) # dice el tipo de variable\n",
    "Z = 0  # Variable Z de tipo entero\n",
    "print('Z es de tipo:', type(Z)); print('-'*10) # dice el tipo de a variable\n",
    "\n",
    "print('*'*10)"
   ]
  },
  {
   "cell_type": "code",
   "execution_count": 4,
   "metadata": {},
   "outputs": [
    {
     "name": "stdout",
     "output_type": "stream",
     "text": [
      "**********\n",
      "Mi nombre es: Sebastian Cadavid Sanchez\n",
      "----------\n",
      "En el anterior ejemplo se creo la variable eulers = 0.577\n",
      "----------\n",
      "**********\n"
     ]
    }
   ],
   "source": [
    "# STRINGS\n",
    "\n",
    "print('*'*10)\n",
    "\n",
    "# Crear tres strings con las partes de mi nombre\n",
    "nombre = 'Sebastian'\n",
    "apellido_paterno = 'Cadavid'\n",
    "apellido_materno = 'Sanchez'\n",
    "print('Mi nombre es:', nombre, apellido_paterno, apellido_materno); print('-'*10) # Se imprimen simultaneamente tres strings\n",
    "print(f\"En el anterior ejemplo se creo la variable eulers = {eulers}\"); print('-'*10) # Se convierte a string una variable float creada anteriormente\n",
    "\n",
    "print('*'*10)"
   ]
  },
  {
   "cell_type": "code",
   "execution_count": null,
   "metadata": {},
   "outputs": [],
   "source": []
  },
  {
   "cell_type": "code",
   "execution_count": 33,
   "metadata": {},
   "outputs": [
    {
     "name": "stdout",
     "output_type": "stream",
     "text": [
      "**********\n",
      "La capital de Colombia es:  Bogota\n",
      "----------\n",
      "La poblacion de Colombia es 49.07\n",
      "----------\n",
      "Las principales ciudades turísticas son:  ('Cartagena', 'Medellin')\n",
      "----------\n",
      "Las poblaciones de Cartagena y Medellin son:  (0.21, 2.5)\n",
      "----------\n",
      "El primer elemento de la tupla es:  Bogota\n",
      "----------\n",
      "El tercer elemento de la tupla es otra tupla:  ('Cartagena', 'Medellin')\n",
      "----------\n",
      "**********\n"
     ]
    }
   ],
   "source": [
    "# TUPLAS \n",
    "\n",
    "print('*'*10)\n",
    "\n",
    "Colombia = ('Bogota', 49.07, ('Cartagena', 'Medellin'), (0.21, 2.5)) # Creamos la tupla \"Colombia\"\n",
    "Capital, Poblacion, CiudadesTurismo, PobCiudadesTurismo = Colombia # \"Desempacar\" los elementos de la tupla:\n",
    "# Ejemplo de los elementos sacados de la tupla:\n",
    "print(\"La capital de Colombia es: \", Capital); print('-'*10)\n",
    "print(\"La poblacion de Colombia es\", Poblacion); print('-'*10)\n",
    "print(\"Las principales ciudades turísticas son: \", CiudadesTurismo); print('-'*10)\n",
    "print(\"Las poblaciones de Cartagena y Medellin son: \", PobCiudadesTurismo); print('-'*10)\n",
    "\n",
    "# Sacar elementos 1 y 3 de la tupla\n",
    "print(\"El primer elemento de la tupla es: \", Colombia[0]); print('-'*10)\n",
    "print(\"El tercer elemento de la tupla es otra tupla: \", Colombia[2]); print('-'*10)\n",
    "\n",
    "print('*'*10)"
   ]
  },
  {
   "cell_type": "code",
   "execution_count": 30,
   "metadata": {},
   "outputs": [
    {
     "name": "stdout",
     "output_type": "stream",
     "text": [
      "**********\n",
      "La capital de Amazonas es Leticia\n",
      "----------\n",
      "Las llaves del diccionario son:  dict_keys(['Amazonas', 'Antioquia', 'Boyaca'])\n",
      "----------\n",
      "Los valores del diccionario son:  dict_values(['Leticia', 'Medellin', 'Tunja'])\n",
      "----------\n",
      "La capital de Manizales es Manizales\n",
      "----------\n",
      "**********\n"
     ]
    }
   ],
   "source": [
    "# DICCIONARIOS\n",
    "\n",
    "print('*'*10)\n",
    "\n",
    "# Vamos a crear un diccionario con las capitales de cuatro departamentos de\n",
    "# Colombia llamado \"DiccCapsCol\"\n",
    "\n",
    "DiccCapsCol = {'Amazonas': 'Leticia',\n",
    "               'Antioquia': 'Medellin',\n",
    "               'Boyaca': 'Tunja'}\n",
    "# Accedemos a los valores gurdados en las llaves, que son las capitales\n",
    "print('La capital de Amazonas es', DiccCapsCol['Amazonas']); print('-'*10)\n",
    "# Imprimir las llaves y sus valores\n",
    "print('Las llaves del diccionario son: ', DiccCapsCol.keys()); print('-'*10)\n",
    "print('Los valores del diccionario son: ', DiccCapsCol.values()); print('-'*10)\n",
    "# Agregamos un nuevo departamento y capital al diccionario y mostramos su contenido\n",
    "DiccCapsCol['Caldas'] = 'Manizales'\n",
    "print('La capital de Manizales es', DiccCapsCol['Caldas']); print('-'*10)\n",
    "\n",
    "print('*'*10)"
   ]
  },
  {
   "cell_type": "code",
   "execution_count": 31,
   "metadata": {},
   "outputs": [
    {
     "name": "stdout",
     "output_type": "stream",
     "text": [
      "**********\n",
      "Se creó la siguiente lista de floats:  [3.0, 11.0, 1992.0]\n",
      "----------\n",
      "La nueva lista es:  [3.0, 11.0, 1992.0, 2.0]\n",
      "----------\n",
      "Cambiamos el segundo elemento de la lista por 0.0, ahora queda [3.0, 0.0, 1992.0, 2.0]\n",
      "----------\n",
      "Lista original:  [3.0, 0.0, 1992.0, 2.0]\n",
      "----------\n",
      "Lista nueva:  [3.0, 0.0, 1992.0, 100]\n",
      "----------\n",
      "**********\n"
     ]
    }
   ],
   "source": [
    "# LISTAS\n",
    "\n",
    "print('*'*10)\n",
    "\n",
    "# Lista de floats\n",
    "floatlist = [3.0, 11.0, 1992.0] \n",
    "print('Se creó la siguiente lista de floats: ', floatlist); print('-'*10)\n",
    "# Como las lsitas se pueden modificar, agregamos otro elemento\n",
    "floatlist.append(2.0)\n",
    "print('La nueva lista es: ', floatlist); print('-'*10)\n",
    "# Cambiamos el segundo elementoen la lista:\n",
    "floatlist[1] = 0.0\n",
    "print('Cambiamos el segundo elemento de la lista por 0.0, ahora queda', floatlist); print('-'*10)\n",
    "\n",
    "newfloat = floatlist[:] # Crear una lista independiente de la lista original pero partiendo de esta última\n",
    "newfloat[-1] = 100 # la nueva lista le cambiamos el último elemento por 100 y comparamos con la original\n",
    "\n",
    "print('Lista original: ', floatlist); print('-'*10)\n",
    "print('Lista nueva: ', newfloat); print('-'*10)\n",
    "\n",
    "print('*'*10)"
   ]
  },
  {
   "cell_type": "code",
   "execution_count": 68,
   "metadata": {},
   "outputs": [
    {
     "name": "stdout",
     "output_type": "stream",
     "text": [
      "**********\n",
      "Esta es la lista con valores j - 1:  [-11, -10, -9, -8, -7, -6, -5, -4, -3, -2, -1, 0, 1, 2, 3, 4, 5, 6, 7, 8]\n",
      "----------\n",
      "Esta es la lista con  valores j:  [-10, -9, -8, -7, -6, -5, -4, -3, -2, -1, 0, 1, 2, 3, 4, 5, 6, 7, 8, 9]\n",
      "----------\n",
      "Esta es la lista con valores j + 1:  [-9, -8, -7, -6, -5, -4, -3, -2, -1, 0, 1, 2, 3, 4, 5, 6, 7, 8, 9, 10]\n",
      "**********\n",
      "ejemplo con números triangulares\n",
      "La lista final es:  []\n"
     ]
    }
   ],
   "source": [
    "\n"
   ]
  },
  {
   "cell_type": "code",
   "execution_count": 112,
   "metadata": {},
   "outputs": [
    {
     "name": "stdout",
     "output_type": "stream",
     "text": [
      "**********\n",
      "Lista de números triangulares\n",
      "------------------------------\n",
      "En el paso 1 a es: 1.0 / b es: 2 / c es: 3.0 ...\n",
      "En el paso 2 a es: 3.0 / b es: 3 / c es: 6.0 ...\n",
      "En el paso 3 a es: 6.0 / b es: 4 / c es: 10.0 ...\n",
      "En el paso 4 a es: 10.0 / b es: 5 / c es: 15.0 ...\n",
      "En el paso 5 a es: 15.0 / b es: 6 / c es: 21.0 ...\n",
      "En el paso 6 a es: 21.0 / b es: 7 / c es: 28.0 ...\n",
      "En el paso 7 a es: 28.0 / b es: 8 / c es: 36.0 ...\n",
      "En el paso 8 a es: 36.0 / b es: 9 / c es: 45.0 ...\n",
      "En el paso 9 a es: 45.0 / b es: 10 / c es: 55.0 ...\n",
      "En el paso 10 a es: 55.0 / b es: 11 / c es: 66.0 ...\n",
      ">> La lista de números triangulares generada es:  [3.0, 6.0, 10.0, 15.0, 21.0, 28.0, 36.0, 45.0, 55.0, 66.0]\n",
      "**********\n"
     ]
    }
   ],
   "source": [
    "# BUCLES: WHILE\n",
    "\n",
    "print('*'*10)\n",
    "\n",
    "print('Lista de números triangulares')\n",
    "print('-'*30)\n",
    "\n",
    "num_a = 1.0\n",
    "num_b = 2\n",
    "num_c = num_a + num_b\n",
    "paso = 1\n",
    "\n",
    "lista_triangulares = [] \n",
    "\n",
    "while num_c < 70:\n",
    "    \n",
    "    print(f\"En el paso {paso}\",f\"a es: {num_a}\", f\"/ b es: {num_b}\", f\"/ c es: {num_c}\", '...')\n",
    "    \n",
    "    lista_triangulares.append(num_c) # Crear el vector con los números triangulares\n",
    "    \n",
    "    num_a = num_c\n",
    "    num_b += 1\n",
    "    num_c = num_a + num_b\n",
    "    \n",
    "    paso += 1\n",
    "\n",
    "    \n",
    "print('>> La lista de números triangulares generada es: ', lista_triangulares)\n",
    "\n",
    "print('*'*10)"
   ]
  },
  {
   "cell_type": "code",
   "execution_count": 113,
   "metadata": {},
   "outputs": [
    {
     "name": "stdout",
     "output_type": "stream",
     "text": [
      "**********\n",
      ">> La lista con la suma de números anteriores a n más n es:  [0.0, 1.0, 3.0, 6.0, 10.0, 15.0, 21.0, 28.0, 36.0, 45.0]\n",
      "Nota: Esta lista a partir del elemento 3 coincide con los números triangulares del ejemplo anterior!\n",
      "**********\n"
     ]
    }
   ],
   "source": [
    "# BUCLES: FOR\n",
    "print('*'*10)\n",
    "# sumatorias de números anteriores a n más n\n",
    "lista_sumaAnt = []\n",
    "\n",
    "X = 10\n",
    "for n in range(X):\n",
    "    lista_sumaAnt.append((n)*(n+1)/2)\n",
    "\n",
    "print('>> La lista con la suma de números anteriores a n más n es: ', lista_sumaAnt)\n",
    "print('Nota: Esta lista a partir del elemento 3 coincide con los números triangulares del ejemplo anterior!')\n",
    "\n",
    "print('*'*10)"
   ]
  },
  {
   "cell_type": "code",
   "execution_count": 141,
   "metadata": {},
   "outputs": [
    {
     "name": "stdout",
     "output_type": "stream",
     "text": [
      "**********\n"
     ]
    },
    {
     "name": "stdin",
     "output_type": "stream",
     "text": [
      "Inserte el valor de x:  -1\n"
     ]
    },
    {
     "name": "stdout",
     "output_type": "stream",
     "text": [
      "Como x es no-positivo, evaluaremos exp(x) y no log(x)\n",
      "exp(-1):  0.36787944117144233\n"
     ]
    }
   ],
   "source": [
    "# CONDICIONALES\n",
    "\n",
    "# PARTE 1 (Haciendo el test de la primera parte del condicional)\n",
    "\n",
    "import math\n",
    "print('*'*10)\n",
    "# Este eje ejemplo se construye usando los anteriores dos ejemplos de buckles. \n",
    "\n",
    "def cond_eval_fun():\n",
    "    x = int(input('Inserte el valor de x: '))\n",
    "\n",
    "    if x <= 0:\n",
    "        signo = 'no-positivo'\n",
    "        print(f\"Como x es {signo}, evaluaremos exp(x) y no log(x)\")\n",
    "        print(f\"exp({x}): \", math.exp(x))\n",
    "    else:\n",
    "        signo = 'positivo'\n",
    "        print(f\"Como x es {signo}, evaluaremos log(x) y no exp(x)\")\n",
    "        print(f\"log({x}): \", math.log(x))\n",
    "    \n",
    "# Prueba:\n",
    "cond_eval_fun()\n",
    "\n",
    "# Al introducir un x negativo activamos la primera parte del condicional.\n"
   ]
  },
  {
   "cell_type": "code",
   "execution_count": 5,
   "metadata": {},
   "outputs": [
    {
     "name": "stdout",
     "output_type": "stream",
     "text": [
      "**********\n"
     ]
    },
    {
     "name": "stdin",
     "output_type": "stream",
     "text": [
      "Inserte el valor de x:  10\n"
     ]
    },
    {
     "name": "stdout",
     "output_type": "stream",
     "text": [
      "Como x es positivo, evaluaremos log(x) y no exp(x)\n",
      "log(10):  2.302585092994046\n"
     ]
    }
   ],
   "source": [
    "# CONDICIONALES\n",
    "\n",
    "# PARTE 2 (Haciendo el test de la segunda parte del condicional)\n",
    "\n",
    "import math\n",
    "print('*'*10)\n",
    "# Este eje ejemplo se construye usando los anteriores dos ejemplos de buckles. \n",
    "\n",
    "def cond_eval_fun():\n",
    "    x = int(input('Inserte el valor de x: '))\n",
    "\n",
    "    if x <= 0:\n",
    "        signo = 'no-positivo'\n",
    "        print(f\"Como x es {signo}, evaluaremos exp(x) y no log(x)\")\n",
    "        print(f\"exp({x}): \", math.exp(x))\n",
    "    else:\n",
    "        signo = 'positivo'\n",
    "        print(f\"Como x es {signo}, evaluaremos log(x) y no exp(x)\")\n",
    "        print(f\"log({x}): \", math.log(x))\n",
    "    \n",
    "# Prueba:\n",
    "\n",
    "cond_eval_fun()\n",
    "\n",
    "# Al introducir un x negativo activamos la segunda parte del condicional."
   ]
  },
  {
   "cell_type": "code",
   "execution_count": null,
   "metadata": {},
   "outputs": [],
   "source": []
  }
 ],
 "metadata": {
  "kernelspec": {
   "display_name": "Python 3",
   "language": "python",
   "name": "python3"
  },
  "language_info": {
   "codemirror_mode": {
    "name": "ipython",
    "version": 3
   },
   "file_extension": ".py",
   "mimetype": "text/x-python",
   "name": "python",
   "nbconvert_exporter": "python",
   "pygments_lexer": "ipython3",
   "version": "3.6.8"
  }
 },
 "nbformat": 4,
 "nbformat_minor": 2
}
