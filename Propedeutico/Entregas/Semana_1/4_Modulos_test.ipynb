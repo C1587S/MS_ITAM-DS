{
 "cells": [
  {
   "cell_type": "code",
   "execution_count": 14,
   "metadata": {},
   "outputs": [
    {
     "name": "stdout",
     "output_type": "stream",
     "text": [
      "----------\n",
      "Función siendo evaluada: <built-in function asin>\n",
      "La primera derivada centrada en x = 0.5 es: 1.1547005383527596e-12.\n",
      "----------\n",
      "Función siendo evaluada: <built-in function asin>\n",
      "Las segunda derivada centrada en x = 0.5 es: 0.769717622972621.\n",
      "----------\n"
     ]
    }
   ],
   "source": [
    "\n",
    "# para importar el módulo que creamos\n",
    "import dif_centrada as dif\n",
    "import math\n",
    "# Función de prueba: math.asin y x=0.5.\n",
    "ftest = math.asin\n",
    "xtest = 0.5\n",
    "print('-'*10)\n",
    "df = dif.aprox_derivada(xtest, ftest)\n",
    "print('-'*10)\n",
    "dff = dif.aprox_2a_derivada(xtest, ftest)\n",
    "print('-'*10)"
   ]
  }
 ],
 "metadata": {
  "kernelspec": {
   "display_name": "Python 3",
   "language": "python",
   "name": "python3"
  },
  "language_info": {
   "codemirror_mode": {
    "name": "ipython",
    "version": 3
   },
   "file_extension": ".py",
   "mimetype": "text/x-python",
   "name": "python",
   "nbconvert_exporter": "python",
   "pygments_lexer": "ipython3",
   "version": "3.6.8"
  }
 },
 "nbformat": 4,
 "nbformat_minor": 2
}
