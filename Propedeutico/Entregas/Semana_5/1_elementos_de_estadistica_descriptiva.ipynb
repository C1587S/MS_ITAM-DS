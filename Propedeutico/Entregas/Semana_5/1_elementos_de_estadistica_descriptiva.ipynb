{
 "cells": [
  {
   "cell_type": "markdown",
   "metadata": {},
   "source": [
    "# Estadística"
   ]
  },
  {
   "cell_type": "markdown",
   "metadata": {},
   "source": [
    "**Nota:** Los siguientes ejercicios están basados en las notas de clase disponibles en: https://github.com/ITAM-DS/Propedeutico/tree/master/R/clases/3_estadistica."
   ]
  },
  {
   "cell_type": "code",
   "execution_count": 1,
   "metadata": {},
   "outputs": [],
   "source": [
    "options(repr.plot.width=4, repr.plot.height=4) #esta línea sólo se ejecuta para jupyterlab con R"
   ]
  },
  {
   "cell_type": "code",
   "execution_count": null,
   "metadata": {},
   "outputs": [],
   "source": [
    "library(prob)"
   ]
  },
  {
   "cell_type": "markdown",
   "metadata": {},
   "source": [
    "## Ejercicio 1\n",
    "Considérese el experimento de lanzar $20$ veces una moneda y obtener la secuencia: $H,T,H,H,T,H,H,T,H,H,T,T,H,T,T,T,H,H,H,T$."
   ]
  },
  {
   "cell_type": "markdown",
   "metadata": {},
   "source": [
    "**A** Tabular los resultados del experimento anterior encontrando las proporciones de $H$ y $T$ en los $20$ lanzamientos."
   ]
  },
  {
   "cell_type": "code",
   "execution_count": 23,
   "metadata": {},
   "outputs": [
    {
     "data": {
      "text/plain": [
       "res_secuencia\n",
       " H  T \n",
       "11  9 "
      ]
     },
     "metadata": {},
     "output_type": "display_data"
    }
   ],
   "source": [
    "res_secuencia <- c('H','T','H','H','T','H','H','T','H','H','T','T','H','T','T','T','H','H','H','T')\n",
    "caras <- table(res_secuencia)\n",
    "caras"
   ]
  },
  {
   "cell_type": "markdown",
   "metadata": {},
   "source": [
    "**B.** Graficar las proporciones con barplot y plot."
   ]
  },
  {
   "cell_type": "code",
   "execution_count": 24,
   "metadata": {},
   "outputs": [
    {
     "data": {
      "image/png": "[encoded data removed]",
      "text/plain": [
       "plot without title"
      ]
     },
     "metadata": {},
     "output_type": "display_data"
    }
   ],
   "source": [
    "# barplot\n",
    "barplot(caras)"
   ]
  },
  {
   "cell_type": "code",
   "execution_count": 25,
   "metadata": {},
   "outputs": [
    {
     "data": {
      "image/png": "[encoded data removed]",
      "text/plain": [
       "plot without title"
      ]
     },
     "metadata": {},
     "output_type": "display_data"
    }
   ],
   "source": [
    "# plot\n",
    "plot(caras)"
   ]
  },
  {
   "cell_type": "markdown",
   "metadata": {},
   "source": [
    "## Ejercicio 2\n",
    "Para el dataset analizado anteriormente y que se creó log_mammals (abajo se reconstruye),realizar:"
   ]
  },
  {
   "cell_type": "code",
   "execution_count": null,
   "metadata": {},
   "outputs": [],
   "source": [
    "options(digits = 7)#para imprimir 7 número de dígitos en el summary\n",
    "library(MASS)"
   ]
  },
  {
   "cell_type": "code",
   "execution_count": 27,
   "metadata": {},
   "outputs": [
    {
     "data": {
      "text/html": [
       "<table>\n",
       "<caption>A data.frame: 6 x 2</caption>\n",
       "<thead>\n",
       "\t<tr><th></th><th scope=col>log_body</th><th scope=col>log_brain</th></tr>\n",
       "\t<tr><th></th><th scope=col>&lt;dbl&gt;</th><th scope=col>&lt;dbl&gt;</th></tr>\n",
       "</thead>\n",
       "<tbody>\n",
       "\t<tr><th scope=row>Arctic fox</th><td> 1.2193539</td><td>3.795489</td></tr>\n",
       "\t<tr><th scope=row>Owl monkey</th><td>-0.7339692</td><td>2.740840</td></tr>\n",
       "\t<tr><th scope=row>Mountain beaver</th><td> 0.3001046</td><td>2.091864</td></tr>\n",
       "\t<tr><th scope=row>Cow</th><td> 6.1420374</td><td>6.047372</td></tr>\n",
       "\t<tr><th scope=row>Grey wolf</th><td> 3.5926438</td><td>4.783316</td></tr>\n",
       "\t<tr><th scope=row>Goat</th><td> 3.3199873</td><td>4.744932</td></tr>\n",
       "</tbody>\n",
       "</table>\n"
      ],
      "text/latex": [
       "A data.frame: 6 x 2\n",
       "\\begin{tabular}{r|ll}\n",
       "  & log\\_body & log\\_brain\\\\\n",
       "  & <dbl> & <dbl>\\\\\n",
       "\\hline\n",
       "\tArctic fox &  1.2193539 & 3.795489\\\\\n",
       "\tOwl monkey & -0.7339692 & 2.740840\\\\\n",
       "\tMountain beaver &  0.3001046 & 2.091864\\\\\n",
       "\tCow &  6.1420374 & 6.047372\\\\\n",
       "\tGrey wolf &  3.5926438 & 4.783316\\\\\n",
       "\tGoat &  3.3199873 & 4.744932\\\\\n",
       "\\end{tabular}\n"
      ],
      "text/markdown": [
       "\n",
       "A data.frame: 6 x 2\n",
       "\n",
       "| <!--/--> | log_body &lt;dbl&gt; | log_brain &lt;dbl&gt; |\n",
       "|---|---|---|\n",
       "| Arctic fox |  1.2193539 | 3.795489 |\n",
       "| Owl monkey | -0.7339692 | 2.740840 |\n",
       "| Mountain beaver |  0.3001046 | 2.091864 |\n",
       "| Cow |  6.1420374 | 6.047372 |\n",
       "| Grey wolf |  3.5926438 | 4.783316 |\n",
       "| Goat |  3.3199873 | 4.744932 |\n",
       "\n"
      ],
      "text/plain": [
       "                log_body   log_brain\n",
       "Arctic fox       1.2193539 3.795489 \n",
       "Owl monkey      -0.7339692 2.740840 \n",
       "Mountain beaver  0.3001046 2.091864 \n",
       "Cow              6.1420374 6.047372 \n",
       "Grey wolf        3.5926438 4.783316 \n",
       "Goat             3.3199873 4.744932 "
      ]
     },
     "metadata": {},
     "output_type": "display_data"
    }
   ],
   "source": [
    "log_mammals <- log(mammals)\n",
    "colnames(log_mammals) <- c('log_body', 'log_brain')\n",
    "head(log_mammals)"
   ]
  },
  {
   "cell_type": "code",
   "execution_count": 28,
   "metadata": {},
   "outputs": [
    {
     "data": {
      "text/plain": [
       "    log_body         log_brain     \n",
       " Min.   :-5.2983   Min.   :-1.966  \n",
       " 1st Qu.:-0.5203   1st Qu.: 1.442  \n",
       " Median : 1.2066   Median : 2.848  \n",
       " Mean   : 1.3375   Mean   : 3.140  \n",
       " 3rd Qu.: 3.8639   3rd Qu.: 5.111  \n",
       " Max.   : 8.8030   Max.   : 8.650  "
      ]
     },
     "metadata": {},
     "output_type": "display_data"
    }
   ],
   "source": [
    "summary(log_mammals)"
   ]
  },
  {
   "cell_type": "markdown",
   "metadata": {},
   "source": [
    "**A.** Para datos cuantitativos es común realizar diagramas de tallos y hojas. Investigar la interpretación de estos diagramas y usar la función stem del paquete base de R para realizar tales diagramas a las variables log_body y log_brain e interpretarlas."
   ]
  },
  {
   "cell_type": "code",
   "execution_count": 29,
   "metadata": {},
   "outputs": [],
   "source": [
    "log_mammals_m <- as.matrix(log_mammals) # convertir a una matriz los datos"
   ]
  },
  {
   "cell_type": "code",
   "execution_count": 30,
   "metadata": {},
   "outputs": [
    {
     "data": {
      "text/plain": [
       "   Min. 1st Qu.  Median    Mean 3rd Qu.    Max. \n",
       "-5.2983 -0.5203  1.2066  1.3375  3.8639  8.8030 "
      ]
     },
     "metadata": {},
     "output_type": "display_data"
    }
   ],
   "source": [
    "summary(log_mammals_m[,1])"
   ]
  },
  {
   "cell_type": "code",
   "execution_count": 31,
   "metadata": {},
   "outputs": [
    {
     "name": "stdout",
     "output_type": "stream",
     "text": [
      "[1] \"Diagrama de tallo y hojas de log_body\"\n",
      "[1] \"Los datos estan en log(kgs)\"\n",
      "\n",
      "  The decimal point is at the |\n",
      "\n",
      "  -4 | 36\n",
      "  -2 | 880863311\n",
      "  -0 | 639763211\n",
      "   0 | 00333557912233344459\n",
      "   2 | 347366\n",
      "   4 | 00114612335\n",
      "   6 | 1338\n",
      "   8 | 8\n",
      "\n"
     ]
    }
   ],
   "source": [
    "print('Diagrama de tallo y hojas de log_body')\n",
    "print('Los datos estan en log(kgs)')\n",
    "stem(log_mammals_m[,1])"
   ]
  },
  {
   "cell_type": "markdown",
   "metadata": {},
   "source": [
    "* El diagrama de tallo y hojas para el logaritmo del peso del cerebro los mamíferos (medido en gramos), se expresa en unidades y se presenta de forma descendente. Estos diagramas son útiles para identificar la moda en un conjunto de datos, para este caso es notorio que la mayoría del pesos del cuerpo en kgs se ubican en torno a un logarítmo del peso de su cerebro cercano a las cero unidades, y especialmente 0.3. También nos da una vaga idea de la distribución de los datos."
   ]
  },
  {
   "cell_type": "code",
   "execution_count": 32,
   "metadata": {},
   "outputs": [
    {
     "name": "stdout",
     "output_type": "stream",
     "text": [
      "[1] \"Diagrama de tallo y hojas de log_brain\"\n",
      "[1] \"Los datos estan en log(gs)\"\n",
      "\n",
      "  The decimal point is at the |\n",
      "\n",
      "  -2 | 0\n",
      "  -0 | 4219\n",
      "   0 | 00269901344677899\n",
      "   2 | 1445555789022789\n",
      "   4 | 01467781122228\n",
      "   6 | 00012552\n",
      "   8 | 47\n",
      "\n"
     ]
    }
   ],
   "source": [
    "print('Diagrama de tallo y hojas de log_brain')\n",
    "print('Los datos estan en log(gs)')\n",
    "stem(log_mammals_m[,2])"
   ]
  },
  {
   "cell_type": "markdown",
   "metadata": {},
   "source": [
    "* El diagrama de tallo y hojas para el logaritmo del peso del cerebro de los mamíferos (medido en gramos) presentado anteriormente indica que el logaritmo del peso de los mmíferos se expresa en unidades para la totalidad de la muestra y la moda se encuentra en torno a valores del 0 y 2 con respectivos decimales, en particular de 2.9. De igual forma, nos da una vaga idea de la distribución de los datos."
   ]
  },
  {
   "cell_type": "markdown",
   "metadata": {},
   "source": [
    "**B.**  scatterplot coloreando diferente a cada grupo que se creó: mamífero pequeño y mamífero grande con la variable size_body."
   ]
  },
  {
   "cell_type": "code",
   "execution_count": 33,
   "metadata": {},
   "outputs": [],
   "source": [
    "library(ggplot2)"
   ]
  },
  {
   "cell_type": "code",
   "execution_count": 34,
   "metadata": {},
   "outputs": [],
   "source": [
    "mediana_body = median(log_mammals$log_body)\n",
    "log_mammals$size_body = ifelse(log_mammals$log_body >= mediana_body, \"grande\", \"pequenio\")\n",
    "#añadimos también la de brain:\n",
    "mediana_brain = median(log_mammals$log_brain)\n",
    "log_mammals$size_brain = ifelse(log_mammals$log_brain >= mediana_brain, \"grande\", \"pequenio\")"
   ]
  },
  {
   "cell_type": "code",
   "execution_count": 35,
   "metadata": {},
   "outputs": [
    {
     "data": {
      "text/html": [
       "<table>\n",
       "<caption>A data.frame: 6 x 4</caption>\n",
       "<thead>\n",
       "\t<tr><th></th><th scope=col>log_body</th><th scope=col>log_brain</th><th scope=col>size_body</th><th scope=col>size_brain</th></tr>\n",
       "\t<tr><th></th><th scope=col>&lt;dbl&gt;</th><th scope=col>&lt;dbl&gt;</th><th scope=col>&lt;chr&gt;</th><th scope=col>&lt;chr&gt;</th></tr>\n",
       "</thead>\n",
       "<tbody>\n",
       "\t<tr><th scope=row>Arctic fox</th><td> 1.2193539</td><td>3.795489</td><td>grande  </td><td>grande  </td></tr>\n",
       "\t<tr><th scope=row>Owl monkey</th><td>-0.7339692</td><td>2.740840</td><td>pequenio</td><td>pequenio</td></tr>\n",
       "\t<tr><th scope=row>Mountain beaver</th><td> 0.3001046</td><td>2.091864</td><td>pequenio</td><td>pequenio</td></tr>\n",
       "\t<tr><th scope=row>Cow</th><td> 6.1420374</td><td>6.047372</td><td>grande  </td><td>grande  </td></tr>\n",
       "\t<tr><th scope=row>Grey wolf</th><td> 3.5926438</td><td>4.783316</td><td>grande  </td><td>grande  </td></tr>\n",
       "\t<tr><th scope=row>Goat</th><td> 3.3199873</td><td>4.744932</td><td>grande  </td><td>grande  </td></tr>\n",
       "</tbody>\n",
       "</table>\n"
      ],
      "text/latex": [
       "A data.frame: 6 x 4\n",
       "\\begin{tabular}{r|llll}\n",
       "  & log\\_body & log\\_brain & size\\_body & size\\_brain\\\\\n",
       "  & <dbl> & <dbl> & <chr> & <chr>\\\\\n",
       "\\hline\n",
       "\tArctic fox &  1.2193539 & 3.795489 & grande   & grande  \\\\\n",
       "\tOwl monkey & -0.7339692 & 2.740840 & pequenio & pequenio\\\\\n",
       "\tMountain beaver &  0.3001046 & 2.091864 & pequenio & pequenio\\\\\n",
       "\tCow &  6.1420374 & 6.047372 & grande   & grande  \\\\\n",
       "\tGrey wolf &  3.5926438 & 4.783316 & grande   & grande  \\\\\n",
       "\tGoat &  3.3199873 & 4.744932 & grande   & grande  \\\\\n",
       "\\end{tabular}\n"
      ],
      "text/markdown": [
       "\n",
       "A data.frame: 6 x 4\n",
       "\n",
       "| <!--/--> | log_body &lt;dbl&gt; | log_brain &lt;dbl&gt; | size_body &lt;chr&gt; | size_brain &lt;chr&gt; |\n",
       "|---|---|---|---|---|\n",
       "| Arctic fox |  1.2193539 | 3.795489 | grande   | grande   |\n",
       "| Owl monkey | -0.7339692 | 2.740840 | pequenio | pequenio |\n",
       "| Mountain beaver |  0.3001046 | 2.091864 | pequenio | pequenio |\n",
       "| Cow |  6.1420374 | 6.047372 | grande   | grande   |\n",
       "| Grey wolf |  3.5926438 | 4.783316 | grande   | grande   |\n",
       "| Goat |  3.3199873 | 4.744932 | grande   | grande   |\n",
       "\n"
      ],
      "text/plain": [
       "                log_body   log_brain size_body size_brain\n",
       "Arctic fox       1.2193539 3.795489  grande    grande    \n",
       "Owl monkey      -0.7339692 2.740840  pequenio  pequenio  \n",
       "Mountain beaver  0.3001046 2.091864  pequenio  pequenio  \n",
       "Cow              6.1420374 6.047372  grande    grande    \n",
       "Grey wolf        3.5926438 4.783316  grande    grande    \n",
       "Goat             3.3199873 4.744932  grande    grande    "
      ]
     },
     "metadata": {},
     "output_type": "display_data"
    }
   ],
   "source": [
    "head(log_mammals)"
   ]
  },
  {
   "cell_type": "markdown",
   "metadata": {},
   "source": [
    "scartter plot solo utilizando plot del base (ver punto posterior, donde se pide ggplot)"
   ]
  },
  {
   "cell_type": "code",
   "execution_count": 36,
   "metadata": {},
   "outputs": [
    {
     "data": {
      "image/png": "[encoded data removed]",
      "text/plain": [
       "plot without title"
      ]
     },
     "metadata": {},
     "output_type": "display_data"
    }
   ],
   "source": [
    "plot(log_mammals$log_body, log_mammals$log_brain, col=c('red', 'blue'))"
   ]
  },
  {
   "cell_type": "markdown",
   "metadata": {},
   "source": [
    "**C.** Instalar el paquete dplyr para colocar los datos en un formato long y se pueda graficar con el paquete de ggplot2 con la función gather el dataframe log_mammals. Después de instalar tal paquete, realizar mismo enunciado que a) pero con geom_points y paquete ggplot2."
   ]
  },
  {
   "cell_type": "code",
   "execution_count": null,
   "metadata": {},
   "outputs": [],
   "source": [
    "library(\"tidyverse\")"
   ]
  },
  {
   "cell_type": "code",
   "execution_count": 37,
   "metadata": {},
   "outputs": [
    {
     "data": {
      "text/html": [
       "<table>\n",
       "<caption>A data.frame: 6 x 4</caption>\n",
       "<thead>\n",
       "\t<tr><th></th><th scope=col>log_body</th><th scope=col>log_brain</th><th scope=col>size_body</th><th scope=col>size_brain</th></tr>\n",
       "\t<tr><th></th><th scope=col>&lt;dbl&gt;</th><th scope=col>&lt;dbl&gt;</th><th scope=col>&lt;chr&gt;</th><th scope=col>&lt;chr&gt;</th></tr>\n",
       "</thead>\n",
       "<tbody>\n",
       "\t<tr><th scope=row>Arctic fox</th><td> 1.2193539</td><td>3.795489</td><td>grande  </td><td>grande  </td></tr>\n",
       "\t<tr><th scope=row>Owl monkey</th><td>-0.7339692</td><td>2.740840</td><td>pequenio</td><td>pequenio</td></tr>\n",
       "\t<tr><th scope=row>Mountain beaver</th><td> 0.3001046</td><td>2.091864</td><td>pequenio</td><td>pequenio</td></tr>\n",
       "\t<tr><th scope=row>Cow</th><td> 6.1420374</td><td>6.047372</td><td>grande  </td><td>grande  </td></tr>\n",
       "\t<tr><th scope=row>Grey wolf</th><td> 3.5926438</td><td>4.783316</td><td>grande  </td><td>grande  </td></tr>\n",
       "\t<tr><th scope=row>Goat</th><td> 3.3199873</td><td>4.744932</td><td>grande  </td><td>grande  </td></tr>\n",
       "</tbody>\n",
       "</table>\n"
      ],
      "text/latex": [
       "A data.frame: 6 x 4\n",
       "\\begin{tabular}{r|llll}\n",
       "  & log\\_body & log\\_brain & size\\_body & size\\_brain\\\\\n",
       "  & <dbl> & <dbl> & <chr> & <chr>\\\\\n",
       "\\hline\n",
       "\tArctic fox &  1.2193539 & 3.795489 & grande   & grande  \\\\\n",
       "\tOwl monkey & -0.7339692 & 2.740840 & pequenio & pequenio\\\\\n",
       "\tMountain beaver &  0.3001046 & 2.091864 & pequenio & pequenio\\\\\n",
       "\tCow &  6.1420374 & 6.047372 & grande   & grande  \\\\\n",
       "\tGrey wolf &  3.5926438 & 4.783316 & grande   & grande  \\\\\n",
       "\tGoat &  3.3199873 & 4.744932 & grande   & grande  \\\\\n",
       "\\end{tabular}\n"
      ],
      "text/markdown": [
       "\n",
       "A data.frame: 6 x 4\n",
       "\n",
       "| <!--/--> | log_body &lt;dbl&gt; | log_brain &lt;dbl&gt; | size_body &lt;chr&gt; | size_brain &lt;chr&gt; |\n",
       "|---|---|---|---|---|\n",
       "| Arctic fox |  1.2193539 | 3.795489 | grande   | grande   |\n",
       "| Owl monkey | -0.7339692 | 2.740840 | pequenio | pequenio |\n",
       "| Mountain beaver |  0.3001046 | 2.091864 | pequenio | pequenio |\n",
       "| Cow |  6.1420374 | 6.047372 | grande   | grande   |\n",
       "| Grey wolf |  3.5926438 | 4.783316 | grande   | grande   |\n",
       "| Goat |  3.3199873 | 4.744932 | grande   | grande   |\n",
       "\n"
      ],
      "text/plain": [
       "                log_body   log_brain size_body size_brain\n",
       "Arctic fox       1.2193539 3.795489  grande    grande    \n",
       "Owl monkey      -0.7339692 2.740840  pequenio  pequenio  \n",
       "Mountain beaver  0.3001046 2.091864  pequenio  pequenio  \n",
       "Cow              6.1420374 6.047372  grande    grande    \n",
       "Grey wolf        3.5926438 4.783316  grande    grande    \n",
       "Goat             3.3199873 4.744932  grande    grande    "
      ]
     },
     "metadata": {},
     "output_type": "display_data"
    }
   ],
   "source": [
    "head(log_mammals)"
   ]
  },
  {
   "cell_type": "code",
   "execution_count": 40,
   "metadata": {},
   "outputs": [
    {
     "data": {
      "text/html": [
       "<table>\n",
       "<caption>A data.frame: 6 x 4</caption>\n",
       "<thead>\n",
       "\t<tr><th scope=col>size_body</th><th scope=col>size_brain</th><th scope=col>variable</th><th scope=col>colum</th></tr>\n",
       "\t<tr><th scope=col>&lt;chr&gt;</th><th scope=col>&lt;chr&gt;</th><th scope=col>&lt;chr&gt;</th><th scope=col>&lt;dbl&gt;</th></tr>\n",
       "</thead>\n",
       "<tbody>\n",
       "\t<tr><td>grande  </td><td>grande  </td><td>log_body</td><td> 1.2193539</td></tr>\n",
       "\t<tr><td>pequenio</td><td>pequenio</td><td>log_body</td><td>-0.7339692</td></tr>\n",
       "\t<tr><td>pequenio</td><td>pequenio</td><td>log_body</td><td> 0.3001046</td></tr>\n",
       "\t<tr><td>grande  </td><td>grande  </td><td>log_body</td><td> 6.1420374</td></tr>\n",
       "\t<tr><td>grande  </td><td>grande  </td><td>log_body</td><td> 3.5926438</td></tr>\n",
       "\t<tr><td>grande  </td><td>grande  </td><td>log_body</td><td> 3.3199873</td></tr>\n",
       "</tbody>\n",
       "</table>\n"
      ],
      "text/latex": [
       "A data.frame: 6 x 4\n",
       "\\begin{tabular}{r|llll}\n",
       " size\\_body & size\\_brain & variable & colum\\\\\n",
       " <chr> & <chr> & <chr> & <dbl>\\\\\n",
       "\\hline\n",
       "\t grande   & grande   & log\\_body &  1.2193539\\\\\n",
       "\t pequenio & pequenio & log\\_body & -0.7339692\\\\\n",
       "\t pequenio & pequenio & log\\_body &  0.3001046\\\\\n",
       "\t grande   & grande   & log\\_body &  6.1420374\\\\\n",
       "\t grande   & grande   & log\\_body &  3.5926438\\\\\n",
       "\t grande   & grande   & log\\_body &  3.3199873\\\\\n",
       "\\end{tabular}\n"
      ],
      "text/markdown": [
       "\n",
       "A data.frame: 6 x 4\n",
       "\n",
       "| size_body &lt;chr&gt; | size_brain &lt;chr&gt; | variable &lt;chr&gt; | colum &lt;dbl&gt; |\n",
       "|---|---|---|---|\n",
       "| grande   | grande   | log_body |  1.2193539 |\n",
       "| pequenio | pequenio | log_body | -0.7339692 |\n",
       "| pequenio | pequenio | log_body |  0.3001046 |\n",
       "| grande   | grande   | log_body |  6.1420374 |\n",
       "| grande   | grande   | log_body |  3.5926438 |\n",
       "| grande   | grande   | log_body |  3.3199873 |\n",
       "\n"
      ],
      "text/plain": [
       "  size_body size_brain variable colum     \n",
       "1 grande    grande     log_body  1.2193539\n",
       "2 pequenio  pequenio   log_body -0.7339692\n",
       "3 pequenio  pequenio   log_body  0.3001046\n",
       "4 grande    grande     log_body  6.1420374\n",
       "5 grande    grande     log_body  3.5926438\n",
       "6 grande    grande     log_body  3.3199873"
      ]
     },
     "metadata": {},
     "output_type": "display_data"
    }
   ],
   "source": [
    "lng_log_mammals <- gather(log_mammals, \"variable\", \"colum\", c(log_body, log_brain)) # para no me mande a flong estas dos variables\n",
    "head(lng_log_mammals)"
   ]
  },
  {
   "cell_type": "code",
   "execution_count": 41,
   "metadata": {},
   "outputs": [
    {
     "data": {
      "image/png": "[encoded data removed]",
      "text/plain": [
       "plot without title"
      ]
     },
     "metadata": {},
     "output_type": "display_data"
    }
   ],
   "source": [
    "# utiizar tamaño del cuerpo como separador de los colores size_body (col cambia a color en ggplot)\n",
    "ggplot(log_mammals, aes(size_body, log_body)) +\n",
    "  geom_point(aes(color=size_body)) +\n",
    "  geom_jitter(width = 0.25)"
   ]
  },
  {
   "cell_type": "code",
   "execution_count": 42,
   "metadata": {},
   "outputs": [
    {
     "data": {
      "image/png": "[encoded data removed]",
      "text/plain": [
       "plot without title"
      ]
     },
     "metadata": {},
     "output_type": "display_data"
    }
   ],
   "source": [
    "ggplot(log_mammals, aes(size_body, log_body,color=size_body)) +\n",
    "  geom_point()+\n",
    "  geom_jitter(width = 0.25)"
   ]
  },
  {
   "cell_type": "markdown",
   "metadata": {},
   "source": [
    "**D.** Calcular estadísticas como el promedio, mediana, máximo y mínimo por grupos de mamífero pequeño y mamífero grande con dplyr y funciones como group_by, sumarise y el operador %>% (pipe). Ver como ayuda: Data Wrangling with dplyr and tidyr o Data Transformation with dplyr o bien como ejemplo de uso: https://genomicsclass.github.io/book/pages/dplyr_tutorial.html u otro tutorial en la red de dplyr ¿qué mamíferos en cada grupo están en los tres primeros lugares (pensando que se ordenan de forma decreciente en log_brain)?."
   ]
  },
  {
   "cell_type": "code",
   "execution_count": 64,
   "metadata": {},
   "outputs": [
    {
     "data": {
      "text/html": [
       "<table>\n",
       "<caption>A tibble: 2 x 6</caption>\n",
       "<thead>\n",
       "\t<tr><th scope=col>size_body</th><th scope=col>prom_lbody</th><th scope=col>mediana_lbody</th><th scope=col>min_lbody</th><th scope=col>max_lbody</th><th scope=col>total</th></tr>\n",
       "\t<tr><th scope=col>&lt;chr&gt;</th><th scope=col>&lt;dbl&gt;</th><th scope=col>&lt;dbl&gt;</th><th scope=col>&lt;dbl&gt;</th><th scope=col>&lt;dbl&gt;</th><th scope=col>&lt;int&gt;</th></tr>\n",
       "</thead>\n",
       "<tbody>\n",
       "\t<tr><td>grande  </td><td> 3.788697</td><td> 3.954316</td><td> 1.219354</td><td>8.802973</td><td>31</td></tr>\n",
       "\t<tr><td>pequenio</td><td>-1.113619</td><td>-0.597837</td><td>-5.298317</td><td>1.193922</td><td>31</td></tr>\n",
       "</tbody>\n",
       "</table>\n"
      ],
      "text/latex": [
       "A tibble: 2 x 6\n",
       "\\begin{tabular}{r|llllll}\n",
       " size\\_body & prom\\_lbody & mediana\\_lbody & min\\_lbody & max\\_lbody & total\\\\\n",
       " <chr> & <dbl> & <dbl> & <dbl> & <dbl> & <int>\\\\\n",
       "\\hline\n",
       "\t grande   &  3.788697 &  3.954316 &  1.219354 & 8.802973 & 31\\\\\n",
       "\t pequenio & -1.113619 & -0.597837 & -5.298317 & 1.193922 & 31\\\\\n",
       "\\end{tabular}\n"
      ],
      "text/markdown": [
       "\n",
       "A tibble: 2 x 6\n",
       "\n",
       "| size_body &lt;chr&gt; | prom_lbody &lt;dbl&gt; | mediana_lbody &lt;dbl&gt; | min_lbody &lt;dbl&gt; | max_lbody &lt;dbl&gt; | total &lt;int&gt; |\n",
       "|---|---|---|---|---|---|\n",
       "| grande   |  3.788697 |  3.954316 |  1.219354 | 8.802973 | 31 |\n",
       "| pequenio | -1.113619 | -0.597837 | -5.298317 | 1.193922 | 31 |\n",
       "\n"
      ],
      "text/plain": [
       "  size_body prom_lbody mediana_lbody min_lbody max_lbody total\n",
       "1 grande     3.788697   3.954316      1.219354 8.802973  31   \n",
       "2 pequenio  -1.113619  -0.597837     -5.298317 1.193922  31   "
      ]
     },
     "metadata": {},
     "output_type": "display_data"
    }
   ],
   "source": [
    "# calculando estadísticas para el logaritmo del peso del cuerpo por grupos de tamaño de cuerpo (grande y pequeño)\n",
    "log_mammals %>% \n",
    "    group_by(size_body) %>%\n",
    "    summarise(prom_lbody = mean(log_body),\n",
    "              mediana_lbody = median(log_body),\n",
    "              min_lbody = min(log_body), \n",
    "              max_lbody = max(log_body),\n",
    "              total = n())"
   ]
  },
  {
   "cell_type": "code",
   "execution_count": 62,
   "metadata": {},
   "outputs": [
    {
     "data": {
      "text/html": [
       "<table>\n",
       "<caption>A tibble: 2 x 6</caption>\n",
       "<thead>\n",
       "\t<tr><th scope=col>size_brain</th><th scope=col>prom_lbody</th><th scope=col>mediana_lbody</th><th scope=col>min_lbody</th><th scope=col>max_lbody</th><th scope=col>total</th></tr>\n",
       "\t<tr><th scope=col>&lt;chr&gt;</th><th scope=col>&lt;dbl&gt;</th><th scope=col>&lt;dbl&gt;</th><th scope=col>&lt;dbl&gt;</th><th scope=col>&lt;dbl&gt;</th><th scope=col>&lt;int&gt;</th></tr>\n",
       "</thead>\n",
       "<tbody>\n",
       "\t<tr><td>grande  </td><td> 3.747790</td><td> 3.954316</td><td> 0.3435897</td><td>8.802973</td><td>31</td></tr>\n",
       "\t<tr><td>pequenio</td><td>-1.072712</td><td>-0.597837</td><td>-5.2983174</td><td>1.398717</td><td>31</td></tr>\n",
       "</tbody>\n",
       "</table>\n"
      ],
      "text/latex": [
       "A tibble: 2 x 6\n",
       "\\begin{tabular}{r|llllll}\n",
       " size\\_brain & prom\\_lbody & mediana\\_lbody & min\\_lbody & max\\_lbody & total\\\\\n",
       " <chr> & <dbl> & <dbl> & <dbl> & <dbl> & <int>\\\\\n",
       "\\hline\n",
       "\t grande   &  3.747790 &  3.954316 &  0.3435897 & 8.802973 & 31\\\\\n",
       "\t pequenio & -1.072712 & -0.597837 & -5.2983174 & 1.398717 & 31\\\\\n",
       "\\end{tabular}\n"
      ],
      "text/markdown": [
       "\n",
       "A tibble: 2 x 6\n",
       "\n",
       "| size_brain &lt;chr&gt; | prom_lbody &lt;dbl&gt; | mediana_lbody &lt;dbl&gt; | min_lbody &lt;dbl&gt; | max_lbody &lt;dbl&gt; | total &lt;int&gt; |\n",
       "|---|---|---|---|---|---|\n",
       "| grande   |  3.747790 |  3.954316 |  0.3435897 | 8.802973 | 31 |\n",
       "| pequenio | -1.072712 | -0.597837 | -5.2983174 | 1.398717 | 31 |\n",
       "\n"
      ],
      "text/plain": [
       "  size_brain prom_lbody mediana_lbody min_lbody  max_lbody total\n",
       "1 grande      3.747790   3.954316      0.3435897 8.802973  31   \n",
       "2 pequenio   -1.072712  -0.597837     -5.2983174 1.398717  31   "
      ]
     },
     "metadata": {},
     "output_type": "display_data"
    }
   ],
   "source": [
    "# calculando estadísticas para el logaritmo del peso del cuerpo por grupos de tamaño de cerebro (grande y pequeño)\n",
    "log_mammals %>% \n",
    "    group_by(size_brain) %>%\n",
    "    summarise(prom_lbody = mean(log_body),\n",
    "              mediana_lbody = median(log_body),\n",
    "              min_lbody = min(log_body), \n",
    "              max_lbody = max(log_body),\n",
    "              total = n())"
   ]
  },
  {
   "cell_type": "code",
   "execution_count": 65,
   "metadata": {},
   "outputs": [
    {
     "data": {
      "text/html": [
       "<table>\n",
       "<caption>A tibble: 2 x 6</caption>\n",
       "<thead>\n",
       "\t<tr><th scope=col>size_brain</th><th scope=col>prom_lbody</th><th scope=col>mediana_lbody</th><th scope=col>min_lbody</th><th scope=col>max_lbody</th><th scope=col>total</th></tr>\n",
       "\t<tr><th scope=col>&lt;chr&gt;</th><th scope=col>&lt;dbl&gt;</th><th scope=col>&lt;dbl&gt;</th><th scope=col>&lt;dbl&gt;</th><th scope=col>&lt;dbl&gt;</th><th scope=col>&lt;int&gt;</th></tr>\n",
       "</thead>\n",
       "<tbody>\n",
       "\t<tr><td>grande  </td><td> 3.747790</td><td> 3.954316</td><td> 0.3435897</td><td>8.802973</td><td>31</td></tr>\n",
       "\t<tr><td>pequenio</td><td>-1.072712</td><td>-0.597837</td><td>-5.2983174</td><td>1.398717</td><td>31</td></tr>\n",
       "</tbody>\n",
       "</table>\n"
      ],
      "text/latex": [
       "A tibble: 2 x 6\n",
       "\\begin{tabular}{r|llllll}\n",
       " size\\_brain & prom\\_lbody & mediana\\_lbody & min\\_lbody & max\\_lbody & total\\\\\n",
       " <chr> & <dbl> & <dbl> & <dbl> & <dbl> & <int>\\\\\n",
       "\\hline\n",
       "\t grande   &  3.747790 &  3.954316 &  0.3435897 & 8.802973 & 31\\\\\n",
       "\t pequenio & -1.072712 & -0.597837 & -5.2983174 & 1.398717 & 31\\\\\n",
       "\\end{tabular}\n"
      ],
      "text/markdown": [
       "\n",
       "A tibble: 2 x 6\n",
       "\n",
       "| size_brain &lt;chr&gt; | prom_lbody &lt;dbl&gt; | mediana_lbody &lt;dbl&gt; | min_lbody &lt;dbl&gt; | max_lbody &lt;dbl&gt; | total &lt;int&gt; |\n",
       "|---|---|---|---|---|---|\n",
       "| grande   |  3.747790 |  3.954316 |  0.3435897 | 8.802973 | 31 |\n",
       "| pequenio | -1.072712 | -0.597837 | -5.2983174 | 1.398717 | 31 |\n",
       "\n"
      ],
      "text/plain": [
       "  size_brain prom_lbody mediana_lbody min_lbody  max_lbody total\n",
       "1 grande      3.747790   3.954316      0.3435897 8.802973  31   \n",
       "2 pequenio   -1.072712  -0.597837     -5.2983174 1.398717  31   "
      ]
     },
     "metadata": {},
     "output_type": "display_data"
    }
   ],
   "source": [
    "# calculando estadísticas para el logaritmo del peso del cuerpo por grupos de tamaño de cerebro (grande y pequeño)\n",
    "log_mammals %>% \n",
    "    group_by(size_brain) %>%\n",
    "    summarise(prom_lbody = mean(log_body),\n",
    "              mediana_lbody = median(log_body),\n",
    "              min_lbody = min(log_body), \n",
    "              max_lbody = max(log_body),\n",
    "              total = n())"
   ]
  },
  {
   "cell_type": "code",
   "execution_count": 66,
   "metadata": {},
   "outputs": [
    {
     "data": {
      "text/html": [
       "<table>\n",
       "<caption>A tibble: 2 x 6</caption>\n",
       "<thead>\n",
       "\t<tr><th scope=col>size_body</th><th scope=col>prom_lbrain</th><th scope=col>mediana_lbrain</th><th scope=col>min_lbrain</th><th scope=col>max_lbrain</th><th scope=col>total</th></tr>\n",
       "\t<tr><th scope=col>&lt;chr&gt;</th><th scope=col>&lt;dbl&gt;</th><th scope=col>&lt;dbl&gt;</th><th scope=col>&lt;dbl&gt;</th><th scope=col>&lt;dbl&gt;</th><th scope=col>&lt;int&gt;</th></tr>\n",
       "</thead>\n",
       "<tbody>\n",
       "\t<tr><td>grande  </td><td>5.054768</td><td>5.129899</td><td> 1.360977</td><td>8.650325</td><td>31</td></tr>\n",
       "\t<tr><td>pequenio</td><td>1.225628</td><td>1.609438</td><td>-1.966113</td><td>3.242592</td><td>31</td></tr>\n",
       "</tbody>\n",
       "</table>\n"
      ],
      "text/latex": [
       "A tibble: 2 x 6\n",
       "\\begin{tabular}{r|llllll}\n",
       " size\\_body & prom\\_lbrain & mediana\\_lbrain & min\\_lbrain & max\\_lbrain & total\\\\\n",
       " <chr> & <dbl> & <dbl> & <dbl> & <dbl> & <int>\\\\\n",
       "\\hline\n",
       "\t grande   & 5.054768 & 5.129899 &  1.360977 & 8.650325 & 31\\\\\n",
       "\t pequenio & 1.225628 & 1.609438 & -1.966113 & 3.242592 & 31\\\\\n",
       "\\end{tabular}\n"
      ],
      "text/markdown": [
       "\n",
       "A tibble: 2 x 6\n",
       "\n",
       "| size_body &lt;chr&gt; | prom_lbrain &lt;dbl&gt; | mediana_lbrain &lt;dbl&gt; | min_lbrain &lt;dbl&gt; | max_lbrain &lt;dbl&gt; | total &lt;int&gt; |\n",
       "|---|---|---|---|---|---|\n",
       "| grande   | 5.054768 | 5.129899 |  1.360977 | 8.650325 | 31 |\n",
       "| pequenio | 1.225628 | 1.609438 | -1.966113 | 3.242592 | 31 |\n",
       "\n"
      ],
      "text/plain": [
       "  size_body prom_lbrain mediana_lbrain min_lbrain max_lbrain total\n",
       "1 grande    5.054768    5.129899        1.360977  8.650325   31   \n",
       "2 pequenio  1.225628    1.609438       -1.966113  3.242592   31   "
      ]
     },
     "metadata": {},
     "output_type": "display_data"
    }
   ],
   "source": [
    "# calculando estadísticas para el logaritmo del peso del cerebro por grupos de tamaño de cuerpo (grande y pequeño)\n",
    "log_mammals %>% \n",
    "    group_by(size_body) %>%\n",
    "    summarise(prom_lbrain = mean(log_brain),\n",
    "              mediana_lbrain = median(log_brain),\n",
    "              min_lbrain = min(log_brain), \n",
    "              max_lbrain = max(log_brain),\n",
    "              total = n())"
   ]
  },
  {
   "cell_type": "code",
   "execution_count": 67,
   "metadata": {},
   "outputs": [
    {
     "data": {
      "text/html": [
       "<table>\n",
       "<caption>A tibble: 2 x 6</caption>\n",
       "<thead>\n",
       "\t<tr><th scope=col>size_brain</th><th scope=col>prom_lbrain</th><th scope=col>mediana_lbrain</th><th scope=col>min_lbrain</th><th scope=col>max_lbrain</th><th scope=col>total</th></tr>\n",
       "\t<tr><th scope=col>&lt;chr&gt;</th><th scope=col>&lt;dbl&gt;</th><th scope=col>&lt;dbl&gt;</th><th scope=col>&lt;dbl&gt;</th><th scope=col>&lt;dbl&gt;</th><th scope=col>&lt;int&gt;</th></tr>\n",
       "</thead>\n",
       "<tbody>\n",
       "\t<tr><td>grande  </td><td>5.143475</td><td>5.129899</td><td> 2.862201</td><td>8.650325</td><td>31</td></tr>\n",
       "\t<tr><td>pequenio</td><td>1.136921</td><td>1.386294</td><td>-1.966113</td><td>2.833213</td><td>31</td></tr>\n",
       "</tbody>\n",
       "</table>\n"
      ],
      "text/latex": [
       "A tibble: 2 x 6\n",
       "\\begin{tabular}{r|llllll}\n",
       " size\\_brain & prom\\_lbrain & mediana\\_lbrain & min\\_lbrain & max\\_lbrain & total\\\\\n",
       " <chr> & <dbl> & <dbl> & <dbl> & <dbl> & <int>\\\\\n",
       "\\hline\n",
       "\t grande   & 5.143475 & 5.129899 &  2.862201 & 8.650325 & 31\\\\\n",
       "\t pequenio & 1.136921 & 1.386294 & -1.966113 & 2.833213 & 31\\\\\n",
       "\\end{tabular}\n"
      ],
      "text/markdown": [
       "\n",
       "A tibble: 2 x 6\n",
       "\n",
       "| size_brain &lt;chr&gt; | prom_lbrain &lt;dbl&gt; | mediana_lbrain &lt;dbl&gt; | min_lbrain &lt;dbl&gt; | max_lbrain &lt;dbl&gt; | total &lt;int&gt; |\n",
       "|---|---|---|---|---|---|\n",
       "| grande   | 5.143475 | 5.129899 |  2.862201 | 8.650325 | 31 |\n",
       "| pequenio | 1.136921 | 1.386294 | -1.966113 | 2.833213 | 31 |\n",
       "\n"
      ],
      "text/plain": [
       "  size_brain prom_lbrain mediana_lbrain min_lbrain max_lbrain total\n",
       "1 grande     5.143475    5.129899        2.862201  8.650325   31   \n",
       "2 pequenio   1.136921    1.386294       -1.966113  2.833213   31   "
      ]
     },
     "metadata": {},
     "output_type": "display_data"
    }
   ],
   "source": [
    "# calculando estadísticas para el logaritmo del peso del cerebro por grupos de tamaño de cerebro (grande y pequeño)\n",
    "log_mammals %>% \n",
    "    group_by(size_brain) %>%\n",
    "    summarise(prom_lbrain = mean(log_brain),\n",
    "              mediana_lbrain = median(log_brain),\n",
    "              min_lbrain = min(log_brain), \n",
    "              max_lbrain = max(log_brain),\n",
    "              total = n())"
   ]
  },
  {
   "cell_type": "code",
   "execution_count": 76,
   "metadata": {},
   "outputs": [
    {
     "data": {
      "text/html": [
       "<table>\n",
       "<caption>A data.frame: 3 x 4</caption>\n",
       "<thead>\n",
       "\t<tr><th scope=col>log_body</th><th scope=col>log_brain</th><th scope=col>size_body</th><th scope=col>size_brain</th></tr>\n",
       "\t<tr><th scope=col>&lt;dbl&gt;</th><th scope=col>&lt;dbl&gt;</th><th scope=col>&lt;chr&gt;</th><th scope=col>&lt;chr&gt;</th></tr>\n",
       "</thead>\n",
       "<tbody>\n",
       "\t<tr><td>-5.298317</td><td>-1.966113</td><td>pequenio</td><td>pequenio</td></tr>\n",
       "\t<tr><td>-4.605170</td><td>-1.386294</td><td>pequenio</td><td>pequenio</td></tr>\n",
       "\t<tr><td>-3.772261</td><td>-1.203973</td><td>pequenio</td><td>pequenio</td></tr>\n",
       "</tbody>\n",
       "</table>\n"
      ],
      "text/latex": [
       "A data.frame: 3 x 4\n",
       "\\begin{tabular}{r|llll}\n",
       " log\\_body & log\\_brain & size\\_body & size\\_brain\\\\\n",
       " <dbl> & <dbl> & <chr> & <chr>\\\\\n",
       "\\hline\n",
       "\t -5.298317 & -1.966113 & pequenio & pequenio\\\\\n",
       "\t -4.605170 & -1.386294 & pequenio & pequenio\\\\\n",
       "\t -3.772261 & -1.203973 & pequenio & pequenio\\\\\n",
       "\\end{tabular}\n"
      ],
      "text/markdown": [
       "\n",
       "A data.frame: 3 x 4\n",
       "\n",
       "| log_body &lt;dbl&gt; | log_brain &lt;dbl&gt; | size_body &lt;chr&gt; | size_brain &lt;chr&gt; |\n",
       "|---|---|---|---|\n",
       "| -5.298317 | -1.966113 | pequenio | pequenio |\n",
       "| -4.605170 | -1.386294 | pequenio | pequenio |\n",
       "| -3.772261 | -1.203973 | pequenio | pequenio |\n",
       "\n"
      ],
      "text/plain": [
       "  log_body  log_brain size_body size_brain\n",
       "1 -5.298317 -1.966113 pequenio  pequenio  \n",
       "2 -4.605170 -1.386294 pequenio  pequenio  \n",
       "3 -3.772261 -1.203973 pequenio  pequenio  "
      ]
     },
     "metadata": {},
     "output_type": "display_data"
    }
   ],
   "source": [
    "# ¿qué mamíferos en cada grupo están en los tres primeros lugares (pensando que se ordenan de forma decreciente en log_brain)?\n",
    "f_3_peq <-log_mammals %>% \n",
    "            filter(size_body==\"pequenio\") %>%\n",
    "            arrange(log_body)\n",
    "head(f_3_peq, 3)"
   ]
  },
  {
   "cell_type": "code",
   "execution_count": 96,
   "metadata": {},
   "outputs": [
    {
     "data": {
      "text/html": [
       "<table>\n",
       "<caption>A data.frame: 3 x 4</caption>\n",
       "<thead>\n",
       "\t<tr><th></th><th scope=col>log_body</th><th scope=col>log_brain</th><th scope=col>size_body</th><th scope=col>size_brain</th></tr>\n",
       "\t<tr><th></th><th scope=col>&lt;dbl&gt;</th><th scope=col>&lt;dbl&gt;</th><th scope=col>&lt;chr&gt;</th><th scope=col>&lt;chr&gt;</th></tr>\n",
       "</thead>\n",
       "<tbody>\n",
       "\t<tr><th scope=row>Lesser short-tailed shrew</th><td>-5.298317</td><td>-1.966113</td><td>pequenio</td><td>pequenio</td></tr>\n",
       "\t<tr><th scope=row>Little brown bat</th><td>-4.605170</td><td>-1.386294</td><td>pequenio</td><td>pequenio</td></tr>\n",
       "\t<tr><th scope=row>Big brown bat</th><td>-3.772261</td><td>-1.203973</td><td>pequenio</td><td>pequenio</td></tr>\n",
       "</tbody>\n",
       "</table>\n"
      ],
      "text/latex": [
       "A data.frame: 3 x 4\n",
       "\\begin{tabular}{r|llll}\n",
       "  & log\\_body & log\\_brain & size\\_body & size\\_brain\\\\\n",
       "  & <dbl> & <dbl> & <chr> & <chr>\\\\\n",
       "\\hline\n",
       "\tLesser short-tailed shrew & -5.298317 & -1.966113 & pequenio & pequenio\\\\\n",
       "\tLittle brown bat & -4.605170 & -1.386294 & pequenio & pequenio\\\\\n",
       "\tBig brown bat & -3.772261 & -1.203973 & pequenio & pequenio\\\\\n",
       "\\end{tabular}\n"
      ],
      "text/markdown": [
       "\n",
       "A data.frame: 3 x 4\n",
       "\n",
       "| <!--/--> | log_body &lt;dbl&gt; | log_brain &lt;dbl&gt; | size_body &lt;chr&gt; | size_brain &lt;chr&gt; |\n",
       "|---|---|---|---|---|\n",
       "| Lesser short-tailed shrew | -5.298317 | -1.966113 | pequenio | pequenio |\n",
       "| Little brown bat | -4.605170 | -1.386294 | pequenio | pequenio |\n",
       "| Big brown bat | -3.772261 | -1.203973 | pequenio | pequenio |\n",
       "\n"
      ],
      "text/plain": [
       "                          log_body  log_brain size_body size_brain\n",
       "Lesser short-tailed shrew -5.298317 -1.966113 pequenio  pequenio  \n",
       "Little brown bat          -4.605170 -1.386294 pequenio  pequenio  \n",
       "Big brown bat             -3.772261 -1.203973 pequenio  pequenio  "
      ]
     },
     "metadata": {},
     "output_type": "display_data"
    }
   ],
   "source": [
    "# n o tengo muy claro porqué en dplyr no me muestra row names...\n",
    "f_3_peq_m <- log_mammals[order(log_mammals$log_body),]\n",
    "f_3_peq_ms <- subset(f_3_peq_m, size_body==\"pequenio\")\n",
    "head(f_3_peq_ms, 3)"
   ]
  },
  {
   "cell_type": "code",
   "execution_count": 97,
   "metadata": {},
   "outputs": [
    {
     "data": {
      "text/html": [
       "<table>\n",
       "<caption>A data.frame: 3 x 4</caption>\n",
       "<thead>\n",
       "\t<tr><th scope=col>log_body</th><th scope=col>log_brain</th><th scope=col>size_body</th><th scope=col>size_brain</th></tr>\n",
       "\t<tr><th scope=col>&lt;dbl&gt;</th><th scope=col>&lt;dbl&gt;</th><th scope=col>&lt;chr&gt;</th><th scope=col>&lt;chr&gt;</th></tr>\n",
       "</thead>\n",
       "<tbody>\n",
       "\t<tr><td>1.219354</td><td>3.795489</td><td>grande</td><td>grande  </td></tr>\n",
       "\t<tr><td>1.252763</td><td>2.379546</td><td>grande</td><td>pequenio</td></tr>\n",
       "\t<tr><td>1.252763</td><td>1.360977</td><td>grande</td><td>pequenio</td></tr>\n",
       "</tbody>\n",
       "</table>\n"
      ],
      "text/latex": [
       "A data.frame: 3 x 4\n",
       "\\begin{tabular}{r|llll}\n",
       " log\\_body & log\\_brain & size\\_body & size\\_brain\\\\\n",
       " <dbl> & <dbl> & <chr> & <chr>\\\\\n",
       "\\hline\n",
       "\t 1.219354 & 3.795489 & grande & grande  \\\\\n",
       "\t 1.252763 & 2.379546 & grande & pequenio\\\\\n",
       "\t 1.252763 & 1.360977 & grande & pequenio\\\\\n",
       "\\end{tabular}\n"
      ],
      "text/markdown": [
       "\n",
       "A data.frame: 3 x 4\n",
       "\n",
       "| log_body &lt;dbl&gt; | log_brain &lt;dbl&gt; | size_body &lt;chr&gt; | size_brain &lt;chr&gt; |\n",
       "|---|---|---|---|\n",
       "| 1.219354 | 3.795489 | grande | grande   |\n",
       "| 1.252763 | 2.379546 | grande | pequenio |\n",
       "| 1.252763 | 1.360977 | grande | pequenio |\n",
       "\n"
      ],
      "text/plain": [
       "  log_body log_brain size_body size_brain\n",
       "1 1.219354 3.795489  grande    grande    \n",
       "2 1.252763 2.379546  grande    pequenio  \n",
       "3 1.252763 1.360977  grande    pequenio  "
      ]
     },
     "metadata": {},
     "output_type": "display_data"
    }
   ],
   "source": [
    "f_3_gra <-log_mammals %>% \n",
    "            filter(size_body==\"grande\") %>%\n",
    "            arrange(log_body)\n",
    "head(f_3_gra, 3)"
   ]
  },
  {
   "cell_type": "code",
   "execution_count": 98,
   "metadata": {},
   "outputs": [
    {
     "data": {
      "text/html": [
       "<table>\n",
       "<caption>A data.frame: 3 x 4</caption>\n",
       "<thead>\n",
       "\t<tr><th></th><th scope=col>log_body</th><th scope=col>log_brain</th><th scope=col>size_body</th><th scope=col>size_brain</th></tr>\n",
       "\t<tr><th></th><th scope=col>&lt;dbl&gt;</th><th scope=col>&lt;dbl&gt;</th><th scope=col>&lt;chr&gt;</th><th scope=col>&lt;chr&gt;</th></tr>\n",
       "</thead>\n",
       "<tbody>\n",
       "\t<tr><th scope=row>Arctic fox</th><td>1.219354</td><td>3.795489</td><td>grande</td><td>grande  </td></tr>\n",
       "\t<tr><th scope=row>Nine-banded armadillo</th><td>1.252763</td><td>2.379546</td><td>grande</td><td>pequenio</td></tr>\n",
       "\t<tr><th scope=row>Water opossum</th><td>1.252763</td><td>1.360977</td><td>grande</td><td>pequenio</td></tr>\n",
       "</tbody>\n",
       "</table>\n"
      ],
      "text/latex": [
       "A data.frame: 3 x 4\n",
       "\\begin{tabular}{r|llll}\n",
       "  & log\\_body & log\\_brain & size\\_body & size\\_brain\\\\\n",
       "  & <dbl> & <dbl> & <chr> & <chr>\\\\\n",
       "\\hline\n",
       "\tArctic fox & 1.219354 & 3.795489 & grande & grande  \\\\\n",
       "\tNine-banded armadillo & 1.252763 & 2.379546 & grande & pequenio\\\\\n",
       "\tWater opossum & 1.252763 & 1.360977 & grande & pequenio\\\\\n",
       "\\end{tabular}\n"
      ],
      "text/markdown": [
       "\n",
       "A data.frame: 3 x 4\n",
       "\n",
       "| <!--/--> | log_body &lt;dbl&gt; | log_brain &lt;dbl&gt; | size_body &lt;chr&gt; | size_brain &lt;chr&gt; |\n",
       "|---|---|---|---|---|\n",
       "| Arctic fox | 1.219354 | 3.795489 | grande | grande   |\n",
       "| Nine-banded armadillo | 1.252763 | 2.379546 | grande | pequenio |\n",
       "| Water opossum | 1.252763 | 1.360977 | grande | pequenio |\n",
       "\n"
      ],
      "text/plain": [
       "                      log_body log_brain size_body size_brain\n",
       "Arctic fox            1.219354 3.795489  grande    grande    \n",
       "Nine-banded armadillo 1.252763 2.379546  grande    pequenio  \n",
       "Water opossum         1.252763 1.360977  grande    pequenio  "
      ]
     },
     "metadata": {},
     "output_type": "display_data"
    }
   ],
   "source": [
    "# n o tengo muy claro porqué en dplyr no me muestra row names...\n",
    "f_3_gra_m <- log_mammals[order(log_mammals$log_body),]\n",
    "f_3_gra_ms <- subset(f_3_peq_m, size_body==\"grande\")\n",
    "head(f_3_gra_ms, 3)"
   ]
  },
  {
   "cell_type": "markdown",
   "metadata": {},
   "source": [
    "**E.** Crea una nueva variable r que sea el cociente entre brain y body. Ordena en orden creciente el dataset de mammals de acuerdo a esta nueva variable. ¿Qué mamíferos tienen los cocientes más grandes? ¿y cuáles los más pequeños?"
   ]
  },
  {
   "cell_type": "code",
   "execution_count": 100,
   "metadata": {},
   "outputs": [
    {
     "data": {
      "text/html": [
       "<table>\n",
       "<caption>A data.frame: 6 x 5</caption>\n",
       "<thead>\n",
       "\t<tr><th scope=col>log_body</th><th scope=col>log_brain</th><th scope=col>size_body</th><th scope=col>size_brain</th><th scope=col>r</th></tr>\n",
       "\t<tr><th scope=col>&lt;dbl&gt;</th><th scope=col>&lt;dbl&gt;</th><th scope=col>&lt;chr&gt;</th><th scope=col>&lt;chr&gt;</th><th scope=col>&lt;dbl&gt;</th></tr>\n",
       "</thead>\n",
       "<tbody>\n",
       "\t<tr><td>-0.08338161</td><td>1.7404662</td><td>pequenio</td><td>pequenio</td><td>-20.873502</td></tr>\n",
       "\t<tr><td>-0.10536052</td><td>0.9555114</td><td>pequenio</td><td>pequenio</td><td> -9.068971</td></tr>\n",
       "\t<tr><td>-0.28768207</td><td>2.5095993</td><td>pequenio</td><td>pequenio</td><td> -8.723516</td></tr>\n",
       "\t<tr><td>-0.24207156</td><td>1.2527630</td><td>pequenio</td><td>pequenio</td><td> -5.175176</td></tr>\n",
       "\t<tr><td>-0.73396918</td><td>2.7408400</td><td>pequenio</td><td>pequenio</td><td> -3.734271</td></tr>\n",
       "\t<tr><td>-0.85566611</td><td>1.8562980</td><td>pequenio</td><td>pequenio</td><td> -2.169419</td></tr>\n",
       "</tbody>\n",
       "</table>\n"
      ],
      "text/latex": [
       "A data.frame: 6 x 5\n",
       "\\begin{tabular}{r|lllll}\n",
       " log\\_body & log\\_brain & size\\_body & size\\_brain & r\\\\\n",
       " <dbl> & <dbl> & <chr> & <chr> & <dbl>\\\\\n",
       "\\hline\n",
       "\t -0.08338161 & 1.7404662 & pequenio & pequenio & -20.873502\\\\\n",
       "\t -0.10536052 & 0.9555114 & pequenio & pequenio &  -9.068971\\\\\n",
       "\t -0.28768207 & 2.5095993 & pequenio & pequenio &  -8.723516\\\\\n",
       "\t -0.24207156 & 1.2527630 & pequenio & pequenio &  -5.175176\\\\\n",
       "\t -0.73396918 & 2.7408400 & pequenio & pequenio &  -3.734271\\\\\n",
       "\t -0.85566611 & 1.8562980 & pequenio & pequenio &  -2.169419\\\\\n",
       "\\end{tabular}\n"
      ],
      "text/markdown": [
       "\n",
       "A data.frame: 6 x 5\n",
       "\n",
       "| log_body &lt;dbl&gt; | log_brain &lt;dbl&gt; | size_body &lt;chr&gt; | size_brain &lt;chr&gt; | r &lt;dbl&gt; |\n",
       "|---|---|---|---|---|\n",
       "| -0.08338161 | 1.7404662 | pequenio | pequenio | -20.873502 |\n",
       "| -0.10536052 | 0.9555114 | pequenio | pequenio |  -9.068971 |\n",
       "| -0.28768207 | 2.5095993 | pequenio | pequenio |  -8.723516 |\n",
       "| -0.24207156 | 1.2527630 | pequenio | pequenio |  -5.175176 |\n",
       "| -0.73396918 | 2.7408400 | pequenio | pequenio |  -3.734271 |\n",
       "| -0.85566611 | 1.8562980 | pequenio | pequenio |  -2.169419 |\n",
       "\n"
      ],
      "text/plain": [
       "  log_body    log_brain size_body size_brain r         \n",
       "1 -0.08338161 1.7404662 pequenio  pequenio   -20.873502\n",
       "2 -0.10536052 0.9555114 pequenio  pequenio    -9.068971\n",
       "3 -0.28768207 2.5095993 pequenio  pequenio    -8.723516\n",
       "4 -0.24207156 1.2527630 pequenio  pequenio    -5.175176\n",
       "5 -0.73396918 2.7408400 pequenio  pequenio    -3.734271\n",
       "6 -0.85566611 1.8562980 pequenio  pequenio    -2.169419"
      ]
     },
     "metadata": {},
     "output_type": "display_data"
    }
   ],
   "source": [
    "new_log_mammals <- log_mammals %>% \n",
    "    mutate(r = log_brain / log_body) %>%\n",
    "    arrange(r)\n",
    "head(new_log_mammals)"
   ]
  },
  {
   "cell_type": "code",
   "execution_count": 104,
   "metadata": {},
   "outputs": [
    {
     "data": {
      "text/html": [
       "<table>\n",
       "<caption>A data.frame: 6 x 5</caption>\n",
       "<thead>\n",
       "\t<tr><th></th><th scope=col>log_body</th><th scope=col>log_brain</th><th scope=col>size_body</th><th scope=col>size_brain</th><th scope=col>r_ind</th></tr>\n",
       "\t<tr><th></th><th scope=col>&lt;dbl&gt;</th><th scope=col>&lt;dbl&gt;</th><th scope=col>&lt;chr&gt;</th><th scope=col>&lt;chr&gt;</th><th scope=col>&lt;dbl&gt;</th></tr>\n",
       "</thead>\n",
       "<tbody>\n",
       "\t<tr><th scope=row>Arctic fox</th><td> 1.2193539</td><td>3.795489</td><td>grande  </td><td>grande  </td><td> 3.1127052</td></tr>\n",
       "\t<tr><th scope=row>Owl monkey</th><td>-0.7339692</td><td>2.740840</td><td>pequenio</td><td>pequenio</td><td>-3.7342713</td></tr>\n",
       "\t<tr><th scope=row>Mountain beaver</th><td> 0.3001046</td><td>2.091864</td><td>pequenio</td><td>pequenio</td><td> 6.9704500</td></tr>\n",
       "\t<tr><th scope=row>Cow</th><td> 6.1420374</td><td>6.047372</td><td>grande  </td><td>grande  </td><td> 0.9845873</td></tr>\n",
       "\t<tr><th scope=row>Grey wolf</th><td> 3.5926438</td><td>4.783316</td><td>grande  </td><td>grande  </td><td> 1.3314196</td></tr>\n",
       "\t<tr><th scope=row>Goat</th><td> 3.3199873</td><td>4.744932</td><td>grande  </td><td>grande  </td><td> 1.4292019</td></tr>\n",
       "</tbody>\n",
       "</table>\n"
      ],
      "text/latex": [
       "A data.frame: 6 x 5\n",
       "\\begin{tabular}{r|lllll}\n",
       "  & log\\_body & log\\_brain & size\\_body & size\\_brain & r\\_ind\\\\\n",
       "  & <dbl> & <dbl> & <chr> & <chr> & <dbl>\\\\\n",
       "\\hline\n",
       "\tArctic fox &  1.2193539 & 3.795489 & grande   & grande   &  3.1127052\\\\\n",
       "\tOwl monkey & -0.7339692 & 2.740840 & pequenio & pequenio & -3.7342713\\\\\n",
       "\tMountain beaver &  0.3001046 & 2.091864 & pequenio & pequenio &  6.9704500\\\\\n",
       "\tCow &  6.1420374 & 6.047372 & grande   & grande   &  0.9845873\\\\\n",
       "\tGrey wolf &  3.5926438 & 4.783316 & grande   & grande   &  1.3314196\\\\\n",
       "\tGoat &  3.3199873 & 4.744932 & grande   & grande   &  1.4292019\\\\\n",
       "\\end{tabular}\n"
      ],
      "text/markdown": [
       "\n",
       "A data.frame: 6 x 5\n",
       "\n",
       "| <!--/--> | log_body &lt;dbl&gt; | log_brain &lt;dbl&gt; | size_body &lt;chr&gt; | size_brain &lt;chr&gt; | r_ind &lt;dbl&gt; |\n",
       "|---|---|---|---|---|---|\n",
       "| Arctic fox |  1.2193539 | 3.795489 | grande   | grande   |  3.1127052 |\n",
       "| Owl monkey | -0.7339692 | 2.740840 | pequenio | pequenio | -3.7342713 |\n",
       "| Mountain beaver |  0.3001046 | 2.091864 | pequenio | pequenio |  6.9704500 |\n",
       "| Cow |  6.1420374 | 6.047372 | grande   | grande   |  0.9845873 |\n",
       "| Grey wolf |  3.5926438 | 4.783316 | grande   | grande   |  1.3314196 |\n",
       "| Goat |  3.3199873 | 4.744932 | grande   | grande   |  1.4292019 |\n",
       "\n"
      ],
      "text/plain": [
       "                log_body   log_brain size_body size_brain r_ind     \n",
       "Arctic fox       1.2193539 3.795489  grande    grande      3.1127052\n",
       "Owl monkey      -0.7339692 2.740840  pequenio  pequenio   -3.7342713\n",
       "Mountain beaver  0.3001046 2.091864  pequenio  pequenio    6.9704500\n",
       "Cow              6.1420374 6.047372  grande    grande      0.9845873\n",
       "Grey wolf        3.5926438 4.783316  grande    grande      1.3314196\n",
       "Goat             3.3199873 4.744932  grande    grande      1.4292019"
      ]
     },
     "metadata": {},
     "output_type": "display_data"
    }
   ],
   "source": [
    "# para identificar mejor el nombre de los mamíferos no usaré dplyr\n",
    "log_mammals$r_ind = log_mammals$log_brain/ log_mammals$log_body\n",
    "head(log_mammals)"
   ]
  },
  {
   "cell_type": "code",
   "execution_count": 105,
   "metadata": {},
   "outputs": [
    {
     "data": {
      "text/html": [
       "<table>\n",
       "<caption>A data.frame: 1 x 5</caption>\n",
       "<thead>\n",
       "\t<tr><th></th><th scope=col>log_body</th><th scope=col>log_brain</th><th scope=col>size_body</th><th scope=col>size_brain</th><th scope=col>r_ind</th></tr>\n",
       "\t<tr><th></th><th scope=col>&lt;dbl&gt;</th><th scope=col>&lt;dbl&gt;</th><th scope=col>&lt;chr&gt;</th><th scope=col>&lt;chr&gt;</th><th scope=col>&lt;dbl&gt;</th></tr>\n",
       "</thead>\n",
       "<tbody>\n",
       "\t<tr><th scope=row>African giant pouched rat</th><td>0</td><td>1.88707</td><td>pequenio</td><td>pequenio</td><td>Inf</td></tr>\n",
       "</tbody>\n",
       "</table>\n"
      ],
      "text/latex": [
       "A data.frame: 1 x 5\n",
       "\\begin{tabular}{r|lllll}\n",
       "  & log\\_body & log\\_brain & size\\_body & size\\_brain & r\\_ind\\\\\n",
       "  & <dbl> & <dbl> & <chr> & <chr> & <dbl>\\\\\n",
       "\\hline\n",
       "\tAfrican giant pouched rat & 0 & 1.88707 & pequenio & pequenio & Inf\\\\\n",
       "\\end{tabular}\n"
      ],
      "text/markdown": [
       "\n",
       "A data.frame: 1 x 5\n",
       "\n",
       "| <!--/--> | log_body &lt;dbl&gt; | log_brain &lt;dbl&gt; | size_body &lt;chr&gt; | size_brain &lt;chr&gt; | r_ind &lt;dbl&gt; |\n",
       "|---|---|---|---|---|---|\n",
       "| African giant pouched rat | 0 | 1.88707 | pequenio | pequenio | Inf |\n",
       "\n"
      ],
      "text/plain": [
       "                          log_body log_brain size_body size_brain r_ind\n",
       "African giant pouched rat 0        1.88707   pequenio  pequenio   Inf  "
      ]
     },
     "metadata": {},
     "output_type": "display_data"
    }
   ],
   "source": [
    "# Animal con mayor r\n",
    "log_mammals[which.max(log_mammals$r_ind),]"
   ]
  },
  {
   "cell_type": "code",
   "execution_count": 106,
   "metadata": {},
   "outputs": [
    {
     "data": {
      "text/html": [
       "<table>\n",
       "<caption>A data.frame: 1 x 5</caption>\n",
       "<thead>\n",
       "\t<tr><th></th><th scope=col>log_body</th><th scope=col>log_brain</th><th scope=col>size_body</th><th scope=col>size_brain</th><th scope=col>r_ind</th></tr>\n",
       "\t<tr><th></th><th scope=col>&lt;dbl&gt;</th><th scope=col>&lt;dbl&gt;</th><th scope=col>&lt;chr&gt;</th><th scope=col>&lt;chr&gt;</th><th scope=col>&lt;dbl&gt;</th></tr>\n",
       "</thead>\n",
       "<tbody>\n",
       "\t<tr><th scope=row>Arctic ground squirrel</th><td>-0.08338161</td><td>1.740466</td><td>pequenio</td><td>pequenio</td><td>-20.8735</td></tr>\n",
       "</tbody>\n",
       "</table>\n"
      ],
      "text/latex": [
       "A data.frame: 1 x 5\n",
       "\\begin{tabular}{r|lllll}\n",
       "  & log\\_body & log\\_brain & size\\_body & size\\_brain & r\\_ind\\\\\n",
       "  & <dbl> & <dbl> & <chr> & <chr> & <dbl>\\\\\n",
       "\\hline\n",
       "\tArctic ground squirrel & -0.08338161 & 1.740466 & pequenio & pequenio & -20.8735\\\\\n",
       "\\end{tabular}\n"
      ],
      "text/markdown": [
       "\n",
       "A data.frame: 1 x 5\n",
       "\n",
       "| <!--/--> | log_body &lt;dbl&gt; | log_brain &lt;dbl&gt; | size_body &lt;chr&gt; | size_brain &lt;chr&gt; | r_ind &lt;dbl&gt; |\n",
       "|---|---|---|---|---|---|\n",
       "| Arctic ground squirrel | -0.08338161 | 1.740466 | pequenio | pequenio | -20.8735 |\n",
       "\n"
      ],
      "text/plain": [
       "                       log_body    log_brain size_body size_brain r_ind   \n",
       "Arctic ground squirrel -0.08338161 1.740466  pequenio  pequenio   -20.8735"
      ]
     },
     "metadata": {},
     "output_type": "display_data"
    }
   ],
   "source": [
    "# Animal con menor r\n",
    "log_mammals[which.min(log_mammals$r_ind),]"
   ]
  },
  {
   "cell_type": "markdown",
   "metadata": {},
   "source": [
    "**F.** Usando e) realiza un scatterplot de r vs body."
   ]
  },
  {
   "cell_type": "code",
   "execution_count": 107,
   "metadata": {},
   "outputs": [
    {
     "data": {
      "image/png": "[encoded data removed]",
      "text/plain": [
       "plot without title"
      ]
     },
     "metadata": {},
     "output_type": "display_data"
    }
   ],
   "source": [
    "ggplot(new_log_mammals, aes(x= r, y=log_body)) +\n",
    "  geom_point(aes(color=size_body))"
   ]
  },
  {
   "cell_type": "markdown",
   "metadata": {},
   "source": [
    "## Ejercicio 3\n",
    "Considérese el dataset randu (ejecutar ?randu para una descripción):<br>\n",
    "**A.** Usar la función mean para calcular la media muestral en cada uno de los números que forman la tripleta: $x, y, z$. Asimismo usar la función var para calcular una matriz de varianzas y covarianzas muestral."
   ]
  },
  {
   "cell_type": "code",
   "execution_count": 44,
   "metadata": {},
   "outputs": [
    {
     "data": {
      "text/html": [
       "<table>\n",
       "<caption>A data.frame: 6 x 3</caption>\n",
       "<thead>\n",
       "\t<tr><th scope=col>x</th><th scope=col>y</th><th scope=col>z</th></tr>\n",
       "\t<tr><th scope=col>&lt;dbl&gt;</th><th scope=col>&lt;dbl&gt;</th><th scope=col>&lt;dbl&gt;</th></tr>\n",
       "</thead>\n",
       "<tbody>\n",
       "\t<tr><td>0.000031</td><td>0.000183</td><td>0.000824</td></tr>\n",
       "\t<tr><td>0.044495</td><td>0.155732</td><td>0.533939</td></tr>\n",
       "\t<tr><td>0.822440</td><td>0.873416</td><td>0.838542</td></tr>\n",
       "\t<tr><td>0.322291</td><td>0.648545</td><td>0.990648</td></tr>\n",
       "\t<tr><td>0.393595</td><td>0.826873</td><td>0.418881</td></tr>\n",
       "\t<tr><td>0.309097</td><td>0.926590</td><td>0.777664</td></tr>\n",
       "</tbody>\n",
       "</table>\n"
      ],
      "text/latex": [
       "A data.frame: 6 x 3\n",
       "\\begin{tabular}{r|lll}\n",
       " x & y & z\\\\\n",
       " <dbl> & <dbl> & <dbl>\\\\\n",
       "\\hline\n",
       "\t 0.000031 & 0.000183 & 0.000824\\\\\n",
       "\t 0.044495 & 0.155732 & 0.533939\\\\\n",
       "\t 0.822440 & 0.873416 & 0.838542\\\\\n",
       "\t 0.322291 & 0.648545 & 0.990648\\\\\n",
       "\t 0.393595 & 0.826873 & 0.418881\\\\\n",
       "\t 0.309097 & 0.926590 & 0.777664\\\\\n",
       "\\end{tabular}\n"
      ],
      "text/markdown": [
       "\n",
       "A data.frame: 6 x 3\n",
       "\n",
       "| x &lt;dbl&gt; | y &lt;dbl&gt; | z &lt;dbl&gt; |\n",
       "|---|---|---|\n",
       "| 0.000031 | 0.000183 | 0.000824 |\n",
       "| 0.044495 | 0.155732 | 0.533939 |\n",
       "| 0.822440 | 0.873416 | 0.838542 |\n",
       "| 0.322291 | 0.648545 | 0.990648 |\n",
       "| 0.393595 | 0.826873 | 0.418881 |\n",
       "| 0.309097 | 0.926590 | 0.777664 |\n",
       "\n"
      ],
      "text/plain": [
       "  x        y        z       \n",
       "1 0.000031 0.000183 0.000824\n",
       "2 0.044495 0.155732 0.533939\n",
       "3 0.822440 0.873416 0.838542\n",
       "4 0.322291 0.648545 0.990648\n",
       "5 0.393595 0.826873 0.418881\n",
       "6 0.309097 0.926590 0.777664"
      ]
     },
     "metadata": {},
     "output_type": "display_data"
    }
   ],
   "source": [
    "head(randu)"
   ]
  },
  {
   "cell_type": "code",
   "execution_count": 45,
   "metadata": {},
   "outputs": [
    {
     "data": {
      "text/html": [
       "<table>\n",
       "<caption>A data.frame: 1 x 3</caption>\n",
       "<thead>\n",
       "\t<tr><th scope=col>prom_x</th><th scope=col>prom_y</th><th scope=col>prom_z</th></tr>\n",
       "\t<tr><th scope=col>&lt;dbl&gt;</th><th scope=col>&lt;dbl&gt;</th><th scope=col>&lt;dbl&gt;</th></tr>\n",
       "</thead>\n",
       "<tbody>\n",
       "\t<tr><td>0.5264293</td><td>0.4860531</td><td>0.4809547</td></tr>\n",
       "</tbody>\n",
       "</table>\n"
      ],
      "text/latex": [
       "A data.frame: 1 x 3\n",
       "\\begin{tabular}{r|lll}\n",
       " prom\\_x & prom\\_y & prom\\_z\\\\\n",
       " <dbl> & <dbl> & <dbl>\\\\\n",
       "\\hline\n",
       "\t 0.5264293 & 0.4860531 & 0.4809547\\\\\n",
       "\\end{tabular}\n"
      ],
      "text/markdown": [
       "\n",
       "A data.frame: 1 x 3\n",
       "\n",
       "| prom_x &lt;dbl&gt; | prom_y &lt;dbl&gt; | prom_z &lt;dbl&gt; |\n",
       "|---|---|---|\n",
       "| 0.5264293 | 0.4860531 | 0.4809547 |\n",
       "\n"
      ],
      "text/plain": [
       "  prom_x    prom_y    prom_z   \n",
       "1 0.5264293 0.4860531 0.4809547"
      ]
     },
     "metadata": {},
     "output_type": "display_data"
    }
   ],
   "source": [
    "stat_randu <- randu %>%\n",
    "      summarise(prom_x = mean(x),\n",
    "              prom_y = mean(y),\n",
    "              prom_z = mean(z))\n",
    "head(stat_randu)"
   ]
  },
  {
   "cell_type": "code",
   "execution_count": 46,
   "metadata": {},
   "outputs": [
    {
     "name": "stdout",
     "output_type": "stream",
     "text": [
      "[1] 0.5264293 0.4860531 0.4809547\n"
     ]
    }
   ],
   "source": [
    "# ejecutandolo como un vector para comprobación\n",
    "print(c(mean(randu$x),mean(randu$y),mean(randu$z)))"
   ]
  },
  {
   "cell_type": "code",
   "execution_count": 47,
   "metadata": {},
   "outputs": [
    {
     "data": {
      "text/html": [
       "<table>\n",
       "<caption>A matrix: 3 x 3 of type dbl</caption>\n",
       "<thead>\n",
       "\t<tr><th></th><th scope=col>x</th><th scope=col>y</th><th scope=col>z</th></tr>\n",
       "</thead>\n",
       "<tbody>\n",
       "\t<tr><th scope=row>x</th><td> 0.081231885</td><td>-0.004057683</td><td> 0.004637656</td></tr>\n",
       "\t<tr><th scope=row>y</th><td>-0.004057683</td><td> 0.086270206</td><td>-0.005148432</td></tr>\n",
       "\t<tr><th scope=row>z</th><td> 0.004637656</td><td>-0.005148432</td><td> 0.077860433</td></tr>\n",
       "</tbody>\n",
       "</table>\n"
      ],
      "text/latex": [
       "A matrix: 3 x 3 of type dbl\n",
       "\\begin{tabular}{r|lll}\n",
       "  & x & y & z\\\\\n",
       "\\hline\n",
       "\tx &  0.081231885 & -0.004057683 &  0.004637656\\\\\n",
       "\ty & -0.004057683 &  0.086270206 & -0.005148432\\\\\n",
       "\tz &  0.004637656 & -0.005148432 &  0.077860433\\\\\n",
       "\\end{tabular}\n"
      ],
      "text/markdown": [
       "\n",
       "A matrix: 3 x 3 of type dbl\n",
       "\n",
       "| <!--/--> | x | y | z |\n",
       "|---|---|---|---|\n",
       "| x |  0.081231885 | -0.004057683 |  0.004637656 |\n",
       "| y | -0.004057683 |  0.086270206 | -0.005148432 |\n",
       "| z |  0.004637656 | -0.005148432 |  0.077860433 |\n",
       "\n"
      ],
      "text/plain": [
       "  x            y            z           \n",
       "x  0.081231885 -0.004057683  0.004637656\n",
       "y -0.004057683  0.086270206 -0.005148432\n",
       "z  0.004637656 -0.005148432  0.077860433"
      ]
     },
     "metadata": {},
     "output_type": "display_data"
    }
   ],
   "source": [
    "# varianzas y covarianzas\n",
    "varcov_randu <- var(randu)\n",
    "varcov_randu"
   ]
  },
  {
   "cell_type": "markdown",
   "metadata": {},
   "source": [
    "**B.** Queremos ver la distribución del promedio por renglón de cada observación del dataset randu, para esto utilizar la función de apply para calcular tal promedio, alternativamente usar rowMeans."
   ]
  },
  {
   "cell_type": "code",
   "execution_count": 48,
   "metadata": {},
   "outputs": [
    {
     "data": {
      "text/html": [
       "<dl class=dl-horizontal>\n",
       "\t<dt>1</dt>\n",
       "\t\t<dd>0.000346</dd>\n",
       "\t<dt>2</dt>\n",
       "\t\t<dd>0.244722</dd>\n",
       "\t<dt>3</dt>\n",
       "\t\t<dd>0.844799333333333</dd>\n",
       "\t<dt>4</dt>\n",
       "\t\t<dd>0.653828</dd>\n",
       "\t<dt>5</dt>\n",
       "\t\t<dd>0.546449666666667</dd>\n",
       "\t<dt>6</dt>\n",
       "\t\t<dd>0.671117</dd>\n",
       "</dl>\n"
      ],
      "text/latex": [
       "\\begin{description*}\n",
       "\\item[1] 0.000346\n",
       "\\item[2] 0.244722\n",
       "\\item[3] 0.844799333333333\n",
       "\\item[4] 0.653828\n",
       "\\item[5] 0.546449666666667\n",
       "\\item[6] 0.671117\n",
       "\\end{description*}\n"
      ],
      "text/markdown": [
       "1\n",
       ":   0.0003462\n",
       ":   0.2447223\n",
       ":   0.8447993333333334\n",
       ":   0.6538285\n",
       ":   0.5464496666666676\n",
       ":   0.671117\n",
       "\n"
      ],
      "text/plain": [
       "        1         2         3         4         5         6 \n",
       "0.0003460 0.2447220 0.8447993 0.6538280 0.5464497 0.6711170 "
      ]
     },
     "metadata": {},
     "output_type": "display_data"
    }
   ],
   "source": [
    "# hacerlo con rowmeans para comprobación\n",
    "fil_mean <- apply(randu, MARGIN = 1, mean) #margin = 1 para realizar la operación en filas\n",
    "head(fil_mean)"
   ]
  },
  {
   "cell_type": "code",
   "execution_count": 49,
   "metadata": {},
   "outputs": [
    {
     "data": {
      "text/html": [
       "<dl class=dl-horizontal>\n",
       "\t<dt>1</dt>\n",
       "\t\t<dd>0.000346</dd>\n",
       "\t<dt>2</dt>\n",
       "\t\t<dd>0.244722</dd>\n",
       "\t<dt>3</dt>\n",
       "\t\t<dd>0.844799333333333</dd>\n",
       "\t<dt>4</dt>\n",
       "\t\t<dd>0.653828</dd>\n",
       "\t<dt>5</dt>\n",
       "\t\t<dd>0.546449666666667</dd>\n",
       "\t<dt>6</dt>\n",
       "\t\t<dd>0.671117</dd>\n",
       "</dl>\n"
      ],
      "text/latex": [
       "\\begin{description*}\n",
       "\\item[1] 0.000346\n",
       "\\item[2] 0.244722\n",
       "\\item[3] 0.844799333333333\n",
       "\\item[4] 0.653828\n",
       "\\item[5] 0.546449666666667\n",
       "\\item[6] 0.671117\n",
       "\\end{description*}\n"
      ],
      "text/markdown": [
       "1\n",
       ":   0.0003462\n",
       ":   0.2447223\n",
       ":   0.8447993333333334\n",
       ":   0.6538285\n",
       ":   0.5464496666666676\n",
       ":   0.671117\n",
       "\n"
      ],
      "text/plain": [
       "        1         2         3         4         5         6 \n",
       "0.0003460 0.2447220 0.8447993 0.6538280 0.5464497 0.6711170 "
      ]
     },
     "metadata": {},
     "output_type": "display_data"
    }
   ],
   "source": [
    "fil_prom = rowMeans(randu)\n",
    "head(fil_prom)"
   ]
  },
  {
   "cell_type": "markdown",
   "metadata": {},
   "source": [
    "**C.** Utilizar la función hist del paquete base para calcular un histograma con los breaks definido por tal función."
   ]
  },
  {
   "cell_type": "code",
   "execution_count": 50,
   "metadata": {},
   "outputs": [
    {
     "data": {
      "image/png": "[encoded data removed]",
      "text/plain": [
       "Plot with title \"Histogram of fil_prom\""
      ]
     },
     "metadata": {},
     "output_type": "display_data"
    }
   ],
   "source": [
    "hist(fil_prom)"
   ]
  },
  {
   "cell_type": "markdown",
   "metadata": {},
   "source": [
    "**D.** Calcular sus propios breaks y volver a graficar el histograma con hist y con geom_histogram del paquete ggplot2."
   ]
  },
  {
   "cell_type": "code",
   "execution_count": 51,
   "metadata": {},
   "outputs": [
    {
     "data": {
      "image/png": "[encoded data removed]",
      "text/plain": [
       "Plot with title \"Histogram of fil_prom\""
      ]
     },
     "metadata": {},
     "output_type": "display_data"
    }
   ],
   "source": [
    "# hist\n",
    "hist(fil_prom, breaks=10)\n"
   ]
  },
  {
   "cell_type": "code",
   "execution_count": 52,
   "metadata": {},
   "outputs": [
    {
     "data": {
      "text/html": [
       "<table>\n",
       "<caption>A data.frame: 6 x 4</caption>\n",
       "<thead>\n",
       "\t<tr><th scope=col>x</th><th scope=col>y</th><th scope=col>z</th><th scope=col>fil_prom</th></tr>\n",
       "\t<tr><th scope=col>&lt;dbl&gt;</th><th scope=col>&lt;dbl&gt;</th><th scope=col>&lt;dbl&gt;</th><th scope=col>&lt;dbl&gt;</th></tr>\n",
       "</thead>\n",
       "<tbody>\n",
       "\t<tr><td>0.000031</td><td>0.000183</td><td>0.000824</td><td>0.0003460</td></tr>\n",
       "\t<tr><td>0.044495</td><td>0.155732</td><td>0.533939</td><td>0.2447220</td></tr>\n",
       "\t<tr><td>0.822440</td><td>0.873416</td><td>0.838542</td><td>0.8447993</td></tr>\n",
       "\t<tr><td>0.322291</td><td>0.648545</td><td>0.990648</td><td>0.6538280</td></tr>\n",
       "\t<tr><td>0.393595</td><td>0.826873</td><td>0.418881</td><td>0.5464497</td></tr>\n",
       "\t<tr><td>0.309097</td><td>0.926590</td><td>0.777664</td><td>0.6711170</td></tr>\n",
       "</tbody>\n",
       "</table>\n"
      ],
      "text/latex": [
       "A data.frame: 6 x 4\n",
       "\\begin{tabular}{r|llll}\n",
       " x & y & z & fil\\_prom\\\\\n",
       " <dbl> & <dbl> & <dbl> & <dbl>\\\\\n",
       "\\hline\n",
       "\t 0.000031 & 0.000183 & 0.000824 & 0.0003460\\\\\n",
       "\t 0.044495 & 0.155732 & 0.533939 & 0.2447220\\\\\n",
       "\t 0.822440 & 0.873416 & 0.838542 & 0.8447993\\\\\n",
       "\t 0.322291 & 0.648545 & 0.990648 & 0.6538280\\\\\n",
       "\t 0.393595 & 0.826873 & 0.418881 & 0.5464497\\\\\n",
       "\t 0.309097 & 0.926590 & 0.777664 & 0.6711170\\\\\n",
       "\\end{tabular}\n"
      ],
      "text/markdown": [
       "\n",
       "A data.frame: 6 x 4\n",
       "\n",
       "| x &lt;dbl&gt; | y &lt;dbl&gt; | z &lt;dbl&gt; | fil_prom &lt;dbl&gt; |\n",
       "|---|---|---|---|\n",
       "| 0.000031 | 0.000183 | 0.000824 | 0.0003460 |\n",
       "| 0.044495 | 0.155732 | 0.533939 | 0.2447220 |\n",
       "| 0.822440 | 0.873416 | 0.838542 | 0.8447993 |\n",
       "| 0.322291 | 0.648545 | 0.990648 | 0.6538280 |\n",
       "| 0.393595 | 0.826873 | 0.418881 | 0.5464497 |\n",
       "| 0.309097 | 0.926590 | 0.777664 | 0.6711170 |\n",
       "\n"
      ],
      "text/plain": [
       "  x        y        z        fil_prom \n",
       "1 0.000031 0.000183 0.000824 0.0003460\n",
       "2 0.044495 0.155732 0.533939 0.2447220\n",
       "3 0.822440 0.873416 0.838542 0.8447993\n",
       "4 0.322291 0.648545 0.990648 0.6538280\n",
       "5 0.393595 0.826873 0.418881 0.5464497\n",
       "6 0.309097 0.926590 0.777664 0.6711170"
      ]
     },
     "metadata": {},
     "output_type": "display_data"
    }
   ],
   "source": [
    "histo_df <- cbind(randu, fil_prom)\n",
    "head(histo_df)"
   ]
  },
  {
   "cell_type": "code",
   "execution_count": 53,
   "metadata": {},
   "outputs": [],
   "source": [
    "hg_fprom <- ggplot(histo_df, aes(fil_prom))"
   ]
  },
  {
   "cell_type": "code",
   "execution_count": 54,
   "metadata": {},
   "outputs": [
    {
     "data": {
      "image/png": "[encoded data removed]",
      "text/plain": [
       "plot without title"
      ]
     },
     "metadata": {},
     "output_type": "display_data"
    }
   ],
   "source": [
    "# Realizar el mismo gráfico pero con ggplot\n",
    "hg_fprom+\n",
    "  geom_histogram(bins=10, col='black', fill='grey')"
   ]
  },
  {
   "cell_type": "markdown",
   "metadata": {},
   "source": [
    "**E.** Utilizar la función qqnorm para comparar los cuantiles de una distribución normal con la distribución de las medias muestrales obtenidos en el inciso b). Sólo de forma visual ¿qué se puede concluir sobre la distribución de las medias muestrales calculadas en b)? (puedes añadir una línea al gráfico con qqline)."
   ]
  },
  {
   "cell_type": "code",
   "execution_count": 56,
   "metadata": {},
   "outputs": [
    {
     "data": {
      "image/png": "[encoded data removed]",
      "text/plain": [
       "plot without title"
      ]
     },
     "metadata": {},
     "output_type": "display_data"
    }
   ],
   "source": [
    "ggplot(histo_df, aes(sample=fil_prom)) +\n",
    "  stat_qq() +\n",
    "  stat_qq_line()"
   ]
  },
  {
   "cell_type": "markdown",
   "metadata": {},
   "source": [
    "En el gráico de cuantil-cuantil, la distribución teóricaparece ajustarse bastante bien a la obtenida de la muestra del promedio de los números de las filas del data set randu, por lo que gráficamente se puede pensar que esta variable se distribuye como una d. normal. \n"
   ]
  },
  {
   "cell_type": "markdown",
   "metadata": {},
   "source": [
    "## Ejercicio 4\n",
    "Realizar gráficas con el comando qqplot para comparar $2$ distribuciones de datos, por ejemplo:"
   ]
  },
  {
   "cell_type": "code",
   "execution_count": 57,
   "metadata": {},
   "outputs": [],
   "source": [
    "options(repr.plot.width=4, repr.plot.height=4)#esta línea sólo se ejecuta para jupyterlab con R"
   ]
  },
  {
   "cell_type": "code",
   "execution_count": 58,
   "metadata": {},
   "outputs": [
    {
     "data": {
      "image/png": "[encoded data removed]",
      "text/plain": [
       "plot without title"
      ]
     },
     "metadata": {},
     "output_type": "display_data"
    }
   ],
   "source": [
    "n<-500\n",
    "set.seed(2000)\n",
    "par(cex=0.5) #control size of labels\n",
    "datos<- qqplot(rnorm(n), rexp(n)-3, cex=.1, xlab='', ylab='')\n",
    "abline(0,1) #recta a 45 grados, sirve de apoyo para realizar comentarios"
   ]
  },
  {
   "cell_type": "markdown",
   "metadata": {},
   "source": [
    "\n",
    "\n",
    "Realizar conclusiones de sus gráficas qqplot. Por ejemplo, sin utilizar la información de cuáles distribuciones se han generado los datos, ni cuáles están en el eje vertical ni horizontal del gráfico anterior se puede establecer: \"en el gráfico anterior se observa que una de las distribuciones está sesgada respecto a la otra. Este tipo de gráfica es similar al de una distribución sesgada a la derecha por lo que o bien, la cola izquierda de la otra distribución está más cercana a la mediana o tiene colas ligeras\".\n"
   ]
  },
  {
   "cell_type": "code",
   "execution_count": 59,
   "metadata": {},
   "outputs": [
    {
     "data": {
      "image/png": "[encoded data removed]",
      "text/plain": [
       "plot without title"
      ]
     },
     "metadata": {},
     "output_type": "display_data"
    }
   ],
   "source": [
    "n<-500\n",
    "set.seed(2000)\n",
    "sim_plot = rcauchy(n) +1\n",
    "norm_plot = rnorm(n)\n",
    "par(cex=0.5) #control size of labels\n",
    "datos<- qqplot(norm_plot, sim_plot, cex=.1, xlab='', ylab='')\n",
    "abline(0,1) #recta a 45 grados, sirve de apoyo para realizar comentarios"
   ]
  },
  {
   "cell_type": "markdown",
   "metadata": {},
   "source": [
    "De acuerdo al gráfico anterior se puede ver que la distribución de datos simulada se parece a la distribución normal (línea de 45 grados) en el medio de la curva, sin embargo la situación no es equivalente para los extremos, donde se podría inferir que se están incluyendo importantes valores extremos en la simulación. Lo anterior implica que las colas de la distirbución son bastante alargadas. "
   ]
  },
  {
   "cell_type": "code",
   "execution_count": 60,
   "metadata": {},
   "outputs": [
    {
     "data": {
      "image/png": "[encoded data removed]",
      "text/plain": [
       "plot without title"
      ]
     },
     "metadata": {},
     "output_type": "display_data"
    }
   ],
   "source": [
    "n<-500\n",
    "set.seed(2000)\n",
    "sim_plot = runif(n )-1\n",
    "norm_plot = rnorm(n)\n",
    "par(cex=0.5) #control size of labels\n",
    "datos<- qqplot(norm_plot, sim_plot, cex=.1, xlab='', ylab='')\n",
    "abline(0,1) #recta a 45 grados, sirve de apoyo para realizar comentarios"
   ]
  },
  {
   "cell_type": "markdown",
   "metadata": {},
   "source": [
    "Al comparar la gráfica de la distribución simulada, se observa que inicia siendo convexa para posteriormente ser cóncava, lo que puede sugerir la existencia de multimodalidad. Si se conpara con la línea recta de los cuantiles de la distribución normal, es viable la notable desviación, lo que reafirma el sesgo existente mencionado con anterioridad. "
   ]
  }
 ],
 "metadata": {
  "kernelspec": {
   "display_name": "R",
   "language": "R",
   "name": "ir"
  },
  "language_info": {
   "codemirror_mode": "r",
   "file_extension": ".r",
   "mimetype": "text/x-r-source",
   "name": "R",
   "pygments_lexer": "r",
   "version": "3.6.0"
  }
 },
 "nbformat": 4,
 "nbformat_minor": 2
}
