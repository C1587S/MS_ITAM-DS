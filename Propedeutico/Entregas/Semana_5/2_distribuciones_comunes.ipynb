{
 "cells": [
  {
   "cell_type": "markdown",
   "metadata": {},
   "source": [
    "# Estadística"
   ]
  },
  {
   "cell_type": "markdown",
   "metadata": {},
   "source": [
    "**Nota:** Los siguientes ejercicios están basados en las notas de clase disponibles en: https://github.com/ITAM-DS/Propedeutico/tree/master/R/clases/3_estadistica."
   ]
  },
  {
   "cell_type": "markdown",
   "metadata": {},
   "source": [
    "## Ejercicio en las notas 1:\n",
    "Calcular el caso de $P(-1<Z<0)$  = P(0<Z<1) <br>\n",
    "**Nota:** $X\\sim N\\left(0,1\\right)$"
   ]
  },
  {
   "cell_type": "code",
   "execution_count": 98,
   "metadata": {},
   "outputs": [],
   "source": [
    "media = 0\n",
    "desv_est <- 1"
   ]
  },
  {
   "cell_type": "code",
   "execution_count": 99,
   "metadata": {},
   "outputs": [
    {
     "data": {
      "text/html": [
       "0.341344746068543"
      ],
      "text/latex": [
       "0.341344746068543"
      ],
      "text/markdown": [
       "0.341344746068543"
      ],
      "text/plain": [
       "[1] 0.3413447"
      ]
     },
     "metadata": {},
     "output_type": "display_data"
    }
   ],
   "source": [
    "1-pnorm(-1,media,desv_est)-pnorm(0,media,desv_est, lower.tail = F)"
   ]
  },
  {
   "cell_type": "code",
   "execution_count": 100,
   "metadata": {},
   "outputs": [
    {
     "data": {
      "text/html": [
       "0.341344746068543"
      ],
      "text/latex": [
       "0.341344746068543"
      ],
      "text/markdown": [
       "0.341344746068543"
      ],
      "text/plain": [
       "[1] 0.3413447"
      ]
     },
     "metadata": {},
     "output_type": "display_data"
    }
   ],
   "source": [
    "# comprobar la simetría:\n",
    "1-pnorm(0,media,desv_est)-pnorm(1,media,desv_est, lower.tail = F)"
   ]
  },
  {
   "cell_type": "markdown",
   "metadata": {},
   "source": [
    "# Ejercicio en las notas 2:\n",
    "Calcular este caso **(de tres dados)** utilizando set.seed(2000), sample, ggplot2.\n",
    "\"Tomamos ahora tres dados y lanzamos los tres juntos $50$ ocasiones. Sumamos los números de las tres caras que aparecen en cada lanzamiento y realizamos un histograma con los resultados.\""
   ]
  },
  {
   "cell_type": "code",
   "execution_count": null,
   "metadata": {},
   "outputs": [],
   "source": [
    "install.packages('prob')"
   ]
  },
  {
   "cell_type": "code",
   "execution_count": 5,
   "metadata": {},
   "outputs": [],
   "source": [
    "library(prob)\n",
    "library(ggplot2)"
   ]
  },
  {
   "cell_type": "code",
   "execution_count": null,
   "metadata": {},
   "outputs": [],
   "source": [
    "S_1a <- rolldie(3, makespace = TRUE) # el espacio muestral de lanzar 3 dados\n",
    "S_1a <- addrv(S_1a, FUN=sum, invar= c('X1', 'X2','X3'), name= 'sum_caras') # creamos la suma de las caras\n",
    "proba <- marginal(S_1a, vars = \"sum_caras\")\n",
    "prob <- as.matrix(proba$probs)"
   ]
  },
  {
   "cell_type": "code",
   "execution_count": 42,
   "metadata": {},
   "outputs": [],
   "source": [
    "set.seed(2000)\n",
    "n_sample<-50\n",
    "suma<-3:18\n",
    "tres_dados<-sample(suma,n_sample,prob=prob,replace=T)\n",
    "gf<-ggplot(data.frame(valores=tres_dados),aes(x=tres_dados))"
   ]
  },
  {
   "cell_type": "code",
   "execution_count": 43,
   "metadata": {},
   "outputs": [
    {
     "data": {
      "image/png": "[encoded data removed]",
      "text/plain": [
       "plot without title"
      ]
     },
     "metadata": {},
     "output_type": "display_data"
    }
   ],
   "source": [
    "gf + geom_histogram(bins = 10)+\n",
    "ggtitle('Tres dados') +\n",
    "theme(plot.title = element_text(size=10, hjust = 0.5),\n",
    "      axis.text=element_text(size=8),\n",
    "      axis.title=element_text(size=8)) +\n",
    "xlab('')"
   ]
  },
  {
   "cell_type": "markdown",
   "metadata": {},
   "source": [
    "# Ejercicio en las notas 3:\n",
    "Calcular el caso anterior pero para el promedio de la suma de los tres dados"
   ]
  },
  {
   "cell_type": "code",
   "execution_count": 44,
   "metadata": {},
   "outputs": [],
   "source": [
    "promedio <- (3:18)/3\n",
    "tres_dados<-sample(promedio,n_sample,prob=prob,replace=T)\n",
    "gff<-ggplot(data.frame(valores=tres_dados),aes(x=tres_dados))"
   ]
  },
  {
   "cell_type": "code",
   "execution_count": 45,
   "metadata": {},
   "outputs": [
    {
     "data": {
      "image/png": "[encoded data removed]",
      "text/plain": [
       "plot without title"
      ]
     },
     "metadata": {},
     "output_type": "display_data"
    }
   ],
   "source": [
    "gf + geom_histogram(bins = 6)+\n",
    "ggtitle('Promedio dos dados') +\n",
    "theme(plot.title = element_text(size=10, hjust = 0.5),\n",
    "      axis.text=element_text(size=8),\n",
    "      axis.title=element_text(size=8)) +\n",
    "xlab('')"
   ]
  },
  {
   "cell_type": "markdown",
   "metadata": {},
   "source": [
    "## Ejercicio 2\n",
    "\n",
    "Supóngase que el tiempo (en minutos) que una persona espera el Metrobús los días de semana sigue una distribución uniforme dada por, \n",
    "$$\n",
    "f(x) = \\begin{cases} \\frac{1}{12} \\:; \\text{si } 0 \\leq x \\leq 12,\\\\ 0 \\:; \\text{en otro caso} \\end{cases}\n",
    "$$"
   ]
  },
  {
   "cell_type": "markdown",
   "metadata": {},
   "source": [
    "A. ¿Cuál es la probabilidad que una persona espere menos de $6$ minutos?."
   ]
  },
  {
   "cell_type": "code",
   "execution_count": 60,
   "metadata": {},
   "outputs": [
    {
     "data": {
      "text/html": [
       "0.5"
      ],
      "text/latex": [
       "0.5"
      ],
      "text/markdown": [
       "0.5"
      ],
      "text/plain": [
       "[1] 0.5"
      ]
     },
     "metadata": {},
     "output_type": "display_data"
    }
   ],
   "source": [
    "# Esta es una distribución uniforme, con extremo inferior a = 0, y superior b=12\n",
    "a = 0\n",
    "b = 12\n",
    "prob_un = 1/b\n",
    "p_esp_6 = 6*prob_un\n",
    "p_esp_6"
   ]
  },
  {
   "cell_type": "markdown",
   "metadata": {},
   "source": [
    "B. ¿Su tiempo medio de espera? ¿su desviación estándar?"
   ]
  },
  {
   "cell_type": "code",
   "execution_count": 65,
   "metadata": {},
   "outputs": [
    {
     "data": {
      "text/html": [
       "6"
      ],
      "text/latex": [
       "6"
      ],
      "text/markdown": [
       "6"
      ],
      "text/plain": [
       "[1] 6"
      ]
     },
     "metadata": {},
     "output_type": "display_data"
    }
   ],
   "source": [
    "# El valor esperado de una distribución uniforme es (b+a)/2\n",
    "ve = (b+a)/2\n",
    "ve"
   ]
  },
  {
   "cell_type": "code",
   "execution_count": 64,
   "metadata": {},
   "outputs": [
    {
     "data": {
      "text/html": [
       "3.46410161513775"
      ],
      "text/latex": [
       "3.46410161513775"
      ],
      "text/markdown": [
       "3.46410161513775"
      ],
      "text/plain": [
       "[1] 3.464102"
      ]
     },
     "metadata": {},
     "output_type": "display_data"
    }
   ],
   "source": [
    "# La varianza es (b-a)^2/12\n",
    "var = (b-a)^2/12\n",
    "des_est = sqrt(var)\n",
    "des_est"
   ]
  },
  {
   "cell_type": "markdown",
   "metadata": {},
   "source": [
    "## Ejercicio 2\n",
    "Considérese lanzamientos de una moneda no cargada. Sea $X$ la variable aleatoria que cuenta el número de águilas en $10$ lanzamientos. Calcular en R la probabilidad $P(X \\geq 3)$ con la función pbinom y dbinom, el número medio de águilas y su desviación estándar."
   ]
  },
  {
   "cell_type": "markdown",
   "metadata": {},
   "source": [
    "Calculamos $f(x)=\\left(\\begin{array}{c}\n",
    "n\\\\\n",
    "x\n",
    "\\end{array}\\right)p^{x}(a-p)^{x}$, restando $1 - [f(0)+f(1)+f(2)]$."
   ]
  },
  {
   "cell_type": "code",
   "execution_count": 79,
   "metadata": {},
   "outputs": [
    {
     "data": {
      "text/html": [
       "0.9453125"
      ],
      "text/latex": [
       "0.9453125"
      ],
      "text/markdown": [
       "0.9453125"
      ],
      "text/plain": [
       "[1] 0.9453125"
      ]
     },
     "metadata": {},
     "output_type": "display_data"
    }
   ],
   "source": [
    "# el valor esperado de una binomial utilizando dbinom (probs separadas)\n",
    "p = 0.5\n",
    "n = 10\n",
    "prob_0 = dbinom(0, size=n,p)\n",
    "prob_1 = dbinom(1, size=n,p)\n",
    "prob_2 = dbinom(2, size=n,p)\n",
    "\n",
    "prob_3mas = 1- (prob_0+prob_1+prob_2)\n",
    "prob_3mas"
   ]
  },
  {
   "cell_type": "code",
   "execution_count": 80,
   "metadata": {},
   "outputs": [
    {
     "data": {
      "text/html": [
       "0.9453125"
      ],
      "text/latex": [
       "0.9453125"
      ],
      "text/markdown": [
       "0.9453125"
      ],
      "text/plain": [
       "[1] 0.9453125"
      ]
     },
     "metadata": {},
     "output_type": "display_data"
    }
   ],
   "source": [
    "# Ahora se calcula utilizando pbinom en una sola línea (ya que puede calcular directamente la proba de que x sea 2 o menos)\n",
    "prob_2menos = pbinom(2, size=n, 0.5)\n",
    "\n",
    "prob_3ma1 = 1 - prob_2menos\n",
    "prob_3ma1"
   ]
  },
  {
   "cell_type": "code",
   "execution_count": 81,
   "metadata": {},
   "outputs": [
    {
     "data": {
      "text/html": [
       "5"
      ],
      "text/latex": [
       "5"
      ],
      "text/markdown": [
       "5"
      ],
      "text/plain": [
       "[1] 5"
      ]
     },
     "metadata": {},
     "output_type": "display_data"
    }
   ],
   "source": [
    "# la media de una binomial es n*p\n",
    "ve = n*p\n",
    "ve"
   ]
  },
  {
   "cell_type": "code",
   "execution_count": 82,
   "metadata": {},
   "outputs": [
    {
     "data": {
      "text/html": [
       "1.58113883008419"
      ],
      "text/latex": [
       "1.58113883008419"
      ],
      "text/markdown": [
       "1.58113883008419"
      ],
      "text/plain": [
       "[1] 1.581139"
      ]
     },
     "metadata": {},
     "output_type": "display_data"
    }
   ],
   "source": [
    "# la varianza de una binomial es np*(1-p)\n",
    "var = n*p*(1-p)\n",
    "des_est = sqrt(var)\n",
    "des_est\n"
   ]
  },
  {
   "cell_type": "markdown",
   "metadata": {},
   "source": [
    "## Ejercicio 3\n",
    "Considérese una población de votantes en la ciudad de México. Se reporta que la proporción de votantes que favorecen al candidato del partido Naranja es igual a $0.40$. Dada una muestra aleatoria de $200$ votantes, ¿cuál es la probabilidad de que más de la mitad de ellos tengan intención de voto por el candidato naranja? Usar:"
   ]
  },
  {
   "cell_type": "markdown",
   "metadata": {},
   "source": [
    "A. pbinom"
   ]
  },
  {
   "cell_type": "code",
   "execution_count": 86,
   "metadata": {},
   "outputs": [
    {
     "data": {
      "text/html": [
       "0"
      ],
      "text/latex": [
       "0"
      ],
      "text/markdown": [
       "0"
      ],
      "text/plain": [
       "[1] 0"
      ]
     },
     "metadata": {},
     "output_type": "display_data"
    }
   ],
   "source": [
    "p_nar = 0.4\n",
    "n_vot = 200\n",
    "# se calcula como 1-p(mitad de votantes), en una linea con pbinom\n",
    "prob_g_n = 1-pbinom(0.5*n_vot, size=n, p_nar)\n",
    "prob_g_n"
   ]
  },
  {
   "cell_type": "markdown",
   "metadata": {},
   "source": [
    "B. El teorema del límite central y pnorm considerando lo que se conoce como corrección por continuidad: si $B$ es variable aleatoria binomial con $\\mu$ y $\\sigma$ entonces $P(B=k) = P(k-0.5<X<k+0.5)$ con $X$ variable aleatoria normal $N(\\mu,\\sigma)$ y $k$ un número entero no negativo."
   ]
  },
  {
   "cell_type": "markdown",
   "metadata": {},
   "source": [
    "Dado lo anterior, es posible calcular la misma probabilidad utilizando una normal con la misma medio y desviación estándar que la binomial. A continuación se calculan"
   ]
  },
  {
   "cell_type": "code",
   "execution_count": 87,
   "metadata": {},
   "outputs": [
    {
     "data": {
      "text/html": [
       "80"
      ],
      "text/latex": [
       "80"
      ],
      "text/markdown": [
       "80"
      ],
      "text/plain": [
       "[1] 80"
      ]
     },
     "metadata": {},
     "output_type": "display_data"
    }
   ],
   "source": [
    "# la media de una binomial es n*p\n",
    "media = n_vot*p_nar\n",
    "media"
   ]
  },
  {
   "cell_type": "code",
   "execution_count": 88,
   "metadata": {},
   "outputs": [
    {
     "data": {
      "text/html": [
       "1.58113883008419"
      ],
      "text/latex": [
       "1.58113883008419"
      ],
      "text/markdown": [
       "1.58113883008419"
      ],
      "text/plain": [
       "[1] 1.581139"
      ]
     },
     "metadata": {},
     "output_type": "display_data"
    }
   ],
   "source": [
    "# la varianza de una binomial es np*(1-p)\n",
    "vari = n_vot*p_nar*(1-p_nar)\n",
    "dest = sqrt(var)\n",
    "dest"
   ]
  },
  {
   "cell_type": "markdown",
   "metadata": {},
   "source": [
    "Ahora se utilizan estos parámetros en una distribución normal y se ajusta para que se calcule la probabilidad sea calculada para hallar más de la mitad de los votantes. Entonces estamos tomando 1 - prob(sacar la mitad o menos)."
   ]
  },
  {
   "cell_type": "code",
   "execution_count": 92,
   "metadata": {},
   "outputs": [
    {
     "data": {
      "text/html": [
       "0"
      ],
      "text/latex": [
       "0"
      ],
      "text/markdown": [
       "0"
      ],
      "text/plain": [
       "[1] 0"
      ]
     },
     "metadata": {},
     "output_type": "display_data"
    }
   ],
   "source": [
    "prob_tlc = 1-pnorm(0.5*n_vot+ 0.5, media, dest)\n",
    "prob_tlc"
   ]
  },
  {
   "cell_type": "markdown",
   "metadata": {},
   "source": [
    "## Ejercicio 4\n",
    "Supongamos que el ingreso anual de un imigrante mexicano en los EUA se distribuye de forma normal con una media de $\\$30,000$ y una desviación estándar de $\\$10,000$ dólares. ¿Cuál es la probabilidad de que un inmigrante mexicano gane menos de $\\$20,000$ dólares anuales? ¿Cuál es la probabilidad de que su ingreso sea mayor a los $\\$50,000$ dólares anuales? (usar R)."
   ]
  },
  {
   "cell_type": "markdown",
   "metadata": {},
   "source": [
    "Para poder usar la función de la distribución normal estándar $Z(0,1)$, se debe hacer una estándarización inicial y luego procedemos a calcular el área de esta transformación en la cola izda."
   ]
  },
  {
   "cell_type": "markdown",
   "metadata": {},
   "source": [
    "a) Probabilidad de que gane menos de $20000 dólares"
   ]
  },
  {
   "cell_type": "code",
   "execution_count": 93,
   "metadata": {},
   "outputs": [],
   "source": [
    "media_inm = 30000\n",
    "desv_inm = 10000\n",
    "ext_izd = (20000-media_inm)/desv_inm\n",
    "\n",
    "prob_menos_20k = pnorm(ext_izd)"
   ]
  },
  {
   "cell_type": "code",
   "execution_count": 94,
   "metadata": {},
   "outputs": [
    {
     "data": {
      "text/html": [
       "0.158655253931457"
      ],
      "text/latex": [
       "0.158655253931457"
      ],
      "text/markdown": [
       "0.158655253931457"
      ],
      "text/plain": [
       "[1] 0.1586553"
      ]
     },
     "metadata": {},
     "output_type": "display_data"
    }
   ],
   "source": [
    "prob_menos_20k"
   ]
  },
  {
   "cell_type": "markdown",
   "metadata": {},
   "source": [
    "Esto debería ser igual a utilizar pnorm asignando la media y varianza reales, y R lo estandariza? "
   ]
  },
  {
   "cell_type": "code",
   "execution_count": 96,
   "metadata": {},
   "outputs": [
    {
     "data": {
      "text/html": [
       "0.158655253931457"
      ],
      "text/latex": [
       "0.158655253931457"
      ],
      "text/markdown": [
       "0.158655253931457"
      ],
      "text/plain": [
       "[1] 0.1586553"
      ]
     },
     "metadata": {},
     "output_type": "display_data"
    }
   ],
   "source": [
    "prob_menos_20k = pnorm(20000,media_inm, desv_inm)\n",
    "prob_menos_20k"
   ]
  },
  {
   "cell_type": "markdown",
   "metadata": {},
   "source": [
    "b) Probabilidad de que gane más de $50000"
   ]
  },
  {
   "cell_type": "markdown",
   "metadata": {},
   "source": [
    "Para este caso estámos calculando 1 - p(gane 50k o menos) para usar la cola izquierda"
   ]
  },
  {
   "cell_type": "code",
   "execution_count": 97,
   "metadata": {},
   "outputs": [
    {
     "data": {
      "text/html": [
       "0.0227501319481792"
      ],
      "text/latex": [
       "0.0227501319481792"
      ],
      "text/markdown": [
       "0.0227501319481792"
      ],
      "text/plain": [
       "[1] 0.02275013"
      ]
     },
     "metadata": {},
     "output_type": "display_data"
    }
   ],
   "source": [
    "prob_mas_50k = 1- pnorm(50000,media_inm, desv_inm)\n",
    "prob_mas_50k"
   ]
  }
 ],
 "metadata": {
  "kernelspec": {
   "display_name": "R",
   "language": "R",
   "name": "ir"
  },
  "language_info": {
   "codemirror_mode": "r",
   "file_extension": ".r",
   "mimetype": "text/x-r-source",
   "name": "R",
   "pygments_lexer": "r",
   "version": "3.6.0"
  }
 },
 "nbformat": 4,
 "nbformat_minor": 2
}
