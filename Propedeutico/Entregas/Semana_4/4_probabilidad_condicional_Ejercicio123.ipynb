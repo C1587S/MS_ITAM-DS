{
 "cells": [
  {
   "cell_type": "markdown",
   "metadata": {},
   "source": [
    "**Nota:** Los siguientes ejercicios están basados en las notas de clase disponibles en: https://github.com/ITAM-DS/Propedeutico/tree/master/R/clases/2_probabilidad."
   ]
  },
  {
   "cell_type": "code",
   "execution_count": null,
   "metadata": {},
   "outputs": [],
   "source": [
    "options(repr.plot.width=4, repr.plot.height=4) #esta línea sólo se ejecuta para jupyterlab con R"
   ]
  },
  {
   "cell_type": "code",
   "execution_count": null,
   "metadata": {},
   "outputs": [],
   "source": [
    "install.packages('prob')"
   ]
  },
  {
   "cell_type": "code",
   "execution_count": null,
   "metadata": {},
   "outputs": [],
   "source": [
    "library(prob)"
   ]
  },
  {
   "cell_type": "markdown",
   "metadata": {},
   "source": [
    "**Tenemos una urna con 10 canicas, 7 rojas y 3 verdes.**"
   ]
  },
  {
   "cell_type": "code",
   "execution_count": 8,
   "metadata": {},
   "outputs": [],
   "source": [
    "urna <- rep(c(\"red\",\"green\"), times = c(7,3)) # vector urna con canicas"
   ]
  },
  {
   "cell_type": "markdown",
   "metadata": {},
   "source": [
    "# Ejercicio 1:\n",
    "Calcular la probabilidad de extraer dos canicas rojas."
   ]
  },
  {
   "cell_type": "code",
   "execution_count": 16,
   "metadata": {},
   "outputs": [
    {
     "name": "stdout",
     "output_type": "stream",
     "text": [
      "[1] \"La probabilidad de sacar 2 canincas rojas es: 0.466666666666667\"\n"
     ]
    }
   ],
   "source": [
    "# Posibilidades de sacar 2 canincas rojas, sin orden ni reemplazo.\n",
    "sacar_2 <- urnsamples(urna, size = 2, replace = FALSE, ordered = FALSE)\n",
    "S_s2 <- probspace(sacar_2)\n",
    "# Probabilidad de sacar dos canicas rojas\n",
    "prob_4a <- Prob(S_s2, isrep(S_s2, vals='red', nrep=2))\n",
    "print(paste('La probabilidad de sacar 2 canincas rojas es:' , prob_4a))"
   ]
  },
  {
   "cell_type": "markdown",
   "metadata": {},
   "source": [
    "# Ejercicio 2:\n",
    "Extraer roja, verde, roja (en este orden)."
   ]
  },
  {
   "cell_type": "code",
   "execution_count": 17,
   "metadata": {},
   "outputs": [
    {
     "name": "stdout",
     "output_type": "stream",
     "text": [
      "[1] \"La probabilidad de sacar 3 canicas (en orden) Rojo, Verde, Rojo es: 0.175\"\n"
     ]
    }
   ],
   "source": [
    "# Posibilidades de sacar 3 canicas, con orden y sin reemplazo \n",
    "sacar_3_nonr <- urnsamples(urna, size = 3, replace = FALSE, ordered = TRUE)\n",
    "S_s3_nonr <- probspace(sacar_3_nonr)\n",
    "# Probabilidad de sacar en orden: roja, verde, roja\n",
    "prob_4b <- Prob(S_s3_nonr, X1 =='red'& X2 =='green' & X3 =='red')\n",
    "print(paste('La probabilidad de sacar 3 canicas (en orden) Rojo, Verde, Rojo es:', prob_4b))"
   ]
  },
  {
   "cell_type": "markdown",
   "metadata": {},
   "source": [
    "# Ejercicio 3:\n",
    "Extraer roja, verde, roja (no importa el orden)"
   ]
  },
  {
   "cell_type": "code",
   "execution_count": 18,
   "metadata": {},
   "outputs": [
    {
     "name": "stdout",
     "output_type": "stream",
     "text": [
      "[1] \"La probabilidad de sacar 3 canicas  (sin orden) Rojo, Verde, Rojo es:  0.525\"\n"
     ]
    }
   ],
   "source": [
    "# Posibilidades de sacar 3 canicas, sin orden y sin reemplazo \n",
    "sacar_3_sonr <- urnsamples(urna, size = 3, replace = FALSE, ordered = FALSE)\n",
    "S_s3_sonr <- probspace(sacar_3_sonr)\n",
    "# Probabilidad de sacar en orden: roja, verde, roja\n",
    "prob_4c <- Prob(S_s3_sonr, isin(S_s3_sonr, c('red', 'green', 'red'), ordered = FALSE))\n",
    "print(paste('La probabilidad de sacar 3 canicas  (sin orden) Rojo, Verde, Rojo es: ', prob_4c))"
   ]
  }
 ],
 "metadata": {
  "kernelspec": {
   "display_name": "R",
   "language": "R",
   "name": "ir"
  },
  "language_info": {
   "codemirror_mode": "r",
   "file_extension": ".r",
   "mimetype": "text/x-r-source",
   "name": "R",
   "pygments_lexer": "r",
   "version": "3.6.0"
  }
 },
 "nbformat": 4,
 "nbformat_minor": 2
}
