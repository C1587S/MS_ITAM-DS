{
 "cells": [
  {
   "cell_type": "markdown",
   "metadata": {},
   "source": [
    "**Nota:** Los siguientes ejercicios están basados en las notas de clase disponibles en: https://github.com/ITAM-DS/Propedeutico/tree/master/R/clases/2_probabilidad."
   ]
  },
  {
   "cell_type": "code",
   "execution_count": null,
   "metadata": {},
   "outputs": [],
   "source": [
    "options(repr.plot.width=4, repr.plot.height=4) #esta línea sólo se ejecuta para jupyterlab con R"
   ]
  },
  {
   "cell_type": "code",
   "execution_count": null,
   "metadata": {},
   "outputs": [],
   "source": [
    "install.packages('prob')"
   ]
  },
  {
   "cell_type": "code",
   "execution_count": null,
   "metadata": {},
   "outputs": [],
   "source": [
    "library(prob)"
   ]
  },
  {
   "cell_type": "markdown",
   "metadata": {},
   "source": [
    "**Lanzamiento de una moneda cargada**<br>\n",
    "Supóngase que $P(\\{\\text{sol}\\}) = .7$ y $P(\\{\\text{águila}\\}) = .3$ entonces:"
   ]
  },
  {
   "cell_type": "code",
   "execution_count": 9,
   "metadata": {},
   "outputs": [
    {
     "data": {
      "text/html": [
       "<table>\n",
       "<caption>A data.frame: 2 x 2</caption>\n",
       "<thead>\n",
       "\t<tr><th scope=col>toss1</th><th scope=col>probs</th></tr>\n",
       "\t<tr><th scope=col>&lt;fct&gt;</th><th scope=col>&lt;dbl&gt;</th></tr>\n",
       "</thead>\n",
       "<tbody>\n",
       "\t<tr><td>H</td><td>0.7</td></tr>\n",
       "\t<tr><td>T</td><td>0.3</td></tr>\n",
       "</tbody>\n",
       "</table>\n"
      ],
      "text/latex": [
       "A data.frame: 2 x 2\n",
       "\\begin{tabular}{r|ll}\n",
       " toss1 & probs\\\\\n",
       " <fct> & <dbl>\\\\\n",
       "\\hline\n",
       "\t H & 0.7\\\\\n",
       "\t T & 0.3\\\\\n",
       "\\end{tabular}\n"
      ],
      "text/markdown": [
       "\n",
       "A data.frame: 2 x 2\n",
       "\n",
       "| toss1 &lt;fct&gt; | probs &lt;dbl&gt; |\n",
       "|---|---|\n",
       "| H | 0.7 |\n",
       "| T | 0.3 |\n",
       "\n"
      ],
      "text/plain": [
       "  toss1 probs\n",
       "1 H     0.7  \n",
       "2 T     0.3  "
      ]
     },
     "metadata": {},
     "output_type": "display_data"
    }
   ],
   "source": [
    "probspace(tosscoin(1), probs = c(0.70, 0.30))"
   ]
  },
  {
   "cell_type": "markdown",
   "metadata": {},
   "source": [
    "# Ejercicio 1:\n",
    "¿cómo calcular la probabilidad anterior con la función urnsamples?<br><br>\n",
    "El ejercicio de tirar una moneda, es el equivalente a sacar dos canicas de una urna, con las etiquetas -H_ y _T_.Además, la urna  tiene size 1, el equivalente a un solo lanzamiento. Dado que solo es un lanzamiento, es irrelevantes los argumentos replace y ordered."
   ]
  },
  {
   "cell_type": "code",
   "execution_count": 21,
   "metadata": {},
   "outputs": [
    {
     "data": {
      "text/html": [
       "<table>\n",
       "<caption>A data.frame: 2 x 2</caption>\n",
       "<thead>\n",
       "\t<tr><th scope=col>out</th><th scope=col>probs</th></tr>\n",
       "\t<tr><th scope=col>&lt;fct&gt;</th><th scope=col>&lt;dbl&gt;</th></tr>\n",
       "</thead>\n",
       "<tbody>\n",
       "\t<tr><td>H</td><td>0.7</td></tr>\n",
       "\t<tr><td>T</td><td>0.3</td></tr>\n",
       "</tbody>\n",
       "</table>\n"
      ],
      "text/latex": [
       "A data.frame: 2 x 2\n",
       "\\begin{tabular}{r|ll}\n",
       " out & probs\\\\\n",
       " <fct> & <dbl>\\\\\n",
       "\\hline\n",
       "\t H & 0.7\\\\\n",
       "\t T & 0.3\\\\\n",
       "\\end{tabular}\n"
      ],
      "text/markdown": [
       "\n",
       "A data.frame: 2 x 2\n",
       "\n",
       "| out &lt;fct&gt; | probs &lt;dbl&gt; |\n",
       "|---|---|\n",
       "| H | 0.7 |\n",
       "| T | 0.3 |\n",
       "\n"
      ],
      "text/plain": [
       "  out probs\n",
       "1 H   0.7  \n",
       "2 T   0.3  "
      ]
     },
     "metadata": {},
     "output_type": "display_data"
    }
   ],
   "source": [
    "probspace(urnsamples(c('H', 'T'), size = 1), probs = c(0.70, 0.30))"
   ]
  }
 ],
 "metadata": {
  "kernelspec": {
   "display_name": "R",
   "language": "R",
   "name": "ir"
  },
  "language_info": {
   "codemirror_mode": "r",
   "file_extension": ".r",
   "mimetype": "text/x-r-source",
   "name": "R",
   "pygments_lexer": "r",
   "version": "3.6.0"
  }
 },
 "nbformat": 4,
 "nbformat_minor": 2
}
