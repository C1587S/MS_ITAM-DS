{
 "cells": [
  {
   "cell_type": "markdown",
   "metadata": {},
   "source": [
    "**Nota:** Los siguientes ejercicios están basados en las notas de clase disponibles en: https://github.com/ITAM-DS/Propedeutico/tree/master/R/clases/2_probabilidad."
   ]
  },
  {
   "cell_type": "markdown",
   "metadata": {},
   "source": [
    "**Los siguientes ejercicios realizarlos en R y con ggplot2**"
   ]
  },
  {
   "cell_type": "code",
   "execution_count": 13,
   "metadata": {},
   "outputs": [],
   "source": [
    "options(repr.plot.width=4, repr.plot.height=4) #esta línea sólo se ejecuta para jupyterlab con R"
   ]
  },
  {
   "cell_type": "code",
   "execution_count": null,
   "metadata": {},
   "outputs": [],
   "source": [
    "install.packages('prob')"
   ]
  },
  {
   "cell_type": "code",
   "execution_count": 15,
   "metadata": {},
   "outputs": [],
   "source": [
    "library(prob)\n",
    "library(ggplot2)"
   ]
  },
  {
   "cell_type": "markdown",
   "metadata": {},
   "source": [
    "# Ejercicio 5:\n",
    "Encontrar los histogramas de probabilidad para las distribuciones asociadas a las siguientes variables aleatorias:<br>\n",
    "- a. El número de águilas que aparecen cuando lanzamos tres monedas al aire."
   ]
  },
  {
   "cell_type": "code",
   "execution_count": 172,
   "metadata": {},
   "outputs": [
    {
     "data": {
      "text/html": [
       "<table>\n",
       "<caption>A data.frame: 8 x 4</caption>\n",
       "<thead>\n",
       "\t<tr><th scope=col>toss1</th><th scope=col>toss2</th><th scope=col>toss3</th><th scope=col>probs</th></tr>\n",
       "\t<tr><th scope=col>&lt;fct&gt;</th><th scope=col>&lt;fct&gt;</th><th scope=col>&lt;fct&gt;</th><th scope=col>&lt;dbl&gt;</th></tr>\n",
       "</thead>\n",
       "<tbody>\n",
       "\t<tr><td>H</td><td>H</td><td>H</td><td>0.125</td></tr>\n",
       "\t<tr><td>T</td><td>H</td><td>H</td><td>0.125</td></tr>\n",
       "\t<tr><td>H</td><td>T</td><td>H</td><td>0.125</td></tr>\n",
       "\t<tr><td>T</td><td>T</td><td>H</td><td>0.125</td></tr>\n",
       "\t<tr><td>H</td><td>H</td><td>T</td><td>0.125</td></tr>\n",
       "\t<tr><td>T</td><td>H</td><td>T</td><td>0.125</td></tr>\n",
       "\t<tr><td>H</td><td>T</td><td>T</td><td>0.125</td></tr>\n",
       "\t<tr><td>T</td><td>T</td><td>T</td><td>0.125</td></tr>\n",
       "</tbody>\n",
       "</table>\n"
      ],
      "text/latex": [
       "A data.frame: 8 x 4\n",
       "\\begin{tabular}{r|llll}\n",
       " toss1 & toss2 & toss3 & probs\\\\\n",
       " <fct> & <fct> & <fct> & <dbl>\\\\\n",
       "\\hline\n",
       "\t H & H & H & 0.125\\\\\n",
       "\t T & H & H & 0.125\\\\\n",
       "\t H & T & H & 0.125\\\\\n",
       "\t T & T & H & 0.125\\\\\n",
       "\t H & H & T & 0.125\\\\\n",
       "\t T & H & T & 0.125\\\\\n",
       "\t H & T & T & 0.125\\\\\n",
       "\t T & T & T & 0.125\\\\\n",
       "\\end{tabular}\n"
      ],
      "text/markdown": [
       "\n",
       "A data.frame: 8 x 4\n",
       "\n",
       "| toss1 &lt;fct&gt; | toss2 &lt;fct&gt; | toss3 &lt;fct&gt; | probs &lt;dbl&gt; |\n",
       "|---|---|---|---|\n",
       "| H | H | H | 0.125 |\n",
       "| T | H | H | 0.125 |\n",
       "| H | T | H | 0.125 |\n",
       "| T | T | H | 0.125 |\n",
       "| H | H | T | 0.125 |\n",
       "| T | H | T | 0.125 |\n",
       "| H | T | T | 0.125 |\n",
       "| T | T | T | 0.125 |\n",
       "\n"
      ],
      "text/plain": [
       "  toss1 toss2 toss3 probs\n",
       "1 H     H     H     0.125\n",
       "2 T     H     H     0.125\n",
       "3 H     T     H     0.125\n",
       "4 T     T     H     0.125\n",
       "5 H     H     T     0.125\n",
       "6 T     H     T     0.125\n",
       "7 H     T     T     0.125\n",
       "8 T     T     T     0.125"
      ]
     },
     "metadata": {},
     "output_type": "display_data"
    }
   ],
   "source": [
    "S_5a <- tosscoin(3, makespace = TRUE)\n",
    "S_5a "
   ]
  },
  {
   "cell_type": "code",
   "execution_count": 173,
   "metadata": {},
   "outputs": [
    {
     "data": {
      "text/html": [
       "<ol class=list-inline>\n",
       "\t<li>FALSE</li>\n",
       "\t<li>FALSE</li>\n",
       "\t<li>FALSE</li>\n",
       "\t<li>TRUE</li>\n",
       "\t<li>FALSE</li>\n",
       "\t<li>TRUE</li>\n",
       "\t<li>TRUE</li>\n",
       "\t<li>FALSE</li>\n",
       "</ol>\n"
      ],
      "text/latex": [
       "\\begin{enumerate*}\n",
       "\\item FALSE\n",
       "\\item FALSE\n",
       "\\item FALSE\n",
       "\\item TRUE\n",
       "\\item FALSE\n",
       "\\item TRUE\n",
       "\\item TRUE\n",
       "\\item FALSE\n",
       "\\end{enumerate*}\n"
      ],
      "text/markdown": [
       "1. FALSE\n",
       "2. FALSE\n",
       "3. FALSE\n",
       "4. TRUE\n",
       "5. FALSE\n",
       "6. TRUE\n",
       "7. TRUE\n",
       "8. FALSE\n",
       "\n",
       "\n"
      ],
      "text/plain": [
       "[1] FALSE FALSE FALSE  TRUE FALSE  TRUE  TRUE FALSE"
      ]
     },
     "metadata": {},
     "output_type": "display_data"
    }
   ],
   "source": [
    "T_uno <- isin(S_5a, c(\"H\", \"T\", \"T\"), ordered = FALSE)\n",
    "T_uno                "
   ]
  },
  {
   "cell_type": "code",
   "execution_count": 174,
   "metadata": {},
   "outputs": [],
   "source": [
    "# Vamos a suponer que aguila = H, sol = T\n",
    "agui_0 <- isin(S_5a, c(\"T\", \"T\", \"T\"), ordered = FALSE)\n",
    "agui_1 <- isin(S_5a, c(\"H\", \"T\", \"T\"), ordered = FALSE)\n",
    "agui_2 <- isin(S_5a, c(\"H\", \"H\", \"T\"), ordered = FALSE)\n",
    "agui_3 <- isin(S_5a, c(\"H\", \"H\", \"H\"), ordered = FALSE)\n",
    "\n",
    "# Subsets y probabilidades\n",
    "X_A0 <- subset(S_5a, agui_0); Pr_X_A0 <- sum(X_A0$probs)\n",
    "X_A1 <- subset(S_5a, agui_1); Pr_X_A1 <- sum(X_A1$probs)\n",
    "X_A2 <- subset(S_5a, agui_2); Pr_X_A2 <- sum(X_A2$probs)\n",
    "X_A3 <- subset(S_5a, agui_3); Pr_X_A3 <- sum(X_A3$probs)"
   ]
  },
  {
   "cell_type": "code",
   "execution_count": 232,
   "metadata": {},
   "outputs": [
    {
     "data": {
      "text/html": [
       "<table>\n",
       "<caption>A data.frame: 4 x 3</caption>\n",
       "<thead>\n",
       "\t<tr><th scope=col>nro_aguilas</th><th scope=col>X_agui</th><th scope=col>probs_marg_agui</th></tr>\n",
       "\t<tr><th scope=col>&lt;fct&gt;</th><th scope=col>&lt;dbl&gt;</th><th scope=col>&lt;dbl&gt;</th></tr>\n",
       "</thead>\n",
       "<tbody>\n",
       "\t<tr><td>cero</td><td>0</td><td>0.125</td></tr>\n",
       "\t<tr><td>uno </td><td>1</td><td>0.375</td></tr>\n",
       "\t<tr><td>dos </td><td>2</td><td>0.375</td></tr>\n",
       "\t<tr><td>tres</td><td>3</td><td>0.125</td></tr>\n",
       "</tbody>\n",
       "</table>\n"
      ],
      "text/latex": [
       "A data.frame: 4 x 3\n",
       "\\begin{tabular}{r|lll}\n",
       " nro\\_aguilas & X\\_agui & probs\\_marg\\_agui\\\\\n",
       " <fct> & <dbl> & <dbl>\\\\\n",
       "\\hline\n",
       "\t cero & 0 & 0.125\\\\\n",
       "\t uno  & 1 & 0.375\\\\\n",
       "\t dos  & 2 & 0.375\\\\\n",
       "\t tres & 3 & 0.125\\\\\n",
       "\\end{tabular}\n"
      ],
      "text/markdown": [
       "\n",
       "A data.frame: 4 x 3\n",
       "\n",
       "| nro_aguilas &lt;fct&gt; | X_agui &lt;dbl&gt; | probs_marg_agui &lt;dbl&gt; |\n",
       "|---|---|---|\n",
       "| cero | 0 | 0.125 |\n",
       "| uno  | 1 | 0.375 |\n",
       "| dos  | 2 | 0.375 |\n",
       "| tres | 3 | 0.125 |\n",
       "\n"
      ],
      "text/plain": [
       "  nro_aguilas X_agui probs_marg_agui\n",
       "1 cero        0      0.125          \n",
       "2 uno         1      0.375          \n",
       "3 dos         2      0.375          \n",
       "4 tres        3      0.125          "
      ]
     },
     "metadata": {},
     "output_type": "display_data"
    }
   ],
   "source": [
    "# Crear dataframe con las distribuciones de probabilidad\n",
    "probs_marg_agui = c(Pr_X_A0, Pr_X_A1, Pr_X_A2, Pr_X_A3)\n",
    "df_aguila = data.frame(nro_aguilas = c(\"cero\", \"uno\", \"dos\", \"tres\"),\n",
    "                      X_agui = c(0, 1, 2, 3), \n",
    "                       probs_marg_agui)\n",
    "df_aguila"
   ]
  },
  {
   "cell_type": "code",
   "execution_count": 233,
   "metadata": {},
   "outputs": [
    {
     "data": {
      "image/png": "[encoded data removed]",
      "text/plain": [
       "plot without title"
      ]
     },
     "metadata": {},
     "output_type": "display_data"
    }
   ],
   "source": [
    "#install.packages(\"ggplot2\")\n",
    "library(ggplot2)\n",
    "# qplot(X, geom=\"histogram\")\n",
    "ggplot(data = df_aguila, aes(x=X_agui, y=probs_marg_agui)) +\n",
    "geom_col(width=1, colour='black') +\n",
    "labs(title = NULL, x = '# Aguilas en 3 lanzamientos', y = 'Probabilidad')"
   ]
  },
  {
   "cell_type": "markdown",
   "metadata": {},
   "source": [
    "- b. La suma de los números de las caras cuando se lanzan dos dados."
   ]
  },
  {
   "cell_type": "code",
   "execution_count": 185,
   "metadata": {},
   "outputs": [
    {
     "data": {
      "text/html": [
       "<table>\n",
       "<caption>A data.frame: 6 x 3</caption>\n",
       "<thead>\n",
       "\t<tr><th scope=col>X1</th><th scope=col>X2</th><th scope=col>probs</th></tr>\n",
       "\t<tr><th scope=col>&lt;int&gt;</th><th scope=col>&lt;int&gt;</th><th scope=col>&lt;dbl&gt;</th></tr>\n",
       "</thead>\n",
       "<tbody>\n",
       "\t<tr><td>1</td><td>1</td><td>0.02777778</td></tr>\n",
       "\t<tr><td>2</td><td>1</td><td>0.02777778</td></tr>\n",
       "\t<tr><td>3</td><td>1</td><td>0.02777778</td></tr>\n",
       "\t<tr><td>4</td><td>1</td><td>0.02777778</td></tr>\n",
       "\t<tr><td>5</td><td>1</td><td>0.02777778</td></tr>\n",
       "\t<tr><td>6</td><td>1</td><td>0.02777778</td></tr>\n",
       "</tbody>\n",
       "</table>\n"
      ],
      "text/latex": [
       "A data.frame: 6 x 3\n",
       "\\begin{tabular}{r|lll}\n",
       " X1 & X2 & probs\\\\\n",
       " <int> & <int> & <dbl>\\\\\n",
       "\\hline\n",
       "\t 1 & 1 & 0.02777778\\\\\n",
       "\t 2 & 1 & 0.02777778\\\\\n",
       "\t 3 & 1 & 0.02777778\\\\\n",
       "\t 4 & 1 & 0.02777778\\\\\n",
       "\t 5 & 1 & 0.02777778\\\\\n",
       "\t 6 & 1 & 0.02777778\\\\\n",
       "\\end{tabular}\n"
      ],
      "text/markdown": [
       "\n",
       "A data.frame: 6 x 3\n",
       "\n",
       "| X1 &lt;int&gt; | X2 &lt;int&gt; | probs &lt;dbl&gt; |\n",
       "|---|---|---|\n",
       "| 1 | 1 | 0.02777778 |\n",
       "| 2 | 1 | 0.02777778 |\n",
       "| 3 | 1 | 0.02777778 |\n",
       "| 4 | 1 | 0.02777778 |\n",
       "| 5 | 1 | 0.02777778 |\n",
       "| 6 | 1 | 0.02777778 |\n",
       "\n"
      ],
      "text/plain": [
       "  X1 X2 probs     \n",
       "1 1  1  0.02777778\n",
       "2 2  1  0.02777778\n",
       "3 3  1  0.02777778\n",
       "4 4  1  0.02777778\n",
       "5 5  1  0.02777778\n",
       "6 6  1  0.02777778"
      ]
     },
     "metadata": {},
     "output_type": "display_data"
    }
   ],
   "source": [
    "S_5b <- rolldie(2, makespace = TRUE)\n",
    "head(S_5b)"
   ]
  },
  {
   "cell_type": "code",
   "execution_count": 188,
   "metadata": {},
   "outputs": [
    {
     "data": {
      "text/html": [
       "<table>\n",
       "<caption>A data.frame: 6 x 6</caption>\n",
       "<thead>\n",
       "\t<tr><th></th><th scope=col>X1</th><th scope=col>X2</th><th scope=col>caras</th><th scope=col>sum_caras</th><th scope=col>sum_caras</th><th scope=col>probs</th></tr>\n",
       "\t<tr><th></th><th scope=col>&lt;int&gt;</th><th scope=col>&lt;int&gt;</th><th scope=col>&lt;int&gt;</th><th scope=col>&lt;int&gt;</th><th scope=col>&lt;int&gt;</th><th scope=col>&lt;dbl&gt;</th></tr>\n",
       "</thead>\n",
       "<tbody>\n",
       "\t<tr><th scope=row>31</th><td>1</td><td>6</td><td> 7</td><td> 7</td><td> 7</td><td>0.02777778</td></tr>\n",
       "\t<tr><th scope=row>32</th><td>2</td><td>6</td><td> 8</td><td> 8</td><td> 8</td><td>0.02777778</td></tr>\n",
       "\t<tr><th scope=row>33</th><td>3</td><td>6</td><td> 9</td><td> 9</td><td> 9</td><td>0.02777778</td></tr>\n",
       "\t<tr><th scope=row>34</th><td>4</td><td>6</td><td>10</td><td>10</td><td>10</td><td>0.02777778</td></tr>\n",
       "\t<tr><th scope=row>35</th><td>5</td><td>6</td><td>11</td><td>11</td><td>11</td><td>0.02777778</td></tr>\n",
       "\t<tr><th scope=row>36</th><td>6</td><td>6</td><td>12</td><td>12</td><td>12</td><td>0.02777778</td></tr>\n",
       "</tbody>\n",
       "</table>\n"
      ],
      "text/latex": [
       "A data.frame: 6 x 6\n",
       "\\begin{tabular}{r|llllll}\n",
       "  & X1 & X2 & caras & sum\\_caras & sum\\_caras & probs\\\\\n",
       "  & <int> & <int> & <int> & <int> & <int> & <dbl>\\\\\n",
       "\\hline\n",
       "\t31 & 1 & 6 &  7 &  7 &  7 & 0.02777778\\\\\n",
       "\t32 & 2 & 6 &  8 &  8 &  8 & 0.02777778\\\\\n",
       "\t33 & 3 & 6 &  9 &  9 &  9 & 0.02777778\\\\\n",
       "\t34 & 4 & 6 & 10 & 10 & 10 & 0.02777778\\\\\n",
       "\t35 & 5 & 6 & 11 & 11 & 11 & 0.02777778\\\\\n",
       "\t36 & 6 & 6 & 12 & 12 & 12 & 0.02777778\\\\\n",
       "\\end{tabular}\n"
      ],
      "text/markdown": [
       "\n",
       "A data.frame: 6 x 6\n",
       "\n",
       "| <!--/--> | X1 &lt;int&gt; | X2 &lt;int&gt; | caras &lt;int&gt; | sum_caras &lt;int&gt; | sum_caras &lt;int&gt; | probs &lt;dbl&gt; |\n",
       "|---|---|---|---|---|---|---|\n",
       "| 31 | 1 | 6 |  7 |  7 |  7 | 0.02777778 |\n",
       "| 32 | 2 | 6 |  8 |  8 |  8 | 0.02777778 |\n",
       "| 33 | 3 | 6 |  9 |  9 |  9 | 0.02777778 |\n",
       "| 34 | 4 | 6 | 10 | 10 | 10 | 0.02777778 |\n",
       "| 35 | 5 | 6 | 11 | 11 | 11 | 0.02777778 |\n",
       "| 36 | 6 | 6 | 12 | 12 | 12 | 0.02777778 |\n",
       "\n"
      ],
      "text/plain": [
       "   X1 X2 caras sum_caras sum_caras probs     \n",
       "31 1  6   7     7         7        0.02777778\n",
       "32 2  6   8     8         8        0.02777778\n",
       "33 3  6   9     9         9        0.02777778\n",
       "34 4  6  10    10        10        0.02777778\n",
       "35 5  6  11    11        11        0.02777778\n",
       "36 6  6  12    12        12        0.02777778"
      ]
     },
     "metadata": {},
     "output_type": "display_data"
    }
   ],
   "source": [
    "S_5b <- addrv(S_5b, FUN=sum, invar= c('X1', 'X2'), name= 'sum_caras')\n",
    "tail(S_5b)"
   ]
  },
  {
   "cell_type": "code",
   "execution_count": 261,
   "metadata": {},
   "outputs": [
    {
     "data": {
      "text/html": [
       "<table>\n",
       "<caption>A data.frame: 11 x 2</caption>\n",
       "<thead>\n",
       "\t<tr><th scope=col>sum_caras</th><th scope=col>probs</th></tr>\n",
       "\t<tr><th scope=col>&lt;int&gt;</th><th scope=col>&lt;dbl&gt;</th></tr>\n",
       "</thead>\n",
       "<tbody>\n",
       "\t<tr><td> 2</td><td>0.02777778</td></tr>\n",
       "\t<tr><td> 3</td><td>0.05555556</td></tr>\n",
       "\t<tr><td> 4</td><td>0.08333333</td></tr>\n",
       "\t<tr><td> 5</td><td>0.11111111</td></tr>\n",
       "\t<tr><td> 6</td><td>0.13888889</td></tr>\n",
       "\t<tr><td> 7</td><td>0.16666667</td></tr>\n",
       "\t<tr><td> 8</td><td>0.13888889</td></tr>\n",
       "\t<tr><td> 9</td><td>0.11111111</td></tr>\n",
       "\t<tr><td>10</td><td>0.08333333</td></tr>\n",
       "\t<tr><td>11</td><td>0.05555556</td></tr>\n",
       "\t<tr><td>12</td><td>0.02777778</td></tr>\n",
       "</tbody>\n",
       "</table>\n"
      ],
      "text/latex": [
       "A data.frame: 11 x 2\n",
       "\\begin{tabular}{r|ll}\n",
       " sum\\_caras & probs\\\\\n",
       " <int> & <dbl>\\\\\n",
       "\\hline\n",
       "\t  2 & 0.02777778\\\\\n",
       "\t  3 & 0.05555556\\\\\n",
       "\t  4 & 0.08333333\\\\\n",
       "\t  5 & 0.11111111\\\\\n",
       "\t  6 & 0.13888889\\\\\n",
       "\t  7 & 0.16666667\\\\\n",
       "\t  8 & 0.13888889\\\\\n",
       "\t  9 & 0.11111111\\\\\n",
       "\t 10 & 0.08333333\\\\\n",
       "\t 11 & 0.05555556\\\\\n",
       "\t 12 & 0.02777778\\\\\n",
       "\\end{tabular}\n"
      ],
      "text/markdown": [
       "\n",
       "A data.frame: 11 x 2\n",
       "\n",
       "| sum_caras &lt;int&gt; | probs &lt;dbl&gt; |\n",
       "|---|---|\n",
       "|  2 | 0.02777778 |\n",
       "|  3 | 0.05555556 |\n",
       "|  4 | 0.08333333 |\n",
       "|  5 | 0.11111111 |\n",
       "|  6 | 0.13888889 |\n",
       "|  7 | 0.16666667 |\n",
       "|  8 | 0.13888889 |\n",
       "|  9 | 0.11111111 |\n",
       "| 10 | 0.08333333 |\n",
       "| 11 | 0.05555556 |\n",
       "| 12 | 0.02777778 |\n",
       "\n"
      ],
      "text/plain": [
       "   sum_caras probs     \n",
       "1   2        0.02777778\n",
       "2   3        0.05555556\n",
       "3   4        0.08333333\n",
       "4   5        0.11111111\n",
       "5   6        0.13888889\n",
       "6   7        0.16666667\n",
       "7   8        0.13888889\n",
       "8   9        0.11111111\n",
       "9  10        0.08333333\n",
       "10 11        0.05555556\n",
       "11 12        0.02777778"
      ]
     },
     "metadata": {},
     "output_type": "display_data"
    }
   ],
   "source": [
    "probs_marg_caras = marginal(S_5b, vars = \"sum_caras\")\n",
    "probs_marg_caras"
   ]
  },
  {
   "cell_type": "code",
   "execution_count": 262,
   "metadata": {},
   "outputs": [
    {
     "data": {
      "text/html": [
       "<table>\n",
       "<caption>A data.frame: 11 x 3</caption>\n",
       "<thead>\n",
       "\t<tr><th scope=col>caras</th><th scope=col>X_caras</th><th scope=col>probs_marg_caras</th></tr>\n",
       "\t<tr><th scope=col>&lt;fct&gt;</th><th scope=col>&lt;dbl&gt;</th><th scope=col>&lt;dbl&gt;</th></tr>\n",
       "</thead>\n",
       "<tbody>\n",
       "\t<tr><td>2 </td><td> 2</td><td>0.02777778</td></tr>\n",
       "\t<tr><td>3 </td><td> 3</td><td>0.05555556</td></tr>\n",
       "\t<tr><td>4 </td><td> 4</td><td>0.08333333</td></tr>\n",
       "\t<tr><td>5 </td><td> 5</td><td>0.11111111</td></tr>\n",
       "\t<tr><td>6 </td><td> 6</td><td>0.13888889</td></tr>\n",
       "\t<tr><td>7 </td><td> 7</td><td>0.16666667</td></tr>\n",
       "\t<tr><td>8 </td><td> 8</td><td>0.13888889</td></tr>\n",
       "\t<tr><td>9 </td><td> 9</td><td>0.11111111</td></tr>\n",
       "\t<tr><td>10</td><td>10</td><td>0.08333333</td></tr>\n",
       "\t<tr><td>11</td><td>11</td><td>0.05555556</td></tr>\n",
       "\t<tr><td>12</td><td>12</td><td>0.02777778</td></tr>\n",
       "</tbody>\n",
       "</table>\n"
      ],
      "text/latex": [
       "A data.frame: 11 x 3\n",
       "\\begin{tabular}{r|lll}\n",
       " caras & X\\_caras & probs\\_marg\\_caras\\\\\n",
       " <fct> & <dbl> & <dbl>\\\\\n",
       "\\hline\n",
       "\t 2  &  2 & 0.02777778\\\\\n",
       "\t 3  &  3 & 0.05555556\\\\\n",
       "\t 4  &  4 & 0.08333333\\\\\n",
       "\t 5  &  5 & 0.11111111\\\\\n",
       "\t 6  &  6 & 0.13888889\\\\\n",
       "\t 7  &  7 & 0.16666667\\\\\n",
       "\t 8  &  8 & 0.13888889\\\\\n",
       "\t 9  &  9 & 0.11111111\\\\\n",
       "\t 10 & 10 & 0.08333333\\\\\n",
       "\t 11 & 11 & 0.05555556\\\\\n",
       "\t 12 & 12 & 0.02777778\\\\\n",
       "\\end{tabular}\n"
      ],
      "text/markdown": [
       "\n",
       "A data.frame: 11 x 3\n",
       "\n",
       "| caras &lt;fct&gt; | X_caras &lt;dbl&gt; | probs_marg_caras &lt;dbl&gt; |\n",
       "|---|---|---|\n",
       "| 2  |  2 | 0.02777778 |\n",
       "| 3  |  3 | 0.05555556 |\n",
       "| 4  |  4 | 0.08333333 |\n",
       "| 5  |  5 | 0.11111111 |\n",
       "| 6  |  6 | 0.13888889 |\n",
       "| 7  |  7 | 0.16666667 |\n",
       "| 8  |  8 | 0.13888889 |\n",
       "| 9  |  9 | 0.11111111 |\n",
       "| 10 | 10 | 0.08333333 |\n",
       "| 11 | 11 | 0.05555556 |\n",
       "| 12 | 12 | 0.02777778 |\n",
       "\n"
      ],
      "text/plain": [
       "   caras X_caras probs_marg_caras\n",
       "1  2      2      0.02777778      \n",
       "2  3      3      0.05555556      \n",
       "3  4      4      0.08333333      \n",
       "4  5      5      0.11111111      \n",
       "5  6      6      0.13888889      \n",
       "6  7      7      0.16666667      \n",
       "7  8      8      0.13888889      \n",
       "8  9      9      0.11111111      \n",
       "9  10    10      0.08333333      \n",
       "10 11    11      0.05555556      \n",
       "11 12    12      0.02777778      "
      ]
     },
     "metadata": {},
     "output_type": "display_data"
    }
   ],
   "source": [
    "# Crear dataframe con las distribuciones de probabilidad\n",
    "probs_marg_caras <- probs_marg_caras$probs\n",
    "caras <- c( '2', '3', '4', '5', '6', '7', '8', '9', '10', '11', '12')\n",
    "df_caras <- data.frame(caras, \n",
    "                      X_caras = c(2, 3, 4, 5, 6, 7, 8, 9, 10, 11, 12), \n",
    "                       probs_marg_caras)\n",
    "df_caras"
   ]
  },
  {
   "cell_type": "code",
   "execution_count": 278,
   "metadata": {},
   "outputs": [
    {
     "data": {
      "image/png": "[encoded data removed]",
      "text/plain": [
       "plot without title"
      ]
     },
     "metadata": {},
     "output_type": "display_data"
    }
   ],
   "source": [
    "ggplot(data = df_caras, aes(x=X_caras, y=probs_marg_caras), fill=caras) +\n",
    "geom_col(width=1, colour='black') +\n",
    "labs(title = NULL, x = 'suma de las caras de 2 dados', y = 'Probabilidad') +\n",
    "scale_x_discrete(limits=caras)"
   ]
  },
  {
   "cell_type": "markdown",
   "metadata": {},
   "source": [
    "---"
   ]
  },
  {
   "cell_type": "markdown",
   "metadata": {},
   "source": [
    "# Ejercicio 6: \n",
    "Se venden 8000 boletos para una rifa de $\\$5000.00$ y cada boleto cuesta $\\$2.00$.\n",
    "\n",
    "... a. Encontrar la ganancia esperada del comprador de un boleto."
   ]
  },
  {
   "cell_type": "markdown",
   "metadata": {},
   "source": [
    "Suponga que $G$ y $P$ son los eventos de ganar y perder la lotería, respectivamente. Por otro lado, la ganancia, $X$, se define como el premio recibido por el jugador y la resta del respectivo premio,  $ganancia=premio-2$. Dado lo anterior:<br><br>\n",
    "$$\n",
    "\\begin{array}{ccccccc}\n",
    "f\\left(4998\\right) & = & P\\left(X=4998\\right) & = & P\\left(\\left\\{ ganar\\right\\} \\right) & = & \\frac{1}{8000}\\\\\n",
    "f\\left(-2\\right) & = & P\\left(X=-2\\right) & = & P\\left(\\left\\{ perder\\right\\} \\right) & = & \\frac{7999}{8000}\n",
    "\\end{array}\n",
    "$$\n",
    "<br>\n",
    "Entonces, el valor esperado de $X$:\n",
    "$$\n",
    "\\begin{array}{ccc}\n",
    "E\\left(X\\right)) & = & \\frac{1}{8000}\\left(4998\\right)+\\frac{7999}{8000}\\left(-2\\right)\\\\\n",
    " & = & 0.62475-1.99975\\\\\n",
    " & = & -1.375\n",
    "\\end{array}\n",
    "$$\n",
    "<br><br>\n",
    "**En R:**"
   ]
  },
  {
   "cell_type": "code",
   "execution_count": 286,
   "metadata": {},
   "outputs": [
    {
     "name": "stdout",
     "output_type": "stream",
     "text": [
      "[1] \"El valor esperado de la ganancia es: $ -1.375\"\n"
     ]
    }
   ],
   "source": [
    "# Se crea una dataframe con las probabilidades y las ganancias asociadas\n",
    "df_rifa = data.frame(evento = c('Gana', 'Pierde'), X = c(4998, -2), p_rifa = c(1/8000, 7999/8000))\n",
    "ve_gan = sum(df_rifa$X *df_rifa$p_rifa)\n",
    "print(paste('El valor esperado de la ganancia es: $',ve_gan ))"
   ]
  },
  {
   "cell_type": "markdown",
   "metadata": {},
   "source": [
    "... b. Hacer la gráfica de la ganancia esperada que tiene una compradora en términos de un número de boletos $n$."
   ]
  },
  {
   "cell_type": "code",
   "execution_count": 334,
   "metadata": {},
   "outputs": [],
   "source": [
    "n_boletos = seq(0, 3000, 100); n_boletos[1] = 1\n",
    "n_prob_gan = 1/n_boletos; n_prob_pie = 1-n_prob_gan\n",
    "premio = 5000; costo = 2\n",
    "pago_gana = premio - costo\n",
    "pago_pierde = - costo\n",
    "E_ganancia_jug = (n_prob_gan*pago_gana) + (n_prob_pie*pago_pierde)\n",
    "E_ganancia_org = (costo*n_boletos) - premio\n"
   ]
  },
  {
   "cell_type": "code",
   "execution_count": 335,
   "metadata": {},
   "outputs": [
    {
     "data": {
      "text/html": [
       "<table>\n",
       "<caption>A data.frame: 6 x 3</caption>\n",
       "<thead>\n",
       "\t<tr><th scope=col>n_boletos</th><th scope=col>E_ganancia_jug</th><th scope=col>E_ganancia_org</th></tr>\n",
       "\t<tr><th scope=col>&lt;dbl&gt;</th><th scope=col>&lt;dbl&gt;</th><th scope=col>&lt;dbl&gt;</th></tr>\n",
       "</thead>\n",
       "<tbody>\n",
       "\t<tr><td>  1</td><td>4998.00000</td><td>-4998</td></tr>\n",
       "\t<tr><td>100</td><td>  48.00000</td><td>-4800</td></tr>\n",
       "\t<tr><td>200</td><td>  23.00000</td><td>-4600</td></tr>\n",
       "\t<tr><td>300</td><td>  14.66667</td><td>-4400</td></tr>\n",
       "\t<tr><td>400</td><td>  10.50000</td><td>-4200</td></tr>\n",
       "\t<tr><td>500</td><td>   8.00000</td><td>-4000</td></tr>\n",
       "</tbody>\n",
       "</table>\n"
      ],
      "text/latex": [
       "A data.frame: 6 x 3\n",
       "\\begin{tabular}{r|lll}\n",
       " n\\_boletos & E\\_ganancia\\_jug & E\\_ganancia\\_org\\\\\n",
       " <dbl> & <dbl> & <dbl>\\\\\n",
       "\\hline\n",
       "\t   1 & 4998.00000 & -4998\\\\\n",
       "\t 100 &   48.00000 & -4800\\\\\n",
       "\t 200 &   23.00000 & -4600\\\\\n",
       "\t 300 &   14.66667 & -4400\\\\\n",
       "\t 400 &   10.50000 & -4200\\\\\n",
       "\t 500 &    8.00000 & -4000\\\\\n",
       "\\end{tabular}\n"
      ],
      "text/markdown": [
       "\n",
       "A data.frame: 6 x 3\n",
       "\n",
       "| n_boletos &lt;dbl&gt; | E_ganancia_jug &lt;dbl&gt; | E_ganancia_org &lt;dbl&gt; |\n",
       "|---|---|---|\n",
       "|   1 | 4998.00000 | -4998 |\n",
       "| 100 |   48.00000 | -4800 |\n",
       "| 200 |   23.00000 | -4600 |\n",
       "| 300 |   14.66667 | -4400 |\n",
       "| 400 |   10.50000 | -4200 |\n",
       "| 500 |    8.00000 | -4000 |\n",
       "\n"
      ],
      "text/plain": [
       "  n_boletos E_ganancia_jug E_ganancia_org\n",
       "1   1       4998.00000     -4998         \n",
       "2 100         48.00000     -4800         \n",
       "3 200         23.00000     -4600         \n",
       "4 300         14.66667     -4400         \n",
       "5 400         10.50000     -4200         \n",
       "6 500          8.00000     -4000         "
      ]
     },
     "metadata": {},
     "output_type": "display_data"
    }
   ],
   "source": [
    "df_rifa_b = data.frame(n_boletos, E_ganancia_jug, E_ganancia_org)\n",
    "head(df_rifa_b)"
   ]
  },
  {
   "cell_type": "code",
   "execution_count": 359,
   "metadata": {},
   "outputs": [
    {
     "data": {
      "image/png": "[encoded data removed]",
      "text/plain": [
       "plot without title"
      ]
     },
     "metadata": {},
     "output_type": "display_data"
    }
   ],
   "source": [
    "ggplot(data= df_rifa_b) + \n",
    "geom_line(mapping = aes(x = n_boletos, y = E_ganancia_org), colour='red4', size=1) +\n",
    "labs(title = 'Vendedor', x = '# boletos (n)', y = 'Ganancia') +\n",
    "theme_bw() +\n",
    "theme(plot.title = element_text(size=10, hjust = 0.5)) "
   ]
  },
  {
   "cell_type": "code",
   "execution_count": 358,
   "metadata": {},
   "outputs": [
    {
     "data": {
      "image/png": "[encoded data removed]",
      "text/plain": [
       "plot without title"
      ]
     },
     "metadata": {},
     "output_type": "display_data"
    }
   ],
   "source": [
    "ggplot(data= df_rifa_b) + \n",
    "geom_line(mapping = aes(x = n_boletos, y = E_ganancia_jug), colour='royalblue4', size=1) +\n",
    "labs(title = 'Comprador', x = '# boletos (n)', y = 'Ganancia') +\n",
    "theme_bw() +\n",
    "theme(plot.title = element_text(size=10, hjust = 0.5))"
   ]
  },
  {
   "cell_type": "markdown",
   "metadata": {},
   "source": [
    "**Otro:** Para un premio de 5000, ¿cuál es el número minimo de boletos que debe vender la organizadora para tener un beneficio nulo?"
   ]
  },
  {
   "cell_type": "code",
   "execution_count": 371,
   "metadata": {},
   "outputs": [
    {
     "name": "stdout",
     "output_type": "stream",
     "text": [
      "[1] \"El nro. minimo de boletos que la organizadora de la rifa debe vender para tener un beneficio de 0, es: 2500\"\n"
     ]
    }
   ],
   "source": [
    "pos_ganancia_nul_org =which(E_ganancia_org==0)\n",
    "n_boletos_gan_nula_org = n_boletos[pos_ganancia_nul_org]\n",
    "print(paste('El nro. minimo de boletos que la organizadora de la rifa debe vender para tener un beneficio de 0, es:',\n",
    "           n_boletos_gan_nula_org))"
   ]
  },
  {
   "cell_type": "markdown",
   "metadata": {},
   "source": [
    "... c. ¿Cuál debería de ser el premio mínimo para que se pudiese garantizar “salir a mano” al comprar todos los boletos."
   ]
  },
  {
   "cell_type": "markdown",
   "metadata": {},
   "source": [
    "Las ganancias de quien compre todos los boletos de la rifa se definen como $ganancia=premio-boleto(n)$, donde $boleto$ es el costo de cada boleto de la rifa. De la anterior ecuación se evalúa el número mínimo de boletos necesarios tales que $0=premio_{min}-boleto(n)$:<br><br>\n",
    "$$\n",
    "premio_{min}=boleto(n)\n",
    "$$\n",
    "<br>\n",
    "Para un costo de boleto de 2, como en este ejemplo, se tiene $premio_{min}=2n$.\n",
    "<br><br>\n",
    "**En R:**"
   ]
  },
  {
   "cell_type": "code",
   "execution_count": 382,
   "metadata": {},
   "outputs": [],
   "source": [
    "premio_min = costo*n_boletos\n",
    "df_rifa_c = data.frame(n_boletos,premio_min)"
   ]
  },
  {
   "cell_type": "code",
   "execution_count": 381,
   "metadata": {},
   "outputs": [
    {
     "data": {
      "image/png": "[encoded data removed]",
      "text/plain": [
       "plot without title"
      ]
     },
     "metadata": {},
     "output_type": "display_data"
    }
   ],
   "source": [
    "ggplot(data= df_rifa_c) + \n",
    "geom_line(mapping = aes(x = n_boletos, y = premio_min), colour='greenyellow', size=1) +\n",
    "labs(title = 'Comprador de todos los boletos', x = '# boletos (n)', y = 'Premio minimo') +\n",
    "theme_bw() +\n",
    "theme(plot.title = element_text(size=10, hjust = 0.5))"
   ]
  },
  {
   "cell_type": "markdown",
   "metadata": {},
   "source": [
    "---"
   ]
  }
 ],
 "metadata": {
  "kernelspec": {
   "display_name": "R",
   "language": "R",
   "name": "ir"
  },
  "language_info": {
   "codemirror_mode": "r",
   "file_extension": ".r",
   "mimetype": "text/x-r-source",
   "name": "R",
   "pygments_lexer": "r",
   "version": "3.6.0"
  }
 },
 "nbformat": 4,
 "nbformat_minor": 2
}
