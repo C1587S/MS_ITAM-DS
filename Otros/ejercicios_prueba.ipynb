{
 "cells": [
  {
   "cell_type": "markdown",
   "metadata": {},
   "source": [
    "### Ejercicio 1:\n",
    "Elabore un algoritmo que calcule el factorial de un número.\n",
    "Ejemplo: Número 5 = 5x4x3x2x1 = 120 "
   ]
  },
  {
   "cell_type": "code",
   "execution_count": 15,
   "metadata": {},
   "outputs": [],
   "source": [
    "# Vamos a definir la función \"factorial\" que toma como input un número \"n\"\n",
    "def factorial(n):\n",
    "    fact_result = 1 # creo una variable llamada fact_result=1... cuando se desarrolla el for, va a ir cambiando su valor\n",
    "    for i in range(1,n+1): \n",
    "        fact_result *= i # Acá lo que estoy haciendo es tomar fact_result(anterior)*i y lo guardo así para el siguiente paso\n",
    "    return fact_result"
   ]
  },
  {
   "cell_type": "code",
   "execution_count": 19,
   "metadata": {},
   "outputs": [
    {
     "name": "stdout",
     "output_type": "stream",
     "text": [
      "El factorial de 5 es:  120\n"
     ]
    }
   ],
   "source": [
    "# Test de la función creada:\n",
    "n = 5\n",
    "print('El factorial de', n, 'es: ', factorial(n))"
   ]
  },
  {
   "cell_type": "markdown",
   "metadata": {},
   "source": [
    "### Ejercicio 2:\n",
    "Implemente un algoritmo tal que dado como datos N números enteros dentro de un arreglo o dataframe, determine cuántos de ellos son pares y cuántos impares.\n",
    "\n",
    "Ejemplo:\n",
    "\n",
    "Números [20,18,25,30,24,5,23,56,31]\n",
    "\n",
    "Impares= 4\n",
    "\n",
    "Pares= 5"
   ]
  },
  {
   "cell_type": "code",
   "execution_count": 39,
   "metadata": {},
   "outputs": [],
   "source": [
    "def count_par_imp(lista_N):\n",
    "    pares=0 # creo dos variables que empiezan en 0, a medida que el bucle se desarrolla cambian su valor\n",
    "    impares=0\n",
    "    for i in lista_N:\n",
    "        if (i%2)==0: # si el residuo de dividir por 2 el elemento i de la lista es 0 (es decir que es par), sumo 1 a mi conteo de pares\n",
    "            pares +=1\n",
    "        else: # de lo contrario es impar, sumo 1 a mi conteo de impares\n",
    "            impares +=1\n",
    "    # Le pongo print para que me muestre los resultados como el profe lo puso en el ejemplo        \n",
    "    print('Números', lista_N)\n",
    "    print(' ')\n",
    "    print('Impares=', impares)\n",
    "    print(' ')\n",
    "    print('Pares=', pares)"
   ]
  },
  {
   "cell_type": "code",
   "execution_count": 40,
   "metadata": {},
   "outputs": [
    {
     "name": "stdout",
     "output_type": "stream",
     "text": [
      "Números [20, 18, 25, 30, 24, 5, 23, 56, 31]\n",
      " \n",
      "Impares= 4\n",
      " \n",
      "Pares= 5\n"
     ]
    }
   ],
   "source": [
    "# Test de la función con el ejemplo\n",
    "lista = [20,18,25,30,24,5,23,56,31] \n",
    "count_par_imp(lista)"
   ]
  },
  {
   "cell_type": "markdown",
   "metadata": {},
   "source": [
    "### Ejercicio 3:\n",
    "Implemente un algoritmo que calcule tablas de multiplicar ingresándole el número de tablas que deseamos calcular y la cantidad de números que se calcularán por cada tabla.\n",
    "Ejemplo:\n",
    "\n",
    "Se desea calcular hasta la tabla del 3 y que cada una se calcule hasta el número 4, el programa en Phyton deberá mostrar en pantalla lo siguiente:\n",
    "\n",
    "1 X 1=1\n",
    "\n",
    "1 X 2=2\n",
    "\n",
    "1 X 3=3\n",
    "\n",
    "1 X 4=4\n",
    "\n",
    "2 X 1=2\n",
    "\n",
    "2 X 2=4\n",
    "\n",
    "2 X 3=6\n",
    "\n",
    "2 x 4=8\n",
    "\n",
    "3 X 1=3\n",
    "\n",
    "3 X 2=6\n",
    "\n",
    "3 X 3=9\n",
    "\n",
    "3 X 4=12"
   ]
  },
  {
   "cell_type": "code",
   "execution_count": 47,
   "metadata": {},
   "outputs": [],
   "source": [
    "# Función para que muestre la tabla de multiplicar hasta y de un número x\n",
    "def tab_mult(x, y):\n",
    "    for i in range(1, y+1):\n",
    "        print(' ')\n",
    "        print(f\"{x} X {i}={x*i}\")"
   ]
  },
  {
   "cell_type": "code",
   "execution_count": 53,
   "metadata": {},
   "outputs": [
    {
     "name": "stdout",
     "output_type": "stream",
     "text": [
      " \n",
      "1 X 1=1\n",
      " \n",
      "1 X 2=2\n",
      " \n",
      "1 X 3=3\n",
      " \n",
      "1 X 4=4\n"
     ]
    }
   ],
   "source": [
    "# Probar la función: Que muestre la tabla del 1 desde el 1 hasta el 4:\n",
    "tab_mult(1,4)"
   ]
  },
  {
   "cell_type": "code",
   "execution_count": 58,
   "metadata": {},
   "outputs": [
    {
     "name": "stdout",
     "output_type": "stream",
     "text": [
      " \n",
      "1 X 1=1\n",
      " \n",
      "1 X 2=2\n",
      " \n",
      "1 X 3=3\n",
      " \n",
      "1 X 4=4\n",
      " \n",
      "2 X 1=2\n",
      " \n",
      "2 X 2=4\n",
      " \n",
      "2 X 3=6\n",
      " \n",
      "2 X 4=8\n",
      " \n",
      "3 X 1=3\n",
      " \n",
      "3 X 2=6\n",
      " \n",
      "3 X 3=9\n",
      " \n",
      "3 X 4=12\n"
     ]
    }
   ],
   "source": [
    "# Ahora hacemos un FOR para que me evalúe la función tab_mult para los números del 1 al 4\n",
    "\n",
    "tab_hast = 3\n",
    "mul_hasta = 4\n",
    "\n",
    "for z in range(1, tab_hast+1):\n",
    "    tab_mult(z, mul_hasta)"
   ]
  },
  {
   "cell_type": "markdown",
   "metadata": {},
   "source": [
    "### Ejercicio 4:\n",
    "Implemente un algoritmo que tenga N números enteros sobre un arreglo o dataframe y obtiene e imprime cuáles son el mayor y el menor y cuántas veces se repiten ambos.\n",
    "\n",
    "Ejemplo:\n",
    "\n",
    "Numeros = [110,56,6,200,4,8,34,200,6,34,56,22,77,8,23,54,63,200]\n",
    "\n",
    "El número menor es 6 y se repite 2 veces\n",
    "\n",
    "El número mayor es 200 y se repite 3 veces \n",
    "\n",
    "**Observación: El ejemplo es incorrecto. El menor número de la lista es 4, no 6.**"
   ]
  },
  {
   "cell_type": "code",
   "execution_count": 12,
   "metadata": {},
   "outputs": [],
   "source": [
    "def max_min_veces(lista_nros):\n",
    "    max = lista_nros[0]\n",
    "    min = lista_nros[0] \n",
    "    nro_max = 0\n",
    "    nro_min = 0\n",
    "    for i in lista_nros:\n",
    "        if max<=i:\n",
    "            max = i\n",
    "            #print('En este paso max es', max)\n",
    "        elif min>=i:\n",
    "            min = i\n",
    "            #print('En este paso min es', min)\n",
    "        else:\n",
    "            None\n",
    "            \n",
    "    \n",
    "    print('Números', lista_nros)\n",
    "    print(' ')\n",
    "    print(f\"El número menor es {min}\" ) # , y se repite {nro_min} veces\n",
    "    print(' ')\n",
    "    print(f\"El número menor es {max}\" ) # , y se repite {nro_max} veces\n",
    "        "
   ]
  },
  {
   "cell_type": "code",
   "execution_count": 15,
   "metadata": {},
   "outputs": [
    {
     "name": "stdout",
     "output_type": "stream",
     "text": [
      "Números [110, 56, 6, 200, 4, 8, 34, 200, 6, 34, 56, 22, 77, 8, 23, 54, 63, 200]\n",
      " \n",
      "El número menor es 4\n",
      " \n",
      "El número menor es 200\n"
     ]
    }
   ],
   "source": [
    "# Test de la función creada con el ejemplo:\n",
    "lista_test=[110,56,6,200,4,8,34,200,6,34,56,22,77,8,23,54,63,200]\n",
    "    \n",
    "max_min_veces(lista_test)\n",
    "# Falta ajusta para que cuente el nro de veces que aparece el min y el max"
   ]
  },
  {
   "cell_type": "markdown",
   "metadata": {},
   "source": [
    "### Ejercicio 5:\n",
    "Un entero positivo n se llama perfecto si n es igual a la suma de todos sus divisores diferentes de él. Por ejemplo, 6 es perfecto porque 6 = 1 + 2 + 3. Escriba un programa que indique si es perfecto o no. Además, el programa debe imprimir todos los divisores del número. "
   ]
  },
  {
   "cell_type": "code",
   "execution_count": 12,
   "metadata": {},
   "outputs": [],
   "source": [
    "# Función que me haga la suma de los divisores (enteros) de n, que sean diferentes a el mismo. \n",
    "def div_num_per(n):\n",
    "    y = 0\n",
    "    for i in range(1,n+1):\n",
    "        if(n%i==0):\n",
    "            x=i\n",
    "            if x!=n:\n",
    "                y+=x           \n",
    "    if y==n:\n",
    "        print(f\"La suma de los divisores de {n} es {y}, y por tanto es un número perfecto.\")\n",
    "    else:\n",
    "        print(f\"La suma de los divisores de {n} es {y}, y por tanto no es un número perfecto.\")"
   ]
  },
  {
   "cell_type": "code",
   "execution_count": 13,
   "metadata": {},
   "outputs": [
    {
     "name": "stdout",
     "output_type": "stream",
     "text": [
      "La suma de los divisores de 6 es 6, y por tanto es un número perfecto.\n",
      "La suma de los divisores de 4 es 3, y por tanto no es un número perfecto.\n"
     ]
    }
   ],
   "source": [
    "# Probar la función creada para el 6 y el 4. Para 6 debe mostrar que es perfecto, para 4 no, pues la suma de sus divisores (menos el) es: 1+ 2 =3\n",
    "div_num_per(6)\n",
    "div_num_per(4)"
   ]
  },
  {
   "cell_type": "markdown",
   "metadata": {},
   "source": [
    "### Ejercicio 6:\n",
    "Dado un número entero positivo N, escribe un programa en Python que determine cuántos dígitos se necesitan para escribir el valor N. Por ejemplo, 99 necesita 2 dígitos, 115 necesita 3, para 1000 la salida es 4."
   ]
  },
  {
   "cell_type": "code",
   "execution_count": 95,
   "metadata": {},
   "outputs": [],
   "source": [
    "def digits(N):\n",
    "    N = str(N) # convertimos el número N en un string para poder iterar sobre sus elementos (podría ser una lista, un arreglo o una tupla)\n",
    "    dig = 0\n",
    "    for i in N:\n",
    "        dig += 1\n",
    "    return dig"
   ]
  },
  {
   "cell_type": "code",
   "execution_count": 98,
   "metadata": {},
   "outputs": [
    {
     "name": "stdout",
     "output_type": "stream",
     "text": [
      "99 tiene  2 dígitos\n",
      "115 tiene  3 dígitos\n",
      "1000 tiene  4 dígitos\n"
     ]
    }
   ],
   "source": [
    "# Test de la función con los ejemplos dados:\n",
    "print('99 tiene ', digits(99), 'dígitos')\n",
    "print('115 tiene ', digits(115), 'dígitos')\n",
    "print('1000 tiene ', digits(1000), 'dígitos')"
   ]
  },
  {
   "cell_type": "markdown",
   "metadata": {},
   "source": [
    "### Ejercicio 7:\n",
    "Escribe un programa que a partir de un número imprima un triángulo de números de la forma siguiente.\n",
    "\n",
    "Si el número leído es 4, imprimirá:\n",
    "\n",
    "1\n",
    "\n",
    "22\n",
    "\n",
    "333\n",
    "\n",
    "4444"
   ]
  },
  {
   "cell_type": "code",
   "execution_count": 41,
   "metadata": {},
   "outputs": [],
   "source": [
    "def trian_nro(num):\n",
    "    for i in range(1,num+1): # creo un arreglo de nros. del 1 a num, en el caso que num=4, creo (1, 2, 3, 4)\n",
    "        print(f\"{i}\"*i) # para cada elemento i de la lista muestro el número, i veces\n",
    "        print(' ') \n",
    "    "
   ]
  },
  {
   "cell_type": "code",
   "execution_count": 42,
   "metadata": {},
   "outputs": [
    {
     "name": "stdout",
     "output_type": "stream",
     "text": [
      "1\n",
      " \n",
      "22\n",
      " \n",
      "333\n",
      " \n",
      "4444\n",
      " \n"
     ]
    }
   ],
   "source": [
    "trian_nro(4)"
   ]
  },
  {
   "cell_type": "markdown",
   "metadata": {},
   "source": [
    "### Ejercicio 8:\n",
    "Escribe un programa en Python que, dado un número entero positivo lo devuelva al revés. Por ejemplo, si el número de entrada es 1234, la rutina debería devolver 4321"
   ]
  },
  {
   "cell_type": "code",
   "execution_count": 36,
   "metadata": {},
   "outputs": [],
   "source": [
    "def reves_num(num):\n",
    "    str_num = str(num)\n",
    "    num_inv = []\n",
    "    pos_num=-1\n",
    "    for i in str_num:\n",
    "        num_inv[pos_num]=i\n",
    "        pos_num =+1\n",
    "    print(num_inv)"
   ]
  },
  {
   "cell_type": "code",
   "execution_count": 37,
   "metadata": {},
   "outputs": [
    {
     "ename": "IndexError",
     "evalue": "list assignment index out of range",
     "output_type": "error",
     "traceback": [
      "\u001b[0;31m---------------------------------------------------------------------------\u001b[0m",
      "\u001b[0;31mIndexError\u001b[0m                                Traceback (most recent call last)",
      "\u001b[0;32m<ipython-input-37-951f0700ef90>\u001b[0m in \u001b[0;36m<module>\u001b[0;34m\u001b[0m\n\u001b[0;32m----> 1\u001b[0;31m \u001b[0mreves_num\u001b[0m\u001b[0;34m(\u001b[0m\u001b[0;36m102\u001b[0m\u001b[0;34m)\u001b[0m\u001b[0;34m\u001b[0m\u001b[0;34m\u001b[0m\u001b[0m\n\u001b[0m",
      "\u001b[0;32m<ipython-input-36-9c5aabfac697>\u001b[0m in \u001b[0;36mreves_num\u001b[0;34m(num)\u001b[0m\n\u001b[1;32m      4\u001b[0m     \u001b[0mpos_num\u001b[0m\u001b[0;34m=\u001b[0m\u001b[0;34m-\u001b[0m\u001b[0;36m1\u001b[0m\u001b[0;34m\u001b[0m\u001b[0;34m\u001b[0m\u001b[0m\n\u001b[1;32m      5\u001b[0m     \u001b[0;32mfor\u001b[0m \u001b[0mi\u001b[0m \u001b[0;32min\u001b[0m \u001b[0mstr_num\u001b[0m\u001b[0;34m:\u001b[0m\u001b[0;34m\u001b[0m\u001b[0;34m\u001b[0m\u001b[0m\n\u001b[0;32m----> 6\u001b[0;31m         \u001b[0mnum_inv\u001b[0m\u001b[0;34m[\u001b[0m\u001b[0mpos_num\u001b[0m\u001b[0;34m]\u001b[0m\u001b[0;34m=\u001b[0m\u001b[0mi\u001b[0m\u001b[0;34m\u001b[0m\u001b[0;34m\u001b[0m\u001b[0m\n\u001b[0m\u001b[1;32m      7\u001b[0m         \u001b[0mpos_num\u001b[0m \u001b[0;34m=\u001b[0m\u001b[0;34m+\u001b[0m\u001b[0;36m1\u001b[0m\u001b[0;34m\u001b[0m\u001b[0;34m\u001b[0m\u001b[0m\n\u001b[1;32m      8\u001b[0m     \u001b[0mprint\u001b[0m\u001b[0;34m(\u001b[0m\u001b[0mnum_inv\u001b[0m\u001b[0;34m)\u001b[0m\u001b[0;34m\u001b[0m\u001b[0;34m\u001b[0m\u001b[0m\n",
      "\u001b[0;31mIndexError\u001b[0m: list assignment index out of range"
     ]
    }
   ],
   "source": [
    "reves_num(102)"
   ]
  },
  {
   "cell_type": "markdown",
   "metadata": {},
   "source": [
    "### Ejercicio 9:\n",
    "Implemente un algoritmo que represente el conteo de un reloj que inicie desde las 00:00:00 hasta las 23:59:59, el programa en Python deberá mostrar el siguiente resultado\n",
    "\n",
    "Ø 00:00:00\n",
    "\n",
    "Ø 00:00:01\n",
    "\n",
    "Ø .\n",
    "\n",
    "Ø .\n",
    "\n",
    "Ø .\n",
    "\n",
    "Ø 00:01:59\n",
    "\n",
    "Ø 00:02:00\n",
    "\n",
    "Ø .\n",
    "\n",
    "Ø .\n",
    "\n",
    "Ø .\n",
    "\n",
    "Ø 01:01:01\n",
    "\n",
    "Ø .\n",
    "\n",
    "Ø .\n",
    "\n",
    "Ø .\n",
    "\n",
    "Ø 23:59:59\n",
    "\n",
    "Note que las horas, minutos y segundos están expresadas con dos dígitos por lo que se tendrá que realizar las validaciones correspondientes para mostrarlas como se indica. "
   ]
  },
  {
   "cell_type": "code",
   "execution_count": null,
   "metadata": {},
   "outputs": [],
   "source": [
    "for i in range()"
   ]
  }
 ],
 "metadata": {
  "kernelspec": {
   "display_name": "Python 3",
   "language": "python",
   "name": "python3"
  },
  "language_info": {
   "codemirror_mode": {
    "name": "ipython",
    "version": 3
   },
   "file_extension": ".py",
   "mimetype": "text/x-python",
   "name": "python",
   "nbconvert_exporter": "python",
   "pygments_lexer": "ipython3",
   "version": "3.6.8"
  }
 },
 "nbformat": 4,
 "nbformat_minor": 2
}
